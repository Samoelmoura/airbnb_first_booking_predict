{
 "cells": [
  {
   "cell_type": "markdown",
   "id": "17947240",
   "metadata": {
    "heading_collapsed": true
   },
   "source": [
    "# 0.0 Imports"
   ]
  },
  {
   "cell_type": "code",
   "execution_count": 1,
   "id": "e71abd30",
   "metadata": {
    "ExecuteTime": {
     "end_time": "2022-12-07T19:44:43.096881Z",
     "start_time": "2022-12-07T19:44:39.128850Z"
    },
    "hidden": true
   },
   "outputs": [],
   "source": [
    "import pandas as pd\n",
    "import numpy as np\n",
    "import matplotlib.pyplot as plt\n",
    "import seaborn as sns\n",
    "\n",
    "from keras import models as ml\n",
    "from keras import layers as l\n",
    "\n",
    "from sklearn import preprocessing as pp\n",
    "from sklearn import metrics as m\n",
    "from sklearn import model_selection as ms\n",
    "\n",
    "from xgboost import XGBClassifier\n",
    "\n",
    "from scipy.stats import chi2_contingency\n",
    "from scikitplot import metrics as mt"
   ]
  },
  {
   "cell_type": "markdown",
   "id": "72336cae",
   "metadata": {
    "heading_collapsed": true,
    "hidden": true
   },
   "source": [
    "## 0.1 Importing Data"
   ]
  },
  {
   "cell_type": "code",
   "execution_count": 2,
   "id": "84fe214a",
   "metadata": {
    "ExecuteTime": {
     "end_time": "2022-12-07T19:44:49.317084Z",
     "start_time": "2022-12-07T19:44:43.098877Z"
    },
    "hidden": true,
    "scrolled": false
   },
   "outputs": [],
   "source": [
    "users_raw = pd.read_csv('D:\\\\My Drive\\\\Pessoal\\\\projetos\\\\airbnb_first_booking_predict\\\\data\\\\raw\\\\train_users_2.csv')\n",
    "sessions_raw = pd.read_csv('D:\\\\My Drive\\\\Pessoal\\\\projetos\\\\airbnb_first_booking_predict\\\\data\\\\raw\\\\sessions.csv')"
   ]
  },
  {
   "cell_type": "markdown",
   "id": "31fe56c4",
   "metadata": {
    "hidden": true
   },
   "source": [
    "## 0.2 Helper Functions"
   ]
  },
  {
   "cell_type": "code",
   "execution_count": 3,
   "id": "f571b39e",
   "metadata": {
    "ExecuteTime": {
     "end_time": "2022-12-07T19:44:49.332163Z",
     "start_time": "2022-12-07T19:44:49.318087Z"
    },
    "hidden": true
   },
   "outputs": [],
   "source": [
    "# correlations between categorical attributes by Pearson method\n",
    "def cramer_v(x, y):\n",
    "    cm = pd.crosstab(x, y).values\n",
    "    n = cm.sum()\n",
    "    r, k = cm.shape\n",
    "    chi2 = chi2_contingency(cm)[0]\n",
    "    chi2corr = max(0, chi2-(k-1)*(r-1)/(n-1))\n",
    "    kcorr = k-(k-1)**2/(n-1)\n",
    "    rcorr = r-(r-1)**2/(n-1)\n",
    "    return round(np.sqrt((chi2corr/n)/( min(kcorr-1, rcorr-1))), 2)"
   ]
  },
  {
   "cell_type": "markdown",
   "id": "389a21f3",
   "metadata": {
    "heading_collapsed": true
   },
   "source": [
    "# 1.0 Data Description"
   ]
  },
  {
   "cell_type": "code",
   "execution_count": 4,
   "id": "9c5b3f72",
   "metadata": {
    "ExecuteTime": {
     "end_time": "2022-12-07T19:44:49.506856Z",
     "start_time": "2022-12-07T19:44:49.336149Z"
    },
    "hidden": true
   },
   "outputs": [],
   "source": [
    "users1 = users_raw.copy()\n",
    "sessions1 = sessions_raw.copy()"
   ]
  },
  {
   "cell_type": "markdown",
   "id": "65be35d2",
   "metadata": {
    "heading_collapsed": true,
    "hidden": true
   },
   "source": [
    "## 1.1 Looking Dataset"
   ]
  },
  {
   "cell_type": "code",
   "execution_count": 5,
   "id": "add2b74d",
   "metadata": {
    "ExecuteTime": {
     "end_time": "2022-12-07T19:44:49.553699Z",
     "start_time": "2022-12-07T19:44:49.508763Z"
    },
    "hidden": true
   },
   "outputs": [
    {
     "data": {
      "text/html": [
       "<div>\n",
       "<style scoped>\n",
       "    .dataframe tbody tr th:only-of-type {\n",
       "        vertical-align: middle;\n",
       "    }\n",
       "\n",
       "    .dataframe tbody tr th {\n",
       "        vertical-align: top;\n",
       "    }\n",
       "\n",
       "    .dataframe thead th {\n",
       "        text-align: right;\n",
       "    }\n",
       "</style>\n",
       "<table border=\"1\" class=\"dataframe\">\n",
       "  <thead>\n",
       "    <tr style=\"text-align: right;\">\n",
       "      <th></th>\n",
       "      <th>id</th>\n",
       "      <th>date_account_created</th>\n",
       "      <th>timestamp_first_active</th>\n",
       "      <th>date_first_booking</th>\n",
       "      <th>gender</th>\n",
       "      <th>age</th>\n",
       "      <th>signup_method</th>\n",
       "      <th>signup_flow</th>\n",
       "      <th>language</th>\n",
       "      <th>affiliate_channel</th>\n",
       "      <th>affiliate_provider</th>\n",
       "      <th>first_affiliate_tracked</th>\n",
       "      <th>signup_app</th>\n",
       "      <th>first_device_type</th>\n",
       "      <th>first_browser</th>\n",
       "      <th>country_destination</th>\n",
       "    </tr>\n",
       "  </thead>\n",
       "  <tbody>\n",
       "    <tr>\n",
       "      <th>0</th>\n",
       "      <td>gxn3p5htnn</td>\n",
       "      <td>2010-06-28</td>\n",
       "      <td>20090319043255</td>\n",
       "      <td>NaN</td>\n",
       "      <td>-unknown-</td>\n",
       "      <td>NaN</td>\n",
       "      <td>facebook</td>\n",
       "      <td>0</td>\n",
       "      <td>en</td>\n",
       "      <td>direct</td>\n",
       "      <td>direct</td>\n",
       "      <td>untracked</td>\n",
       "      <td>Web</td>\n",
       "      <td>Mac Desktop</td>\n",
       "      <td>Chrome</td>\n",
       "      <td>NDF</td>\n",
       "    </tr>\n",
       "    <tr>\n",
       "      <th>1</th>\n",
       "      <td>820tgsjxq7</td>\n",
       "      <td>2011-05-25</td>\n",
       "      <td>20090523174809</td>\n",
       "      <td>NaN</td>\n",
       "      <td>MALE</td>\n",
       "      <td>38.0</td>\n",
       "      <td>facebook</td>\n",
       "      <td>0</td>\n",
       "      <td>en</td>\n",
       "      <td>seo</td>\n",
       "      <td>google</td>\n",
       "      <td>untracked</td>\n",
       "      <td>Web</td>\n",
       "      <td>Mac Desktop</td>\n",
       "      <td>Chrome</td>\n",
       "      <td>NDF</td>\n",
       "    </tr>\n",
       "    <tr>\n",
       "      <th>2</th>\n",
       "      <td>4ft3gnwmtx</td>\n",
       "      <td>2010-09-28</td>\n",
       "      <td>20090609231247</td>\n",
       "      <td>2010-08-02</td>\n",
       "      <td>FEMALE</td>\n",
       "      <td>56.0</td>\n",
       "      <td>basic</td>\n",
       "      <td>3</td>\n",
       "      <td>en</td>\n",
       "      <td>direct</td>\n",
       "      <td>direct</td>\n",
       "      <td>untracked</td>\n",
       "      <td>Web</td>\n",
       "      <td>Windows Desktop</td>\n",
       "      <td>IE</td>\n",
       "      <td>US</td>\n",
       "    </tr>\n",
       "    <tr>\n",
       "      <th>3</th>\n",
       "      <td>bjjt8pjhuk</td>\n",
       "      <td>2011-12-05</td>\n",
       "      <td>20091031060129</td>\n",
       "      <td>2012-09-08</td>\n",
       "      <td>FEMALE</td>\n",
       "      <td>42.0</td>\n",
       "      <td>facebook</td>\n",
       "      <td>0</td>\n",
       "      <td>en</td>\n",
       "      <td>direct</td>\n",
       "      <td>direct</td>\n",
       "      <td>untracked</td>\n",
       "      <td>Web</td>\n",
       "      <td>Mac Desktop</td>\n",
       "      <td>Firefox</td>\n",
       "      <td>other</td>\n",
       "    </tr>\n",
       "    <tr>\n",
       "      <th>4</th>\n",
       "      <td>87mebub9p4</td>\n",
       "      <td>2010-09-14</td>\n",
       "      <td>20091208061105</td>\n",
       "      <td>2010-02-18</td>\n",
       "      <td>-unknown-</td>\n",
       "      <td>41.0</td>\n",
       "      <td>basic</td>\n",
       "      <td>0</td>\n",
       "      <td>en</td>\n",
       "      <td>direct</td>\n",
       "      <td>direct</td>\n",
       "      <td>untracked</td>\n",
       "      <td>Web</td>\n",
       "      <td>Mac Desktop</td>\n",
       "      <td>Chrome</td>\n",
       "      <td>US</td>\n",
       "    </tr>\n",
       "  </tbody>\n",
       "</table>\n",
       "</div>"
      ],
      "text/plain": [
       "           id date_account_created  timestamp_first_active date_first_booking  \\\n",
       "0  gxn3p5htnn           2010-06-28          20090319043255                NaN   \n",
       "1  820tgsjxq7           2011-05-25          20090523174809                NaN   \n",
       "2  4ft3gnwmtx           2010-09-28          20090609231247         2010-08-02   \n",
       "3  bjjt8pjhuk           2011-12-05          20091031060129         2012-09-08   \n",
       "4  87mebub9p4           2010-09-14          20091208061105         2010-02-18   \n",
       "\n",
       "      gender   age signup_method  signup_flow language affiliate_channel  \\\n",
       "0  -unknown-   NaN      facebook            0       en            direct   \n",
       "1       MALE  38.0      facebook            0       en               seo   \n",
       "2     FEMALE  56.0         basic            3       en            direct   \n",
       "3     FEMALE  42.0      facebook            0       en            direct   \n",
       "4  -unknown-  41.0         basic            0       en            direct   \n",
       "\n",
       "  affiliate_provider first_affiliate_tracked signup_app first_device_type  \\\n",
       "0             direct               untracked        Web       Mac Desktop   \n",
       "1             google               untracked        Web       Mac Desktop   \n",
       "2             direct               untracked        Web   Windows Desktop   \n",
       "3             direct               untracked        Web       Mac Desktop   \n",
       "4             direct               untracked        Web       Mac Desktop   \n",
       "\n",
       "  first_browser country_destination  \n",
       "0        Chrome                 NDF  \n",
       "1        Chrome                 NDF  \n",
       "2            IE                  US  \n",
       "3       Firefox               other  \n",
       "4        Chrome                  US  "
      ]
     },
     "execution_count": 5,
     "metadata": {},
     "output_type": "execute_result"
    }
   ],
   "source": [
    "users1.head(5)"
   ]
  },
  {
   "cell_type": "markdown",
   "id": "eeaf82f3",
   "metadata": {
    "hidden": true
   },
   "source": [
    "* A data da criação da conta em alguns casos é posterior a data do primeiro booking"
   ]
  },
  {
   "cell_type": "code",
   "execution_count": 6,
   "id": "183afde1",
   "metadata": {
    "ExecuteTime": {
     "end_time": "2022-12-07T19:44:49.584912Z",
     "start_time": "2022-12-07T19:44:49.557745Z"
    },
    "hidden": true
   },
   "outputs": [
    {
     "data": {
      "text/html": [
       "<div>\n",
       "<style scoped>\n",
       "    .dataframe tbody tr th:only-of-type {\n",
       "        vertical-align: middle;\n",
       "    }\n",
       "\n",
       "    .dataframe tbody tr th {\n",
       "        vertical-align: top;\n",
       "    }\n",
       "\n",
       "    .dataframe thead th {\n",
       "        text-align: right;\n",
       "    }\n",
       "</style>\n",
       "<table border=\"1\" class=\"dataframe\">\n",
       "  <thead>\n",
       "    <tr style=\"text-align: right;\">\n",
       "      <th></th>\n",
       "      <th>user_id</th>\n",
       "      <th>action</th>\n",
       "      <th>action_type</th>\n",
       "      <th>action_detail</th>\n",
       "      <th>device_type</th>\n",
       "      <th>secs_elapsed</th>\n",
       "    </tr>\n",
       "  </thead>\n",
       "  <tbody>\n",
       "    <tr>\n",
       "      <th>0</th>\n",
       "      <td>d1mm9tcy42</td>\n",
       "      <td>lookup</td>\n",
       "      <td>NaN</td>\n",
       "      <td>NaN</td>\n",
       "      <td>Windows Desktop</td>\n",
       "      <td>319.0</td>\n",
       "    </tr>\n",
       "    <tr>\n",
       "      <th>1</th>\n",
       "      <td>d1mm9tcy42</td>\n",
       "      <td>search_results</td>\n",
       "      <td>click</td>\n",
       "      <td>view_search_results</td>\n",
       "      <td>Windows Desktop</td>\n",
       "      <td>67753.0</td>\n",
       "    </tr>\n",
       "    <tr>\n",
       "      <th>2</th>\n",
       "      <td>d1mm9tcy42</td>\n",
       "      <td>lookup</td>\n",
       "      <td>NaN</td>\n",
       "      <td>NaN</td>\n",
       "      <td>Windows Desktop</td>\n",
       "      <td>301.0</td>\n",
       "    </tr>\n",
       "    <tr>\n",
       "      <th>3</th>\n",
       "      <td>d1mm9tcy42</td>\n",
       "      <td>search_results</td>\n",
       "      <td>click</td>\n",
       "      <td>view_search_results</td>\n",
       "      <td>Windows Desktop</td>\n",
       "      <td>22141.0</td>\n",
       "    </tr>\n",
       "    <tr>\n",
       "      <th>4</th>\n",
       "      <td>d1mm9tcy42</td>\n",
       "      <td>lookup</td>\n",
       "      <td>NaN</td>\n",
       "      <td>NaN</td>\n",
       "      <td>Windows Desktop</td>\n",
       "      <td>435.0</td>\n",
       "    </tr>\n",
       "  </tbody>\n",
       "</table>\n",
       "</div>"
      ],
      "text/plain": [
       "      user_id          action action_type        action_detail  \\\n",
       "0  d1mm9tcy42          lookup         NaN                  NaN   \n",
       "1  d1mm9tcy42  search_results       click  view_search_results   \n",
       "2  d1mm9tcy42          lookup         NaN                  NaN   \n",
       "3  d1mm9tcy42  search_results       click  view_search_results   \n",
       "4  d1mm9tcy42          lookup         NaN                  NaN   \n",
       "\n",
       "       device_type  secs_elapsed  \n",
       "0  Windows Desktop         319.0  \n",
       "1  Windows Desktop       67753.0  \n",
       "2  Windows Desktop         301.0  \n",
       "3  Windows Desktop       22141.0  \n",
       "4  Windows Desktop         435.0  "
      ]
     },
     "execution_count": 6,
     "metadata": {},
     "output_type": "execute_result"
    }
   ],
   "source": [
    "sessions1.head()"
   ]
  },
  {
   "cell_type": "markdown",
   "id": "f2040251",
   "metadata": {
    "heading_collapsed": true,
    "hidden": true
   },
   "source": [
    "## 1.2 Data Dimension"
   ]
  },
  {
   "cell_type": "code",
   "execution_count": 7,
   "id": "f243b986",
   "metadata": {
    "ExecuteTime": {
     "end_time": "2022-12-07T19:44:49.600084Z",
     "start_time": "2022-12-07T19:44:49.586949Z"
    },
    "hidden": true
   },
   "outputs": [
    {
     "name": "stdout",
     "output_type": "stream",
     "text": [
      "Usuários\n",
      "Há: 213451 linhas no total\n",
      "Há: 16 colunas no total\n"
     ]
    }
   ],
   "source": [
    "print('Usuários')\n",
    "print(f'Há: {users1.shape[0]} linhas no total')\n",
    "print(f'Há: {users1.shape[1]} colunas no total')"
   ]
  },
  {
   "cell_type": "code",
   "execution_count": 8,
   "id": "80f31240",
   "metadata": {
    "ExecuteTime": {
     "end_time": "2022-12-07T19:44:49.614836Z",
     "start_time": "2022-12-07T19:44:49.601243Z"
    },
    "hidden": true
   },
   "outputs": [
    {
     "name": "stdout",
     "output_type": "stream",
     "text": [
      "Sessions\n",
      "Há: 10567737 linhas no total\n",
      "Há: 6 colunas no total\n"
     ]
    }
   ],
   "source": [
    "print('Sessions')\n",
    "print(f'Há: {sessions1.shape[0]} linhas no total')\n",
    "print(f'Há: {sessions1.shape[1]} colunas no total')"
   ]
  },
  {
   "cell_type": "markdown",
   "id": "19c6d256",
   "metadata": {
    "heading_collapsed": true,
    "hidden": true
   },
   "source": [
    "## 1.3 Datatypes"
   ]
  },
  {
   "cell_type": "code",
   "execution_count": 9,
   "id": "028eeec9",
   "metadata": {
    "ExecuteTime": {
     "end_time": "2022-12-07T19:44:49.630702Z",
     "start_time": "2022-12-07T19:44:49.616748Z"
    },
    "hidden": true
   },
   "outputs": [
    {
     "name": "stdout",
     "output_type": "stream",
     "text": [
      "Usuários\n"
     ]
    },
    {
     "data": {
      "text/plain": [
       "id                          object\n",
       "date_account_created        object\n",
       "timestamp_first_active       int64\n",
       "date_first_booking          object\n",
       "gender                      object\n",
       "age                        float64\n",
       "signup_method               object\n",
       "signup_flow                  int64\n",
       "language                    object\n",
       "affiliate_channel           object\n",
       "affiliate_provider          object\n",
       "first_affiliate_tracked     object\n",
       "signup_app                  object\n",
       "first_device_type           object\n",
       "first_browser               object\n",
       "country_destination         object\n",
       "dtype: object"
      ]
     },
     "execution_count": 9,
     "metadata": {},
     "output_type": "execute_result"
    }
   ],
   "source": [
    "print('Usuários')\n",
    "users1.dtypes"
   ]
  },
  {
   "cell_type": "code",
   "execution_count": 10,
   "id": "d8e6578f",
   "metadata": {
    "ExecuteTime": {
     "end_time": "2022-12-07T19:44:49.646664Z",
     "start_time": "2022-12-07T19:44:49.635686Z"
    },
    "hidden": true
   },
   "outputs": [
    {
     "name": "stdout",
     "output_type": "stream",
     "text": [
      "Navegação\n"
     ]
    },
    {
     "data": {
      "text/plain": [
       "user_id           object\n",
       "action            object\n",
       "action_type       object\n",
       "action_detail     object\n",
       "device_type       object\n",
       "secs_elapsed     float64\n",
       "dtype: object"
      ]
     },
     "execution_count": 10,
     "metadata": {},
     "output_type": "execute_result"
    }
   ],
   "source": [
    "print('Navegação')\n",
    "sessions1.dtypes"
   ]
  },
  {
   "cell_type": "markdown",
   "id": "616992a2",
   "metadata": {
    "heading_collapsed": true,
    "hidden": true
   },
   "source": [
    "## 1.4 Check Na"
   ]
  },
  {
   "cell_type": "code",
   "execution_count": 11,
   "id": "e2e2a119",
   "metadata": {
    "ExecuteTime": {
     "end_time": "2022-12-07T19:44:49.945930Z",
     "start_time": "2022-12-07T19:44:49.648954Z"
    },
    "hidden": true,
    "scrolled": false
   },
   "outputs": [
    {
     "name": "stdout",
     "output_type": "stream",
     "text": [
      "Usuários\n"
     ]
    },
    {
     "data": {
      "text/plain": [
       "id                         0.000000\n",
       "date_account_created       0.000000\n",
       "timestamp_first_active     0.000000\n",
       "date_first_booking         0.583473\n",
       "gender                     0.000000\n",
       "age                        0.412226\n",
       "signup_method              0.000000\n",
       "signup_flow                0.000000\n",
       "language                   0.000000\n",
       "affiliate_channel          0.000000\n",
       "affiliate_provider         0.000000\n",
       "first_affiliate_tracked    0.028414\n",
       "signup_app                 0.000000\n",
       "first_device_type          0.000000\n",
       "first_browser              0.000000\n",
       "country_destination        0.000000\n",
       "dtype: float64"
      ]
     },
     "execution_count": 11,
     "metadata": {},
     "output_type": "execute_result"
    }
   ],
   "source": [
    "print('Usuários')\n",
    "users1.isna().sum()  / users1['id'].count()"
   ]
  },
  {
   "cell_type": "code",
   "execution_count": 12,
   "id": "42559fb9",
   "metadata": {
    "ExecuteTime": {
     "end_time": "2022-12-07T19:44:55.630976Z",
     "start_time": "2022-12-07T19:44:49.948929Z"
    },
    "hidden": true
   },
   "outputs": [
    {
     "name": "stdout",
     "output_type": "stream",
     "text": [
      "Sessions\n"
     ]
    },
    {
     "data": {
      "text/plain": [
       "user_id          0.003275\n",
       "action           0.007559\n",
       "action_type      0.106919\n",
       "action_detail    0.106919\n",
       "device_type      0.000000\n",
       "secs_elapsed     0.012914\n",
       "dtype: float64"
      ]
     },
     "execution_count": 12,
     "metadata": {},
     "output_type": "execute_result"
    }
   ],
   "source": [
    "print('Sessions')\n",
    "sessions1.isna().sum() / sessions1['user_id'].count()"
   ]
  },
  {
   "cell_type": "markdown",
   "id": "56f920be",
   "metadata": {
    "hidden": true
   },
   "source": [
    "* action_type e action_detail possuem a mesma quantidade de NaN's, aparentemente ou são altamente correlacionadas ou são derivadas de uma mesma característica"
   ]
  },
  {
   "cell_type": "markdown",
   "id": "2d60b158",
   "metadata": {
    "heading_collapsed": true,
    "hidden": true
   },
   "source": [
    "## 1.5 Filout Na"
   ]
  },
  {
   "cell_type": "markdown",
   "id": "b186fb26",
   "metadata": {
    "heading_collapsed": true,
    "hidden": true
   },
   "source": [
    "### 1.5.1 Users"
   ]
  },
  {
   "cell_type": "code",
   "execution_count": 13,
   "id": "bdd58fb0",
   "metadata": {
    "ExecuteTime": {
     "end_time": "2022-12-07T19:44:55.646122Z",
     "start_time": "2022-12-07T19:44:55.633973Z"
    },
    "hidden": true
   },
   "outputs": [],
   "source": [
    "users1_qtd_base = users1.shape[0]"
   ]
  },
  {
   "cell_type": "code",
   "execution_count": 14,
   "id": "082eb682",
   "metadata": {
    "ExecuteTime": {
     "end_time": "2022-12-07T19:44:58.489785Z",
     "start_time": "2022-12-07T19:44:55.649111Z"
    },
    "hidden": true
   },
   "outputs": [
    {
     "data": {
      "text/plain": [
       "<AxesSubplot:>"
      ]
     },
     "execution_count": 14,
     "metadata": {},
     "output_type": "execute_result"
    },
    {
     "data": {
      "image/png": "[encoded data removed]",
      "text/plain": [
       "<Figure size 432x288 with 2 Axes>"
      ]
     },
     "metadata": {
      "needs_background": "light"
     },
     "output_type": "display_data"
    }
   ],
   "source": [
    "sns.heatmap(users1.isna())"
   ]
  },
  {
   "cell_type": "markdown",
   "id": "4a1484a3",
   "metadata": {
    "heading_collapsed": true,
    "hidden": true
   },
   "source": [
    "#### 1.5.1 date_first_booking"
   ]
  },
  {
   "cell_type": "code",
   "execution_count": 15,
   "id": "67ec370c",
   "metadata": {
    "ExecuteTime": {
     "end_time": "2022-12-07T19:44:58.553110Z",
     "start_time": "2022-12-07T19:44:58.491965Z"
    },
    "hidden": true
   },
   "outputs": [
    {
     "data": {
      "text/plain": [
       "NDF    124543\n",
       "Name: country_destination, dtype: int64"
      ]
     },
     "execution_count": 15,
     "metadata": {},
     "output_type": "execute_result"
    }
   ],
   "source": [
    "users1[users1['date_first_booking'].isna()]['country_destination'].value_counts()"
   ]
  },
  {
   "cell_type": "markdown",
   "id": "8bd2b182",
   "metadata": {
    "hidden": true
   },
   "source": [
    "Usuários que ainda não fizeram um \"booking\" são classificados como \"NDF (No Destination Found)\", e são NaN's em date_first_booking. Para completar os dados dessa feature, em um ambiente empresarial real o input dos dados faltantes dessa feature se daria pela data atual, como o dataset é de dados históricos, os dados serão inputados com a data máxima do dataset."
   ]
  },
  {
   "cell_type": "markdown",
   "id": "5caf6b22",
   "metadata": {
    "heading_collapsed": true,
    "hidden": true
   },
   "source": [
    "#### 1.5.2 age"
   ]
  },
  {
   "cell_type": "code",
   "execution_count": 16,
   "id": "4176e565",
   "metadata": {
    "ExecuteTime": {
     "end_time": "2022-12-07T19:44:58.790384Z",
     "start_time": "2022-12-07T19:44:58.555534Z"
    },
    "hidden": true
   },
   "outputs": [
    {
     "data": {
      "image/png": "[encoded data removed]",
      "text/plain": [
       "<Figure size 1800x360 with 1 Axes>"
      ]
     },
     "metadata": {
      "needs_background": "light"
     },
     "output_type": "display_data"
    }
   ],
   "source": [
    "temp = users1.groupby('country_destination').agg({'age': 'mean'}).reset_index()\n",
    "sns.catplot(data=temp, x='country_destination', y='age', kind='bar', aspect=5)\n",
    "plt.title('age by country_destination', fontsize=35)\n",
    "plt.xlabel('country_destination', fontsize=25)\n",
    "plt.ylabel('age', fontsize=25);"
   ]
  },
  {
   "cell_type": "markdown",
   "id": "1877f754",
   "metadata": {
    "hidden": true
   },
   "source": [
    "A distribuição parece uniforme em todas as categorias de country_destination"
   ]
  },
  {
   "cell_type": "code",
   "execution_count": 17,
   "id": "56c08f1c",
   "metadata": {
    "ExecuteTime": {
     "end_time": "2022-12-07T19:44:58.900758Z",
     "start_time": "2022-12-07T19:44:58.792549Z"
    },
    "hidden": true,
    "scrolled": false
   },
   "outputs": [
    {
     "name": "stderr",
     "output_type": "stream",
     "text": [
      "D:\\My Drive\\Pessoal\\environments\\data_science\\lib\\site-packages\\seaborn\\_decorators.py:36: FutureWarning: Pass the following variable as a keyword arg: x. From version 0.12, the only valid positional argument will be `data`, and passing other arguments without an explicit keyword will result in an error or misinterpretation.\n",
      "  warnings.warn(\n"
     ]
    },
    {
     "data": {
      "image/png": "[encoded data removed]",
      "text/plain": [
       "<Figure size 432x288 with 1 Axes>"
      ]
     },
     "metadata": {
      "needs_background": "light"
     },
     "output_type": "display_data"
    }
   ],
   "source": [
    "# plt.figure(figsize=(20, 5))\n",
    "sns.boxplot(users1['age']);"
   ]
  },
  {
   "cell_type": "markdown",
   "id": "ac0eafb7",
   "metadata": {
    "hidden": true
   },
   "source": [
    "* Outliers com idade de 2000 anos, erros de input"
   ]
  },
  {
   "cell_type": "code",
   "execution_count": 18,
   "id": "3e51629f",
   "metadata": {
    "ExecuteTime": {
     "end_time": "2022-12-07T19:44:58.932664Z",
     "start_time": "2022-12-07T19:44:58.903721Z"
    },
    "hidden": true
   },
   "outputs": [
    {
     "name": "stdout",
     "output_type": "stream",
     "text": [
      "Média = 49.66833517985669\n",
      "Mediana = 34.0\n"
     ]
    }
   ],
   "source": [
    "print(f'Média = {users1[\"age\"].mean()}')\n",
    "print(f'Mediana = {users1[\"age\"].median()}')"
   ]
  },
  {
   "cell_type": "markdown",
   "id": "44b69b07",
   "metadata": {
    "hidden": true
   },
   "source": [
    "* Bastante deslocadas por conta dos outliers"
   ]
  },
  {
   "cell_type": "code",
   "execution_count": 19,
   "id": "9d19e081",
   "metadata": {
    "ExecuteTime": {
     "end_time": "2022-12-07T19:44:59.247733Z",
     "start_time": "2022-12-07T19:44:58.936610Z"
    },
    "hidden": true,
    "scrolled": false
   },
   "outputs": [
    {
     "data": {
      "image/png": "[encoded data removed]",
      "text/plain": [
       "<Figure size 432x288 with 1 Axes>"
      ]
     },
     "metadata": {
      "needs_background": "light"
     },
     "output_type": "display_data"
    }
   ],
   "source": [
    "# plt.figure(figsize=(20, 5))\n",
    "sns.histplot(users1.loc[users1['age']<=85, 'age']);"
   ]
  },
  {
   "cell_type": "markdown",
   "id": "f2a29a4c",
   "metadata": {
    "hidden": true
   },
   "source": [
    "Parecida com uma NORMAL, apesar de possuir um SKEW POSITIVO (cauda direita mais pesada). Uma distribuição NORMAL com média e desvio padrão similares pode ser uma boa forma de substituição dos Nas"
   ]
  },
  {
   "cell_type": "code",
   "execution_count": 20,
   "id": "f4e7eae3",
   "metadata": {
    "ExecuteTime": {
     "end_time": "2022-12-07T19:44:59.771151Z",
     "start_time": "2022-12-07T19:44:59.250466Z"
    },
    "hidden": true
   },
   "outputs": [
    {
     "data": {
      "image/png": "[encoded data removed]",
      "text/plain": [
       "<Figure size 432x288 with 1 Axes>"
      ]
     },
     "metadata": {
      "needs_background": "light"
     },
     "output_type": "display_data"
    }
   ],
   "source": [
    "loc = users1.loc[users1['age']<=85, 'age'].mean()\n",
    "scale = users1.loc[users1['age']<=85, 'age'].std()\n",
    "size = temp = users1.loc[users1['age'].isna()]['id'].count()\n",
    "random_norm_age = np.random.normal(loc=loc, scale=scale, size=size)\n",
    "temp = users1.copy()\n",
    "temp.loc[users1['age'].isna(), 'age'] = random_norm_age\n",
    "\n",
    "sns.histplot(temp.loc[temp['age']<=85, 'age']);"
   ]
  },
  {
   "cell_type": "markdown",
   "id": "87620580",
   "metadata": {
    "heading_collapsed": true,
    "hidden": true
   },
   "source": [
    "#### 1.5.3 first_affiliate_tracked"
   ]
  },
  {
   "cell_type": "code",
   "execution_count": 21,
   "id": "99f795c1",
   "metadata": {
    "ExecuteTime": {
     "end_time": "2022-12-07T19:44:59.817888Z",
     "start_time": "2022-12-07T19:44:59.775146Z"
    },
    "hidden": true
   },
   "outputs": [
    {
     "data": {
      "text/plain": [
       "untracked        109232\n",
       "linked            46287\n",
       "omg               43982\n",
       "tracked-other      6156\n",
       "product            1556\n",
       "marketing           139\n",
       "local ops            34\n",
       "Name: first_affiliate_tracked, dtype: int64"
      ]
     },
     "execution_count": 21,
     "metadata": {},
     "output_type": "execute_result"
    }
   ],
   "source": [
    "users1['first_affiliate_tracked'].value_counts()"
   ]
  },
  {
   "cell_type": "code",
   "execution_count": 22,
   "id": "f2c149d1",
   "metadata": {
    "ExecuteTime": {
     "end_time": "2022-12-07T19:44:59.849641Z",
     "start_time": "2022-12-07T19:44:59.820446Z"
    },
    "hidden": true
   },
   "outputs": [
    {
     "data": {
      "text/plain": [
       "NDF      4327\n",
       "US       1309\n",
       "FR        124\n",
       "other     113\n",
       "IT         44\n",
       "CA         37\n",
       "ES         36\n",
       "GB         29\n",
       "DE         20\n",
       "AU         12\n",
       "NL         11\n",
       "PT          3\n",
       "Name: country_destination, dtype: int64"
      ]
     },
     "execution_count": 22,
     "metadata": {},
     "output_type": "execute_result"
    }
   ],
   "source": [
    "users1[users1['first_affiliate_tracked'].isna()]['country_destination'].value_counts()"
   ]
  },
  {
   "cell_type": "markdown",
   "id": "4a2f488f",
   "metadata": {
    "hidden": true
   },
   "source": [
    "As amostras NaN's estão dispesas em todas as categorias de países destinos. Uma abortagem para este problema seria o input utilizando a frequência por categoria de country_destination, porém, tratando-se de uma variável categórica, onde há uma chance grande de inputarmos junto com isso um viés, e tratando-se de uma porcentagem baixa em relação ao total da base, droparemos as amostras com NaN's nessa feature."
   ]
  },
  {
   "cell_type": "markdown",
   "id": "0a487147",
   "metadata": {
    "heading_collapsed": true,
    "hidden": true
   },
   "source": [
    "#### 1.5.4 Filout Na"
   ]
  },
  {
   "cell_type": "code",
   "execution_count": 23,
   "id": "9edd9a6d",
   "metadata": {
    "ExecuteTime": {
     "end_time": "2022-12-07T19:44:59.976606Z",
     "start_time": "2022-12-07T19:44:59.852902Z"
    },
    "hidden": true
   },
   "outputs": [
    {
     "name": "stdout",
     "output_type": "stream",
     "text": [
      "Porcentagem da base removida: 2.84%\n"
     ]
    }
   ],
   "source": [
    "# date_first_booking\n",
    "users1['date_account_created'] = pd.to_datetime(users1['date_account_created'])\n",
    "temp = users1['date_account_created'].max().strftime('%Y-%m-%d')\n",
    "users1['date_first_booking'].fillna(temp, inplace=True)\n",
    "\n",
    "# age\n",
    "loc = users1.loc[users1['age']<=85, 'age'].mean()\n",
    "scale = users1.loc[users1['age']<=85, 'age'].std()\n",
    "size = temp = users1.loc[users1['age'].isna()]['id'].count()\n",
    "random_norm_age = np.random.normal(loc=loc, scale=scale, size=size)\n",
    "users1.loc[users1['age'].isna(), 'age'] = random_norm_age\n",
    "\n",
    "# first_affiliate_tracked\n",
    "users1 = users1[~users1['first_affiliate_tracked'].isna()]\n",
    "\n",
    "print(f'Porcentagem da base removida: {round((users1_qtd_base - users1.shape[0]) * 100/ users1_qtd_base, 2)}%')"
   ]
  },
  {
   "cell_type": "markdown",
   "id": "b2a64aa6",
   "metadata": {
    "heading_collapsed": true,
    "hidden": true
   },
   "source": [
    "### 1.5.2 Sessions"
   ]
  },
  {
   "cell_type": "code",
   "execution_count": 24,
   "id": "6a36970f",
   "metadata": {
    "ExecuteTime": {
     "end_time": "2022-12-07T19:44:59.992235Z",
     "start_time": "2022-12-07T19:44:59.979547Z"
    },
    "hidden": true
   },
   "outputs": [],
   "source": [
    "sessions1_qtd_base = sessions1.shape[0]"
   ]
  },
  {
   "cell_type": "code",
   "execution_count": 25,
   "id": "ab440eb0",
   "metadata": {
    "ExecuteTime": {
     "end_time": "2022-12-07T19:45:53.898646Z",
     "start_time": "2022-12-07T19:44:59.994164Z"
    },
    "hidden": true
   },
   "outputs": [
    {
     "data": {
      "text/plain": [
       "<AxesSubplot:>"
      ]
     },
     "execution_count": 25,
     "metadata": {},
     "output_type": "execute_result"
    },
    {
     "data": {
      "image/png": "[encoded data removed]",
      "text/plain": [
       "<Figure size 432x288 with 2 Axes>"
      ]
     },
     "metadata": {
      "needs_background": "light"
     },
     "output_type": "display_data"
    }
   ],
   "source": [
    "sns.heatmap(sessions1.isna())"
   ]
  },
  {
   "cell_type": "markdown",
   "id": "ed38e2c3",
   "metadata": {
    "hidden": true
   },
   "source": [
    "* action_type e action_detail são NaN's juntamente"
   ]
  },
  {
   "cell_type": "markdown",
   "id": "96218314",
   "metadata": {
    "heading_collapsed": true,
    "hidden": true
   },
   "source": [
    "#### 1.5.2.1 user_id"
   ]
  },
  {
   "cell_type": "markdown",
   "id": "0a8cda61",
   "metadata": {
    "hidden": true
   },
   "source": [
    "user_id é a chave para a concatenação com users, portanto não há outra alternativa para o drop"
   ]
  },
  {
   "cell_type": "markdown",
   "id": "e776707f",
   "metadata": {
    "heading_collapsed": true,
    "hidden": true
   },
   "source": [
    "#### 1.5.2.2 action"
   ]
  },
  {
   "cell_type": "markdown",
   "id": "7be3e8bc",
   "metadata": {
    "hidden": true
   },
   "source": [
    "action possui somente 0.007 de NaN's, portanto será removida"
   ]
  },
  {
   "cell_type": "markdown",
   "id": "fb06afe9",
   "metadata": {
    "heading_collapsed": true,
    "hidden": true
   },
   "source": [
    "#### 1.5.2.3 action_type e action_detail"
   ]
  },
  {
   "cell_type": "code",
   "execution_count": 26,
   "id": "6b32e5de",
   "metadata": {
    "ExecuteTime": {
     "end_time": "2022-12-07T19:45:54.485719Z",
     "start_time": "2022-12-07T19:45:53.903630Z"
    },
    "hidden": true
   },
   "outputs": [
    {
     "data": {
      "text/plain": [
       "view                3560902\n",
       "data                2103770\n",
       "click               1996183\n",
       "-unknown-           1031170\n",
       "submit               623357\n",
       "message_post          87103\n",
       "partner_callback      19132\n",
       "booking_request       18773\n",
       "modify                 1139\n",
       "booking_response          4\n",
       "Name: action_type, dtype: int64"
      ]
     },
     "execution_count": 26,
     "metadata": {},
     "output_type": "execute_result"
    }
   ],
   "source": [
    "sessions1['action_type'].value_counts()"
   ]
  },
  {
   "cell_type": "code",
   "execution_count": 27,
   "id": "31c4c013",
   "metadata": {
    "ExecuteTime": {
     "end_time": "2022-12-07T19:45:54.944514Z",
     "start_time": "2022-12-07T19:45:54.487823Z"
    },
    "hidden": true
   },
   "outputs": [
    {
     "data": {
      "text/plain": [
       "show                      582144\n",
       "similar_listings_v2       168788\n",
       "lookup                    162041\n",
       "campaigns                 104709\n",
       "track_page_view            81117\n",
       "index                      16733\n",
       "localization_settings       5403\n",
       "uptodate                    3342\n",
       "signed_out_modal            1058\n",
       "currencies                   292\n",
       "update                       225\n",
       "check                        120\n",
       "braintree_client_token       120\n",
       "widget                        75\n",
       "phone_verification            16\n",
       "satisfy                        9\n",
       "track_activity                 6\n",
       "disaster_action                6\n",
       "Name: action, dtype: int64"
      ]
     },
     "execution_count": 27,
     "metadata": {},
     "output_type": "execute_result"
    }
   ],
   "source": [
    "sessions1.loc[sessions1['action_type'].isna(), 'action'].value_counts()"
   ]
  },
  {
   "cell_type": "markdown",
   "id": "75dbee00",
   "metadata": {
    "hidden": true
   },
   "source": [
    "Diversificado demais para poder descobrir um padrão de reconhecimento de falha em action_type olhando para a action de origem. Provavelmente o que ocorre nas variáveis de sessions é uma arvore de classes onde o pai das classes é a action, e as outras variáveis são classificações dentro de action, e nem toda action possui uma classificação de action_type ou action_detail. Será criada uma categoria nova do tipo \"without classification\""
   ]
  },
  {
   "cell_type": "markdown",
   "id": "79b6e52a",
   "metadata": {
    "heading_collapsed": true,
    "hidden": true
   },
   "source": [
    "#### 1.5.2.4 secs_elapsed"
   ]
  },
  {
   "cell_type": "markdown",
   "id": "9120c572",
   "metadata": {
    "hidden": true
   },
   "source": [
    "secs_elapsed possui somente 0.01 de NaN's, portanto será removida"
   ]
  },
  {
   "cell_type": "markdown",
   "id": "9d4210be",
   "metadata": {
    "heading_collapsed": true,
    "hidden": true
   },
   "source": [
    "#### 1.5.2.5 Filout NaN's"
   ]
  },
  {
   "cell_type": "code",
   "execution_count": 28,
   "id": "ee7611bb",
   "metadata": {
    "ExecuteTime": {
     "end_time": "2022-12-07T19:45:58.022486Z",
     "start_time": "2022-12-07T19:45:54.951298Z"
    },
    "hidden": true
   },
   "outputs": [
    {
     "name": "stdout",
     "output_type": "stream",
     "text": [
      "Porcentagem da base removida: 2.21%\n"
     ]
    }
   ],
   "source": [
    "# 'user_id'\n",
    "sessions1 = sessions1.loc[~sessions1['user_id'].isna()]\n",
    "\n",
    "# 'action'\n",
    "sessions1 = sessions1.loc[~sessions1['action'].isna()]\n",
    "\n",
    "# 'action_type'\n",
    "sessions1.loc[sessions1['action_type'].isna(), 'action_type'] = 'without_classification'\n",
    "\n",
    "# 'action_detail'\n",
    "sessions1.loc[sessions1['action_detail'].isna(), 'action_detail'] = 'without_classification'\n",
    "\n",
    "# 'secs_elapsed'\n",
    "sessions1 = sessions1.loc[~sessions1['secs_elapsed'].isna()]\n",
    "\n",
    "print(f'Porcentagem da base removida: {round((sessions1_qtd_base - sessions1.shape[0]) * 100/ sessions1_qtd_base, 2)}%')"
   ]
  },
  {
   "cell_type": "markdown",
   "id": "9be5bd15",
   "metadata": {
    "heading_collapsed": true,
    "hidden": true
   },
   "source": [
    "## 1.6 Changing datatype"
   ]
  },
  {
   "cell_type": "markdown",
   "id": "ca14d967",
   "metadata": {
    "heading_collapsed": true,
    "hidden": true
   },
   "source": [
    "### 1.6.1 users"
   ]
  },
  {
   "cell_type": "code",
   "execution_count": 29,
   "id": "b5ad1c6a",
   "metadata": {
    "ExecuteTime": {
     "end_time": "2022-12-07T19:45:59.926719Z",
     "start_time": "2022-12-07T19:45:58.027481Z"
    },
    "hidden": true
   },
   "outputs": [],
   "source": [
    "# date_account_created\n",
    "users1['date_account_created'] = pd.to_datetime(users1['date_account_created'])\n",
    "\n",
    "# timestamp_first_active\n",
    "users1['timestamp_first_active'] = pd.to_datetime(users1['timestamp_first_active'], format='%Y%m%d%H%M%S')\n",
    "users1['timestamp_first_active'] = pd.to_datetime(users1['timestamp_first_active']).dt.strftime('%Y-%m-%d')\n",
    "\n",
    "# date_first_booking\n",
    "users1['date_first_booking'] = pd.to_datetime(users1['date_first_booking'])\n",
    "\n",
    "# age\n",
    "users1['age'] = users1['age'].astype(int)"
   ]
  },
  {
   "cell_type": "markdown",
   "id": "7b7af338",
   "metadata": {
    "heading_collapsed": true,
    "hidden": true
   },
   "source": [
    "### 1.6.2 sessions"
   ]
  },
  {
   "cell_type": "markdown",
   "id": "ec519a6f",
   "metadata": {
    "heading_collapsed": true,
    "hidden": true
   },
   "source": [
    "## 1.7 Check Balanced Data"
   ]
  },
  {
   "cell_type": "code",
   "execution_count": 30,
   "id": "c2cc1982",
   "metadata": {
    "ExecuteTime": {
     "end_time": "2022-12-07T19:45:59.957942Z",
     "start_time": "2022-12-07T19:45:59.928704Z"
    },
    "hidden": true
   },
   "outputs": [
    {
     "data": {
      "text/plain": [
       "NDF      0.579673\n",
       "US       0.294461\n",
       "other    0.048128\n",
       "FR       0.023623\n",
       "IT       0.013458\n",
       "GB       0.011066\n",
       "ES       0.010671\n",
       "CA       0.006707\n",
       "DE       0.005020\n",
       "NL       0.003621\n",
       "AU       0.002541\n",
       "PT       0.001032\n",
       "Name: country_destination, dtype: float64"
      ]
     },
     "execution_count": 30,
     "metadata": {},
     "output_type": "execute_result"
    }
   ],
   "source": [
    "users1['country_destination'].value_counts(normalize=True)"
   ]
  },
  {
   "cell_type": "markdown",
   "id": "88e9d7a0",
   "metadata": {
    "heading_collapsed": true,
    "hidden": true
   },
   "source": [
    "## 1.8 Descriptive Statistic"
   ]
  },
  {
   "cell_type": "markdown",
   "id": "61b5424c",
   "metadata": {
    "heading_collapsed": true,
    "hidden": true
   },
   "source": [
    "### 1.8.1 users"
   ]
  },
  {
   "cell_type": "markdown",
   "id": "dac8c0de",
   "metadata": {
    "heading_collapsed": true,
    "hidden": true
   },
   "source": [
    "#### 1.8.1.1 Numerical Attributes"
   ]
  },
  {
   "cell_type": "code",
   "execution_count": 31,
   "id": "f1db2f7f",
   "metadata": {
    "ExecuteTime": {
     "end_time": "2022-12-07T19:45:59.973584Z",
     "start_time": "2022-12-07T19:45:59.960018Z"
    },
    "hidden": true
   },
   "outputs": [],
   "source": [
    "users_num_attributes = users1.select_dtypes(include=[int, float]).columns.to_list()"
   ]
  },
  {
   "cell_type": "code",
   "execution_count": 32,
   "id": "7ff946c9",
   "metadata": {
    "ExecuteTime": {
     "end_time": "2022-12-07T19:46:00.131311Z",
     "start_time": "2022-12-07T19:45:59.975488Z"
    },
    "hidden": true
   },
   "outputs": [
    {
     "data": {
      "text/html": [
       "<div>\n",
       "<style scoped>\n",
       "    .dataframe tbody tr th:only-of-type {\n",
       "        vertical-align: middle;\n",
       "    }\n",
       "\n",
       "    .dataframe tbody tr th {\n",
       "        vertical-align: top;\n",
       "    }\n",
       "\n",
       "    .dataframe thead th {\n",
       "        text-align: right;\n",
       "    }\n",
       "</style>\n",
       "<table border=\"1\" class=\"dataframe\">\n",
       "  <thead>\n",
       "    <tr style=\"text-align: right;\">\n",
       "      <th></th>\n",
       "      <th>min</th>\n",
       "      <th>max</th>\n",
       "      <th>range</th>\n",
       "      <th>mean</th>\n",
       "      <th>median</th>\n",
       "      <th>std</th>\n",
       "      <th>skew</th>\n",
       "      <th>kurtosis</th>\n",
       "    </tr>\n",
       "  </thead>\n",
       "  <tbody>\n",
       "    <tr>\n",
       "      <th>age</th>\n",
       "      <td>-9.0</td>\n",
       "      <td>2014.0</td>\n",
       "      <td>2023.0</td>\n",
       "      <td>43.894834</td>\n",
       "      <td>35.0</td>\n",
       "      <td>118.825472</td>\n",
       "      <td>16.299667</td>\n",
       "      <td>266.885528</td>\n",
       "    </tr>\n",
       "    <tr>\n",
       "      <th>signup_flow</th>\n",
       "      <td>0.0</td>\n",
       "      <td>25.0</td>\n",
       "      <td>25.0</td>\n",
       "      <td>3.151490</td>\n",
       "      <td>0.0</td>\n",
       "      <td>7.543915</td>\n",
       "      <td>2.287158</td>\n",
       "      <td>3.567794</td>\n",
       "    </tr>\n",
       "  </tbody>\n",
       "</table>\n",
       "</div>"
      ],
      "text/plain": [
       "             min     max   range       mean  median         std       skew  \\\n",
       "age         -9.0  2014.0  2023.0  43.894834    35.0  118.825472  16.299667   \n",
       "signup_flow  0.0    25.0    25.0   3.151490     0.0    7.543915   2.287158   \n",
       "\n",
       "               kurtosis  \n",
       "age          266.885528  \n",
       "signup_flow    3.567794  "
      ]
     },
     "execution_count": 32,
     "metadata": {},
     "output_type": "execute_result"
    }
   ],
   "source": [
    "# Central Tendency - mean, median\n",
    "ct1 = pd.DataFrame(users1[users_num_attributes].apply(np.mean)).T\n",
    "ct2 = pd.DataFrame(users1[users_num_attributes].apply(np.median)).T\n",
    "\n",
    "# Dispersion - std, min, max, range, skew, kurtosis\n",
    "d1 = pd.DataFrame(users1[users_num_attributes].apply(np.std)).T\n",
    "d2 = pd.DataFrame(users1[users_num_attributes].apply(min)).T\n",
    "d3 = pd.DataFrame(users1[users_num_attributes].apply(max)).T\n",
    "d4 = pd.DataFrame(users1[users_num_attributes].apply(lambda x: x.max() - x.min())).T\n",
    "d5 = pd.DataFrame(users1[users_num_attributes].apply(lambda x: x.skew())).T\n",
    "d6 = pd.DataFrame(users1[users_num_attributes].apply(lambda x: x.kurtosis())).T\n",
    "\n",
    "m = pd.concat([d2, d3, d4, ct1, ct2, d1, d5, d6]).T\n",
    "m.columns = 'min max range mean median std skew kurtosis'.split()\n",
    "m"
   ]
  },
  {
   "cell_type": "markdown",
   "id": "c7032f35",
   "metadata": {
    "hidden": true
   },
   "source": [
    "* age com números negativos, e pessoas máxima com erro também, média e mediana bastante deslocadas por conta de outliers, desvio padrão altíssimo, skew alta positiva, o que sugere causa direita mais pesada e kurtosis com um pico muito elevado. Os dados sugerem uma POISON com erros de input. Por exemplo, a idade máxima parece estar bastante ligada ao ano da data atual.\n",
    "* signup_flow com range de 25, média de 3.15 e mediana de 0, o que indicam muitos valores zerados, skew e kurtosis sugerem uma Normal, mas considerando os outros parâmetros, deve estar mais próxima a uma POISON"
   ]
  },
  {
   "cell_type": "markdown",
   "id": "f29585ce",
   "metadata": {
    "heading_collapsed": true,
    "hidden": true
   },
   "source": [
    "#### 1.8.1.2 Cattegorical Attributes"
   ]
  },
  {
   "cell_type": "code",
   "execution_count": 33,
   "id": "73b49388",
   "metadata": {
    "ExecuteTime": {
     "end_time": "2022-12-07T19:46:00.146825Z",
     "start_time": "2022-12-07T19:46:00.137301Z"
    },
    "hidden": true
   },
   "outputs": [],
   "source": [
    "users_cat_attributes = users1.select_dtypes(exclude=[int, float, 'datetime64[ns]']).columns.to_list()\n",
    "users_cat_attributes.remove('id')"
   ]
  },
  {
   "cell_type": "code",
   "execution_count": 34,
   "id": "74b6904f",
   "metadata": {
    "ExecuteTime": {
     "end_time": "2022-12-07T19:46:00.384483Z",
     "start_time": "2022-12-07T19:46:00.149929Z"
    },
    "hidden": true
   },
   "outputs": [
    {
     "data": {
      "text/html": [
       "<div>\n",
       "<style scoped>\n",
       "    .dataframe tbody tr th:only-of-type {\n",
       "        vertical-align: middle;\n",
       "    }\n",
       "\n",
       "    .dataframe tbody tr th {\n",
       "        vertical-align: top;\n",
       "    }\n",
       "\n",
       "    .dataframe thead th {\n",
       "        text-align: right;\n",
       "    }\n",
       "</style>\n",
       "<table border=\"1\" class=\"dataframe\">\n",
       "  <thead>\n",
       "    <tr style=\"text-align: right;\">\n",
       "      <th></th>\n",
       "      <th>count</th>\n",
       "      <th>unique</th>\n",
       "      <th>top</th>\n",
       "      <th>freq</th>\n",
       "    </tr>\n",
       "  </thead>\n",
       "  <tbody>\n",
       "    <tr>\n",
       "      <th>timestamp_first_active</th>\n",
       "      <td>207386</td>\n",
       "      <td>1635</td>\n",
       "      <td>2014-05-13</td>\n",
       "      <td>672</td>\n",
       "    </tr>\n",
       "    <tr>\n",
       "      <th>gender</th>\n",
       "      <td>207386</td>\n",
       "      <td>4</td>\n",
       "      <td>-unknown-</td>\n",
       "      <td>91783</td>\n",
       "    </tr>\n",
       "    <tr>\n",
       "      <th>signup_method</th>\n",
       "      <td>207386</td>\n",
       "      <td>3</td>\n",
       "      <td>basic</td>\n",
       "      <td>148297</td>\n",
       "    </tr>\n",
       "    <tr>\n",
       "      <th>language</th>\n",
       "      <td>207386</td>\n",
       "      <td>25</td>\n",
       "      <td>en</td>\n",
       "      <td>200415</td>\n",
       "    </tr>\n",
       "    <tr>\n",
       "      <th>affiliate_channel</th>\n",
       "      <td>207386</td>\n",
       "      <td>8</td>\n",
       "      <td>direct</td>\n",
       "      <td>134179</td>\n",
       "    </tr>\n",
       "    <tr>\n",
       "      <th>affiliate_provider</th>\n",
       "      <td>207386</td>\n",
       "      <td>18</td>\n",
       "      <td>direct</td>\n",
       "      <td>133935</td>\n",
       "    </tr>\n",
       "    <tr>\n",
       "      <th>first_affiliate_tracked</th>\n",
       "      <td>207386</td>\n",
       "      <td>7</td>\n",
       "      <td>untracked</td>\n",
       "      <td>109232</td>\n",
       "    </tr>\n",
       "    <tr>\n",
       "      <th>signup_app</th>\n",
       "      <td>207386</td>\n",
       "      <td>4</td>\n",
       "      <td>Web</td>\n",
       "      <td>178334</td>\n",
       "    </tr>\n",
       "    <tr>\n",
       "      <th>first_device_type</th>\n",
       "      <td>207386</td>\n",
       "      <td>9</td>\n",
       "      <td>Mac Desktop</td>\n",
       "      <td>89600</td>\n",
       "    </tr>\n",
       "    <tr>\n",
       "      <th>first_browser</th>\n",
       "      <td>207386</td>\n",
       "      <td>52</td>\n",
       "      <td>Chrome</td>\n",
       "      <td>63845</td>\n",
       "    </tr>\n",
       "    <tr>\n",
       "      <th>country_destination</th>\n",
       "      <td>207386</td>\n",
       "      <td>12</td>\n",
       "      <td>NDF</td>\n",
       "      <td>120216</td>\n",
       "    </tr>\n",
       "  </tbody>\n",
       "</table>\n",
       "</div>"
      ],
      "text/plain": [
       "                          count unique          top    freq\n",
       "timestamp_first_active   207386   1635   2014-05-13     672\n",
       "gender                   207386      4    -unknown-   91783\n",
       "signup_method            207386      3        basic  148297\n",
       "language                 207386     25           en  200415\n",
       "affiliate_channel        207386      8       direct  134179\n",
       "affiliate_provider       207386     18       direct  133935\n",
       "first_affiliate_tracked  207386      7    untracked  109232\n",
       "signup_app               207386      4          Web  178334\n",
       "first_device_type        207386      9  Mac Desktop   89600\n",
       "first_browser            207386     52       Chrome   63845\n",
       "country_destination      207386     12          NDF  120216"
      ]
     },
     "execution_count": 34,
     "metadata": {},
     "output_type": "execute_result"
    }
   ],
   "source": [
    "users1[users_cat_attributes].describe().T"
   ]
  },
  {
   "cell_type": "markdown",
   "id": "aac2247d",
   "metadata": {
    "hidden": true
   },
   "source": [
    "* linguage, affiliate_provider e first_browser com muitas dimensões "
   ]
  },
  {
   "cell_type": "code",
   "execution_count": 35,
   "id": "1a16ff10",
   "metadata": {
    "ExecuteTime": {
     "end_time": "2022-12-07T19:46:10.757459Z",
     "start_time": "2022-12-07T19:46:00.388470Z"
    },
    "hidden": true,
    "scrolled": false
   },
   "outputs": [
    {
     "data": {
      "image/png": "[encoded data removed]",
      "text/plain": [
       "<Figure size 1440x1440 with 1 Axes>"
      ]
     },
     "metadata": {
      "needs_background": "light"
     },
     "output_type": "display_data"
    }
   ],
   "source": [
    "cramer_correlation = []\n",
    "temp = users1[users_cat_attributes]\n",
    "n_cols = len(temp.columns.to_list())\n",
    "\n",
    "for i, col_1 in enumerate(temp[users_cat_attributes]):\n",
    "    for j, col_2 in enumerate(temp[users_cat_attributes]):\n",
    "        cramer_correlation.append(cramer_v(temp[col_1], temp[col_2]))\n",
    "        \n",
    "matrix = pd.DataFrame(np.array(cramer_correlation).reshape(n_cols, n_cols), index=users_cat_attributes, columns=users_cat_attributes)\n",
    "\n",
    "plt.figure(figsize=(20, 20))\n",
    "sns.heatmap(matrix, annot=True, cbar=False, annot_kws={'fontsize':15});"
   ]
  },
  {
   "cell_type": "markdown",
   "id": "647428bc",
   "metadata": {
    "hidden": true
   },
   "source": [
    "Correlações no máximo altas."
   ]
  },
  {
   "cell_type": "markdown",
   "id": "81fef4e3",
   "metadata": {
    "heading_collapsed": true,
    "hidden": true
   },
   "source": [
    "### 1.8.2 sessions"
   ]
  },
  {
   "cell_type": "markdown",
   "id": "d43974d6",
   "metadata": {
    "ExecuteTime": {
     "end_time": "2022-12-07T13:00:22.751717Z",
     "start_time": "2022-12-07T13:00:22.740753Z"
    },
    "heading_collapsed": true,
    "hidden": true
   },
   "source": [
    "#### 1.8.2.1 Numerical Attributes"
   ]
  },
  {
   "cell_type": "code",
   "execution_count": 36,
   "id": "f75d12be",
   "metadata": {
    "ExecuteTime": {
     "end_time": "2022-12-07T19:46:10.773528Z",
     "start_time": "2022-12-07T19:46:10.760451Z"
    },
    "hidden": true
   },
   "outputs": [],
   "source": [
    "sessions_num_attributes = sessions1.select_dtypes(include=[int, float]).columns.to_list()"
   ]
  },
  {
   "cell_type": "code",
   "execution_count": 37,
   "id": "ad9b24f0",
   "metadata": {
    "ExecuteTime": {
     "end_time": "2022-12-07T19:46:12.862812Z",
     "start_time": "2022-12-07T19:46:10.776444Z"
    },
    "hidden": true
   },
   "outputs": [
    {
     "data": {
      "text/html": [
       "<div>\n",
       "<style scoped>\n",
       "    .dataframe tbody tr th:only-of-type {\n",
       "        vertical-align: middle;\n",
       "    }\n",
       "\n",
       "    .dataframe tbody tr th {\n",
       "        vertical-align: top;\n",
       "    }\n",
       "\n",
       "    .dataframe thead th {\n",
       "        text-align: right;\n",
       "    }\n",
       "</style>\n",
       "<table border=\"1\" class=\"dataframe\">\n",
       "  <thead>\n",
       "    <tr style=\"text-align: right;\">\n",
       "      <th></th>\n",
       "      <th>min</th>\n",
       "      <th>max</th>\n",
       "      <th>range</th>\n",
       "      <th>mean</th>\n",
       "      <th>median</th>\n",
       "      <th>std</th>\n",
       "      <th>skew</th>\n",
       "      <th>kurtosis</th>\n",
       "    </tr>\n",
       "  </thead>\n",
       "  <tbody>\n",
       "    <tr>\n",
       "      <th>secs_elapsed</th>\n",
       "      <td>0.0</td>\n",
       "      <td>1799977.0</td>\n",
       "      <td>1799977.0</td>\n",
       "      <td>18852.061447</td>\n",
       "      <td>1132.0</td>\n",
       "      <td>87471.902045</td>\n",
       "      <td>11.377108</td>\n",
       "      <td>161.061418</td>\n",
       "    </tr>\n",
       "  </tbody>\n",
       "</table>\n",
       "</div>"
      ],
      "text/plain": [
       "              min        max      range          mean  median           std  \\\n",
       "secs_elapsed  0.0  1799977.0  1799977.0  18852.061447  1132.0  87471.902045   \n",
       "\n",
       "                   skew    kurtosis  \n",
       "secs_elapsed  11.377108  161.061418  "
      ]
     },
     "execution_count": 37,
     "metadata": {},
     "output_type": "execute_result"
    }
   ],
   "source": [
    "# Central Tendency - mean, median\n",
    "ct1 = pd.DataFrame(sessions1[sessions_num_attributes].apply(np.mean)).T\n",
    "ct2 = pd.DataFrame(sessions1[sessions_num_attributes].apply(np.median)).T\n",
    "\n",
    "# Dispersion - std, min, max, range, skew, kurtosis\n",
    "d1 = pd.DataFrame(sessions1[sessions_num_attributes].apply(np.std)).T\n",
    "d2 = pd.DataFrame(sessions1[sessions_num_attributes].apply(min)).T\n",
    "d3 = pd.DataFrame(sessions1[sessions_num_attributes].apply(max)).T\n",
    "d4 = pd.DataFrame(sessions1[sessions_num_attributes].apply(lambda x: x.max() - x.min())).T\n",
    "d5 = pd.DataFrame(sessions1[sessions_num_attributes].apply(lambda x: x.skew())).T\n",
    "d6 = pd.DataFrame(sessions1[sessions_num_attributes].apply(lambda x: x.kurtosis())).T\n",
    "\n",
    "m = pd.concat([d2, d3, d4, ct1, ct2, d1, d5, d6]).T\n",
    "m.columns = 'min max range mean median std skew kurtosis'.split()\n",
    "m"
   ]
  },
  {
   "cell_type": "markdown",
   "id": "390ed313",
   "metadata": {
    "hidden": true
   },
   "source": [
    "* sects_elapse com valores zerados, o que não faz sentido para o negócio, skew e kurtosis super altos, média e mediana extremamente deslocados, range gigantesco."
   ]
  },
  {
   "cell_type": "markdown",
   "id": "25e42668",
   "metadata": {
    "heading_collapsed": true,
    "hidden": true
   },
   "source": [
    "#### 1.8.2.2 Cattegorical Attributes"
   ]
  },
  {
   "cell_type": "code",
   "execution_count": 38,
   "id": "7094eb60",
   "metadata": {
    "ExecuteTime": {
     "end_time": "2022-12-07T19:46:12.877891Z",
     "start_time": "2022-12-07T19:46:12.866026Z"
    },
    "hidden": true
   },
   "outputs": [],
   "source": [
    "sessions_cat_attributes = sessions1.select_dtypes(exclude=[int, float, 'datetime64[ns]']).columns.to_list()\n",
    "sessions_cat_attributes.remove('user_id')"
   ]
  },
  {
   "cell_type": "code",
   "execution_count": 39,
   "id": "442a06f0",
   "metadata": {
    "ExecuteTime": {
     "end_time": "2022-12-07T19:46:17.114350Z",
     "start_time": "2022-12-07T19:46:12.883869Z"
    },
    "hidden": true,
    "scrolled": true
   },
   "outputs": [
    {
     "data": {
      "text/html": [
       "<div>\n",
       "<style scoped>\n",
       "    .dataframe tbody tr th:only-of-type {\n",
       "        vertical-align: middle;\n",
       "    }\n",
       "\n",
       "    .dataframe tbody tr th {\n",
       "        vertical-align: top;\n",
       "    }\n",
       "\n",
       "    .dataframe thead th {\n",
       "        text-align: right;\n",
       "    }\n",
       "</style>\n",
       "<table border=\"1\" class=\"dataframe\">\n",
       "  <thead>\n",
       "    <tr style=\"text-align: right;\">\n",
       "      <th></th>\n",
       "      <th>action</th>\n",
       "      <th>action_type</th>\n",
       "      <th>action_detail</th>\n",
       "      <th>device_type</th>\n",
       "    </tr>\n",
       "  </thead>\n",
       "  <tbody>\n",
       "    <tr>\n",
       "      <th>count</th>\n",
       "      <td>10333696</td>\n",
       "      <td>10333696</td>\n",
       "      <td>10333696</td>\n",
       "      <td>10333696</td>\n",
       "    </tr>\n",
       "    <tr>\n",
       "      <th>unique</th>\n",
       "      <td>359</td>\n",
       "      <td>11</td>\n",
       "      <td>156</td>\n",
       "      <td>14</td>\n",
       "    </tr>\n",
       "    <tr>\n",
       "      <th>top</th>\n",
       "      <td>show</td>\n",
       "      <td>view</td>\n",
       "      <td>view_search_results</td>\n",
       "      <td>Mac Desktop</td>\n",
       "    </tr>\n",
       "    <tr>\n",
       "      <th>freq</th>\n",
       "      <td>2758841</td>\n",
       "      <td>3545621</td>\n",
       "      <td>1770931</td>\n",
       "      <td>3513600</td>\n",
       "    </tr>\n",
       "  </tbody>\n",
       "</table>\n",
       "</div>"
      ],
      "text/plain": [
       "          action action_type        action_detail  device_type\n",
       "count   10333696    10333696             10333696     10333696\n",
       "unique       359          11                  156           14\n",
       "top         show        view  view_search_results  Mac Desktop\n",
       "freq     2758841     3545621              1770931      3513600"
      ]
     },
     "execution_count": 39,
     "metadata": {},
     "output_type": "execute_result"
    }
   ],
   "source": [
    "sessions1[sessions_cat_attributes].describe()"
   ]
  },
  {
   "cell_type": "markdown",
   "id": "f7250d48",
   "metadata": {
    "hidden": true
   },
   "source": [
    "* muitas dimensões em action e action_detail, o que dificulta a parte de encoding"
   ]
  },
  {
   "cell_type": "code",
   "execution_count": 40,
   "id": "a8ceaf09",
   "metadata": {
    "ExecuteTime": {
     "end_time": "2022-12-07T19:46:52.823237Z",
     "start_time": "2022-12-07T19:46:17.119232Z"
    },
    "hidden": true,
    "scrolled": false
   },
   "outputs": [
    {
     "data": {
      "image/png": "[encoded data removed]",
      "text/plain": [
       "<Figure size 432x288 with 1 Axes>"
      ]
     },
     "metadata": {
      "needs_background": "light"
     },
     "output_type": "display_data"
    }
   ],
   "source": [
    "cramer_correlation = []\n",
    "temp = sessions1[sessions_cat_attributes]\n",
    "n_cols = len(temp.columns.to_list())\n",
    "\n",
    "for i, col_1 in enumerate(temp[sessions_cat_attributes]):\n",
    "    for j, col_2 in enumerate(temp[sessions_cat_attributes]):\n",
    "        cramer_correlation.append(cramer_v(temp[col_1], temp[col_2]))\n",
    "        \n",
    "matrix = pd.DataFrame(np.array(cramer_correlation).reshape(n_cols, n_cols), index=sessions_cat_attributes, columns=sessions_cat_attributes)\n",
    "\n",
    "# plt.figure(figsize=(10, 10))\n",
    "sns.heatmap(matrix, annot=True, cbar=False);"
   ]
  },
  {
   "cell_type": "markdown",
   "id": "04b05ae3",
   "metadata": {
    "hidden": true
   },
   "source": [
    "* action e action_type altamente correlacionadas, o que sugere que carreguem o mesmo tipo de informação, possivelmente seja mais interessnate trabalhar somente com uma das duas, para manter coerência de acordo com a Navalha de Occam\n",
    "* mesmo caso com action_type e action_detail "
   ]
  },
  {
   "cell_type": "markdown",
   "id": "509ece9b",
   "metadata": {
    "heading_collapsed": true,
    "hidden": true
   },
   "source": [
    "## 1.9 Concatenation and Data Description Integral Dataframe"
   ]
  },
  {
   "cell_type": "code",
   "execution_count": 41,
   "id": "f011b432",
   "metadata": {
    "ExecuteTime": {
     "end_time": "2022-12-07T19:46:52.838837Z",
     "start_time": "2022-12-07T19:46:52.827252Z"
    },
    "hidden": true
   },
   "outputs": [],
   "source": [
    "sessions1.rename(columns = {'user_id':'id'}, inplace=True)"
   ]
  },
  {
   "cell_type": "code",
   "execution_count": 42,
   "id": "c5838c35",
   "metadata": {
    "ExecuteTime": {
     "end_time": "2022-12-07T19:46:58.514084Z",
     "start_time": "2022-12-07T19:46:52.841803Z"
    },
    "hidden": true
   },
   "outputs": [],
   "source": [
    "sessions1\n",
    "df1 = users1.merge(sessions1, how='left', on='id')"
   ]
  },
  {
   "cell_type": "markdown",
   "id": "99ff0431",
   "metadata": {
    "heading_collapsed": true,
    "hidden": true
   },
   "source": [
    "### 1.9.1 Looking dataframe"
   ]
  },
  {
   "cell_type": "code",
   "execution_count": 43,
   "id": "0c945705",
   "metadata": {
    "ExecuteTime": {
     "end_time": "2022-12-07T19:46:58.544915Z",
     "start_time": "2022-12-07T19:46:58.518013Z"
    },
    "hidden": true
   },
   "outputs": [
    {
     "data": {
      "text/html": [
       "<div>\n",
       "<style scoped>\n",
       "    .dataframe tbody tr th:only-of-type {\n",
       "        vertical-align: middle;\n",
       "    }\n",
       "\n",
       "    .dataframe tbody tr th {\n",
       "        vertical-align: top;\n",
       "    }\n",
       "\n",
       "    .dataframe thead th {\n",
       "        text-align: right;\n",
       "    }\n",
       "</style>\n",
       "<table border=\"1\" class=\"dataframe\">\n",
       "  <thead>\n",
       "    <tr style=\"text-align: right;\">\n",
       "      <th></th>\n",
       "      <th>id</th>\n",
       "      <th>date_account_created</th>\n",
       "      <th>timestamp_first_active</th>\n",
       "      <th>date_first_booking</th>\n",
       "      <th>gender</th>\n",
       "      <th>age</th>\n",
       "      <th>signup_method</th>\n",
       "      <th>signup_flow</th>\n",
       "      <th>language</th>\n",
       "      <th>affiliate_channel</th>\n",
       "      <th>...</th>\n",
       "      <th>first_affiliate_tracked</th>\n",
       "      <th>signup_app</th>\n",
       "      <th>first_device_type</th>\n",
       "      <th>first_browser</th>\n",
       "      <th>country_destination</th>\n",
       "      <th>action</th>\n",
       "      <th>action_type</th>\n",
       "      <th>action_detail</th>\n",
       "      <th>device_type</th>\n",
       "      <th>secs_elapsed</th>\n",
       "    </tr>\n",
       "  </thead>\n",
       "  <tbody>\n",
       "    <tr>\n",
       "      <th>0</th>\n",
       "      <td>gxn3p5htnn</td>\n",
       "      <td>2010-06-28</td>\n",
       "      <td>2009-03-19</td>\n",
       "      <td>2014-06-30</td>\n",
       "      <td>-unknown-</td>\n",
       "      <td>35</td>\n",
       "      <td>facebook</td>\n",
       "      <td>0</td>\n",
       "      <td>en</td>\n",
       "      <td>direct</td>\n",
       "      <td>...</td>\n",
       "      <td>untracked</td>\n",
       "      <td>Web</td>\n",
       "      <td>Mac Desktop</td>\n",
       "      <td>Chrome</td>\n",
       "      <td>NDF</td>\n",
       "      <td>NaN</td>\n",
       "      <td>NaN</td>\n",
       "      <td>NaN</td>\n",
       "      <td>NaN</td>\n",
       "      <td>NaN</td>\n",
       "    </tr>\n",
       "    <tr>\n",
       "      <th>1</th>\n",
       "      <td>820tgsjxq7</td>\n",
       "      <td>2011-05-25</td>\n",
       "      <td>2009-05-23</td>\n",
       "      <td>2014-06-30</td>\n",
       "      <td>MALE</td>\n",
       "      <td>38</td>\n",
       "      <td>facebook</td>\n",
       "      <td>0</td>\n",
       "      <td>en</td>\n",
       "      <td>seo</td>\n",
       "      <td>...</td>\n",
       "      <td>untracked</td>\n",
       "      <td>Web</td>\n",
       "      <td>Mac Desktop</td>\n",
       "      <td>Chrome</td>\n",
       "      <td>NDF</td>\n",
       "      <td>NaN</td>\n",
       "      <td>NaN</td>\n",
       "      <td>NaN</td>\n",
       "      <td>NaN</td>\n",
       "      <td>NaN</td>\n",
       "    </tr>\n",
       "    <tr>\n",
       "      <th>2</th>\n",
       "      <td>4ft3gnwmtx</td>\n",
       "      <td>2010-09-28</td>\n",
       "      <td>2009-06-09</td>\n",
       "      <td>2010-08-02</td>\n",
       "      <td>FEMALE</td>\n",
       "      <td>56</td>\n",
       "      <td>basic</td>\n",
       "      <td>3</td>\n",
       "      <td>en</td>\n",
       "      <td>direct</td>\n",
       "      <td>...</td>\n",
       "      <td>untracked</td>\n",
       "      <td>Web</td>\n",
       "      <td>Windows Desktop</td>\n",
       "      <td>IE</td>\n",
       "      <td>US</td>\n",
       "      <td>NaN</td>\n",
       "      <td>NaN</td>\n",
       "      <td>NaN</td>\n",
       "      <td>NaN</td>\n",
       "      <td>NaN</td>\n",
       "    </tr>\n",
       "    <tr>\n",
       "      <th>3</th>\n",
       "      <td>bjjt8pjhuk</td>\n",
       "      <td>2011-12-05</td>\n",
       "      <td>2009-10-31</td>\n",
       "      <td>2012-09-08</td>\n",
       "      <td>FEMALE</td>\n",
       "      <td>42</td>\n",
       "      <td>facebook</td>\n",
       "      <td>0</td>\n",
       "      <td>en</td>\n",
       "      <td>direct</td>\n",
       "      <td>...</td>\n",
       "      <td>untracked</td>\n",
       "      <td>Web</td>\n",
       "      <td>Mac Desktop</td>\n",
       "      <td>Firefox</td>\n",
       "      <td>other</td>\n",
       "      <td>NaN</td>\n",
       "      <td>NaN</td>\n",
       "      <td>NaN</td>\n",
       "      <td>NaN</td>\n",
       "      <td>NaN</td>\n",
       "    </tr>\n",
       "    <tr>\n",
       "      <th>4</th>\n",
       "      <td>87mebub9p4</td>\n",
       "      <td>2010-09-14</td>\n",
       "      <td>2009-12-08</td>\n",
       "      <td>2010-02-18</td>\n",
       "      <td>-unknown-</td>\n",
       "      <td>41</td>\n",
       "      <td>basic</td>\n",
       "      <td>0</td>\n",
       "      <td>en</td>\n",
       "      <td>direct</td>\n",
       "      <td>...</td>\n",
       "      <td>untracked</td>\n",
       "      <td>Web</td>\n",
       "      <td>Mac Desktop</td>\n",
       "      <td>Chrome</td>\n",
       "      <td>US</td>\n",
       "      <td>NaN</td>\n",
       "      <td>NaN</td>\n",
       "      <td>NaN</td>\n",
       "      <td>NaN</td>\n",
       "      <td>NaN</td>\n",
       "    </tr>\n",
       "  </tbody>\n",
       "</table>\n",
       "<p>5 rows × 21 columns</p>\n",
       "</div>"
      ],
      "text/plain": [
       "           id date_account_created timestamp_first_active date_first_booking  \\\n",
       "0  gxn3p5htnn           2010-06-28             2009-03-19         2014-06-30   \n",
       "1  820tgsjxq7           2011-05-25             2009-05-23         2014-06-30   \n",
       "2  4ft3gnwmtx           2010-09-28             2009-06-09         2010-08-02   \n",
       "3  bjjt8pjhuk           2011-12-05             2009-10-31         2012-09-08   \n",
       "4  87mebub9p4           2010-09-14             2009-12-08         2010-02-18   \n",
       "\n",
       "      gender  age signup_method  signup_flow language affiliate_channel  ...  \\\n",
       "0  -unknown-   35      facebook            0       en            direct  ...   \n",
       "1       MALE   38      facebook            0       en               seo  ...   \n",
       "2     FEMALE   56         basic            3       en            direct  ...   \n",
       "3     FEMALE   42      facebook            0       en            direct  ...   \n",
       "4  -unknown-   41         basic            0       en            direct  ...   \n",
       "\n",
       "  first_affiliate_tracked signup_app first_device_type first_browser  \\\n",
       "0               untracked        Web       Mac Desktop        Chrome   \n",
       "1               untracked        Web       Mac Desktop        Chrome   \n",
       "2               untracked        Web   Windows Desktop            IE   \n",
       "3               untracked        Web       Mac Desktop       Firefox   \n",
       "4               untracked        Web       Mac Desktop        Chrome   \n",
       "\n",
       "  country_destination action action_type action_detail device_type  \\\n",
       "0                 NDF    NaN         NaN           NaN         NaN   \n",
       "1                 NDF    NaN         NaN           NaN         NaN   \n",
       "2                  US    NaN         NaN           NaN         NaN   \n",
       "3               other    NaN         NaN           NaN         NaN   \n",
       "4                  US    NaN         NaN           NaN         NaN   \n",
       "\n",
       "  secs_elapsed  \n",
       "0          NaN  \n",
       "1          NaN  \n",
       "2          NaN  \n",
       "3          NaN  \n",
       "4          NaN  \n",
       "\n",
       "[5 rows x 21 columns]"
      ]
     },
     "execution_count": 43,
     "metadata": {},
     "output_type": "execute_result"
    }
   ],
   "source": [
    "df1.head()"
   ]
  },
  {
   "cell_type": "markdown",
   "id": "372753c0",
   "metadata": {
    "heading_collapsed": true,
    "hidden": true
   },
   "source": [
    "### 1.9.2 Data Dimensions"
   ]
  },
  {
   "cell_type": "code",
   "execution_count": 44,
   "id": "079b39cb",
   "metadata": {
    "ExecuteTime": {
     "end_time": "2022-12-07T19:46:58.560695Z",
     "start_time": "2022-12-07T19:46:58.546908Z"
    },
    "hidden": true
   },
   "outputs": [
    {
     "name": "stdout",
     "output_type": "stream",
     "text": [
      "Há: 5558128 linhas no total\n",
      "Há: 21 colunas no total\n"
     ]
    }
   ],
   "source": [
    "print(f'Há: {df1.shape[0]} linhas no total')\n",
    "print(f'Há: {df1.shape[1]} colunas no total')"
   ]
  },
  {
   "cell_type": "markdown",
   "id": "ec208f75",
   "metadata": {
    "heading_collapsed": true,
    "hidden": true
   },
   "source": [
    "### 1.9.3 Check NaN's"
   ]
  },
  {
   "cell_type": "code",
   "execution_count": 45,
   "id": "fd53c66e",
   "metadata": {
    "ExecuteTime": {
     "end_time": "2022-12-07T19:47:07.781793Z",
     "start_time": "2022-12-07T19:46:58.563524Z"
    },
    "hidden": true,
    "scrolled": false
   },
   "outputs": [
    {
     "data": {
      "text/plain": [
       "id                         0.000000\n",
       "date_account_created       0.000000\n",
       "timestamp_first_active     0.000000\n",
       "date_first_booking         0.000000\n",
       "gender                     0.000000\n",
       "age                        0.000000\n",
       "signup_method              0.000000\n",
       "signup_flow                0.000000\n",
       "language                   0.000000\n",
       "affiliate_channel          0.000000\n",
       "affiliate_provider         0.000000\n",
       "first_affiliate_tracked    0.000000\n",
       "signup_app                 0.000000\n",
       "first_device_type          0.000000\n",
       "first_browser              0.000000\n",
       "country_destination        0.000000\n",
       "action                     0.024311\n",
       "action_type                0.024311\n",
       "action_detail              0.024311\n",
       "device_type                0.024311\n",
       "secs_elapsed               0.024311\n",
       "dtype: float64"
      ]
     },
     "execution_count": 45,
     "metadata": {},
     "output_type": "execute_result"
    }
   ],
   "source": [
    "df1.isna().sum() / df1['id'].count()"
   ]
  },
  {
   "cell_type": "markdown",
   "id": "18468c73",
   "metadata": {
    "heading_collapsed": true,
    "hidden": true
   },
   "source": [
    "### 1.9.4 FIlout NaN Values"
   ]
  },
  {
   "cell_type": "code",
   "execution_count": 46,
   "id": "6a8ef197",
   "metadata": {
    "ExecuteTime": {
     "end_time": "2022-12-07T19:47:18.667695Z",
     "start_time": "2022-12-07T19:47:07.784708Z"
    },
    "hidden": true
   },
   "outputs": [],
   "source": [
    "df1.dropna(inplace=True)"
   ]
  },
  {
   "cell_type": "markdown",
   "id": "5b598663",
   "metadata": {
    "heading_collapsed": true,
    "hidden": true
   },
   "source": [
    "### 1.9.5 Data Types"
   ]
  },
  {
   "cell_type": "code",
   "execution_count": 47,
   "id": "59aabd0a",
   "metadata": {
    "ExecuteTime": {
     "end_time": "2022-12-07T19:47:18.683302Z",
     "start_time": "2022-12-07T19:47:18.670688Z"
    },
    "hidden": true
   },
   "outputs": [
    {
     "data": {
      "text/plain": [
       "id                                 object\n",
       "date_account_created       datetime64[ns]\n",
       "timestamp_first_active             object\n",
       "date_first_booking         datetime64[ns]\n",
       "gender                             object\n",
       "age                                 int32\n",
       "signup_method                      object\n",
       "signup_flow                         int64\n",
       "language                           object\n",
       "affiliate_channel                  object\n",
       "affiliate_provider                 object\n",
       "first_affiliate_tracked            object\n",
       "signup_app                         object\n",
       "first_device_type                  object\n",
       "first_browser                      object\n",
       "country_destination                object\n",
       "action                             object\n",
       "action_type                        object\n",
       "action_detail                      object\n",
       "device_type                        object\n",
       "secs_elapsed                      float64\n",
       "dtype: object"
      ]
     },
     "execution_count": 47,
     "metadata": {},
     "output_type": "execute_result"
    }
   ],
   "source": [
    "df1.dtypes"
   ]
  },
  {
   "cell_type": "markdown",
   "id": "a10734f4",
   "metadata": {
    "heading_collapsed": true,
    "hidden": true
   },
   "source": [
    "### 1.9.6 Changing Dtypes"
   ]
  },
  {
   "cell_type": "code",
   "execution_count": 48,
   "id": "a97c1c8b",
   "metadata": {
    "ExecuteTime": {
     "end_time": "2022-12-07T19:47:20.081388Z",
     "start_time": "2022-12-07T19:47:18.686576Z"
    },
    "hidden": true
   },
   "outputs": [],
   "source": [
    "df1['timestamp_first_active'] = pd.to_datetime(df1['timestamp_first_active'])"
   ]
  },
  {
   "cell_type": "markdown",
   "id": "8c228bb3",
   "metadata": {
    "heading_collapsed": true
   },
   "source": [
    "# 2.0 Feature Engineering"
   ]
  },
  {
   "cell_type": "code",
   "execution_count": 49,
   "id": "273c2a90",
   "metadata": {
    "ExecuteTime": {
     "end_time": "2022-12-07T19:47:20.456757Z",
     "start_time": "2022-12-07T19:47:20.086376Z"
    },
    "hidden": true
   },
   "outputs": [],
   "source": [
    "df2 = df1.copy()"
   ]
  },
  {
   "cell_type": "markdown",
   "id": "4f755e02",
   "metadata": {
    "heading_collapsed": true
   },
   "source": [
    "# 3.0 Exploratory Data Analysis"
   ]
  },
  {
   "cell_type": "code",
   "execution_count": 50,
   "id": "b9b344e4",
   "metadata": {
    "ExecuteTime": {
     "end_time": "2022-12-07T19:47:20.755360Z",
     "start_time": "2022-12-07T19:47:20.459689Z"
    },
    "hidden": true
   },
   "outputs": [],
   "source": [
    "df3 = df2.copy()"
   ]
  },
  {
   "cell_type": "markdown",
   "id": "cbc109d2",
   "metadata": {
    "hidden": true
   },
   "source": [
    "* A data da criação da conta em alguns casos é posterior a data do primeiro booking\n",
    "* Age Outliers com idade de 2000 anos, erros de input\n",
    "* Age Bastante deslocadas por conta dos outliers\n",
    "* age com números negativos, e pessoas máxima com erro também, média e mediana bastante deslocadas por conta de outliers, desvio padrão altíssimo, skew alta positiva, o que sugere causa direita mais pesada e kurtosis com um pico muito elevado. Os dados sugerem uma POISON com erros de input. Por exemplo, a idade máxima parece estar bastante ligada ao ano da data atual.\n",
    "* signup_flow com range de 25, média de 3.15 e mediana de 0, o que indicam muitos valores zerados, skew e kurtosis sugerem uma Normal, mas considerando os outros parâmetros, deve estar mais próxima a uma POISON\n",
    "* action_type e action_detail possuem a mesma quantidade de NaN's, aparentemente ou são altamente correlacionadas ou são derivadas de uma mesma característica\n",
    "* action_type e action_detail são NaN's juntamente\n",
    "* muitas dimensões em action e action_detail, o que dificulta a parte de encoding\n",
    "* linguage, affiliate_provider e first_browser com muitas dimensões \n",
    "* action e action_type altamente correlacionadas, o que sugere que carreguem o mesmo tipo de informação, possivelmente seja mais interessnate trabalhar somente com uma das duas, para manter coerência de acordo com a Navalha de Occam\n",
    "* mesmo caso com action_type e action_detail \n",
    "* sects_elapse com valores zerados, o que não faz sentido para o negócio, skew e kurtosis super altos, média e mediana extremamente deslocados, range gigantesco."
   ]
  },
  {
   "cell_type": "markdown",
   "id": "ccfa6107",
   "metadata": {
    "heading_collapsed": true
   },
   "source": [
    "# 4.0 Data Filtering"
   ]
  },
  {
   "cell_type": "code",
   "execution_count": 51,
   "id": "eff99efe",
   "metadata": {
    "ExecuteTime": {
     "end_time": "2022-12-07T19:47:21.054236Z",
     "start_time": "2022-12-07T19:47:20.756351Z"
    },
    "hidden": true
   },
   "outputs": [],
   "source": [
    "df4 = df3.copy()"
   ]
  },
  {
   "cell_type": "markdown",
   "id": "32d5d80b",
   "metadata": {
    "heading_collapsed": true,
    "hidden": true
   },
   "source": [
    "## 4.1 Filtering Rows"
   ]
  },
  {
   "cell_type": "code",
   "execution_count": null,
   "id": "9c5d2a12",
   "metadata": {
    "hidden": true
   },
   "outputs": [],
   "source": []
  },
  {
   "cell_type": "markdown",
   "id": "250e314b",
   "metadata": {
    "heading_collapsed": true,
    "hidden": true
   },
   "source": [
    "## 4.2 Columns Selection"
   ]
  },
  {
   "cell_type": "code",
   "execution_count": null,
   "id": "26123211",
   "metadata": {
    "hidden": true
   },
   "outputs": [],
   "source": []
  },
  {
   "cell_type": "markdown",
   "id": "d163ca7d",
   "metadata": {},
   "source": [
    "# 5.0 Data Preparation"
   ]
  },
  {
   "cell_type": "code",
   "execution_count": 52,
   "id": "c854b483",
   "metadata": {
    "ExecuteTime": {
     "end_time": "2022-12-07T19:47:21.397369Z",
     "start_time": "2022-12-07T19:47:21.056326Z"
    }
   },
   "outputs": [],
   "source": [
    "df5 = df4.copy()"
   ]
  },
  {
   "cell_type": "markdown",
   "id": "b3e25805",
   "metadata": {},
   "source": [
    "## 5.2 Target"
   ]
  },
  {
   "cell_type": "code",
   "execution_count": null,
   "id": "532a02de",
   "metadata": {
    "ExecuteTime": {
     "end_time": "2022-11-29T21:37:15.516511Z",
     "start_time": "2022-11-29T21:37:15.484526Z"
    }
   },
   "outputs": [],
   "source": []
  },
  {
   "cell_type": "markdown",
   "id": "c0db7156",
   "metadata": {},
   "source": [
    "## 5.3 Features"
   ]
  },
  {
   "cell_type": "code",
   "execution_count": 53,
   "id": "4a05d4f2",
   "metadata": {
    "ExecuteTime": {
     "end_time": "2022-12-07T19:47:21.413158Z",
     "start_time": "2022-12-07T19:47:21.400359Z"
    }
   },
   "outputs": [
    {
     "data": {
      "text/plain": [
       "['id',\n",
       " 'date_account_created',\n",
       " 'timestamp_first_active',\n",
       " 'date_first_booking',\n",
       " 'gender',\n",
       " 'age',\n",
       " 'signup_method',\n",
       " 'signup_flow',\n",
       " 'language',\n",
       " 'affiliate_channel',\n",
       " 'affiliate_provider',\n",
       " 'first_affiliate_tracked',\n",
       " 'signup_app',\n",
       " 'first_device_type',\n",
       " 'first_browser',\n",
       " 'country_destination',\n",
       " 'action',\n",
       " 'action_type',\n",
       " 'action_detail',\n",
       " 'device_type',\n",
       " 'secs_elapsed']"
      ]
     },
     "execution_count": 53,
     "metadata": {},
     "output_type": "execute_result"
    }
   ],
   "source": [
    "df5.columns.to_list()"
   ]
  },
  {
   "cell_type": "markdown",
   "id": "daa3e5c3",
   "metadata": {},
   "source": [
    "### 5.3.1 Normalize"
   ]
  },
  {
   "cell_type": "code",
   "execution_count": null,
   "id": "0c73f672",
   "metadata": {
    "ExecuteTime": {
     "start_time": "2022-12-07T19:42:47.901Z"
    }
   },
   "outputs": [],
   "source": []
  },
  {
   "cell_type": "markdown",
   "id": "c0ca892e",
   "metadata": {},
   "source": [
    "### 5.3.2 Standard Scaler"
   ]
  },
  {
   "cell_type": "code",
   "execution_count": null,
   "id": "6d84906b",
   "metadata": {},
   "outputs": [],
   "source": []
  },
  {
   "cell_type": "markdown",
   "id": "a9e36ee3",
   "metadata": {},
   "source": [
    "### 5.3.3 Encoding"
   ]
  },
  {
   "cell_type": "markdown",
   "id": "9fe6a0c8",
   "metadata": {},
   "source": []
  },
  {
   "cell_type": "markdown",
   "id": "1c52767e",
   "metadata": {},
   "source": [
    "## 5.4 Preprocessing"
   ]
  },
  {
   "cell_type": "code",
   "execution_count": null,
   "id": "02b91dd1",
   "metadata": {
    "ExecuteTime": {
     "start_time": "2022-12-07T19:42:47.904Z"
    },
    "scrolled": false
   },
   "outputs": [],
   "source": [
    "X = df5.drop(['id', 'country_destination'], axis=1)\n",
    "y = df5['country_destination']\n",
    "X_train, X_test, y_train, y_test = ms.train_test_split(X, y, test_size=0.2, random_state=100)"
   ]
  },
  {
   "cell_type": "markdown",
   "id": "710a65c0",
   "metadata": {},
   "source": [
    "# 6.0 Feature Selection"
   ]
  },
  {
   "cell_type": "code",
   "execution_count": null,
   "id": "590ddf0b",
   "metadata": {
    "ExecuteTime": {
     "start_time": "2022-12-07T19:42:47.907Z"
    }
   },
   "outputs": [],
   "source": [
    "df6 = df5.copy()"
   ]
  },
  {
   "cell_type": "code",
   "execution_count": null,
   "id": "bca0cee8",
   "metadata": {
    "ExecuteTime": {
     "start_time": "2022-12-07T19:42:47.909Z"
    },
    "scrolled": false
   },
   "outputs": [],
   "source": [
    "cols_drop = 'date_account_created timestamp_first_active date_first_booking'.split()\n",
    "df6.drop(cols_drop, axis=1, inplace=True)"
   ]
  },
  {
   "cell_type": "markdown",
   "id": "ce135751",
   "metadata": {},
   "source": [
    "# 7.0 Machine Learning Modeling"
   ]
  },
  {
   "cell_type": "code",
   "execution_count": null,
   "id": "93b5da9d",
   "metadata": {
    "ExecuteTime": {
     "start_time": "2022-12-07T19:42:47.912Z"
    }
   },
   "outputs": [],
   "source": [
    "df7 = df6.copy()"
   ]
  },
  {
   "cell_type": "markdown",
   "id": "1cf8fc75",
   "metadata": {},
   "source": [
    "## 7.1 Preprocessing"
   ]
  },
  {
   "cell_type": "code",
   "execution_count": null,
   "id": "067d3db1",
   "metadata": {
    "ExecuteTime": {
     "start_time": "2022-12-07T19:42:47.915Z"
    }
   },
   "outputs": [],
   "source": [
    "X = df7.drop(['id', 'country_destination'], axis=1)\n",
    "y = df7['country_destination']"
   ]
  },
  {
   "cell_type": "markdown",
   "id": "29d3f65c",
   "metadata": {},
   "source": [
    "## 7.2 Models"
   ]
  },
  {
   "cell_type": "markdown",
   "id": "0115eb01",
   "metadata": {},
   "source": [
    "### 7.2.1 Baseline Model"
   ]
  },
  {
   "cell_type": "code",
   "execution_count": null,
   "id": "ce9b1610",
   "metadata": {
    "ExecuteTime": {
     "start_time": "2022-12-07T19:42:47.918Z"
    }
   },
   "outputs": [],
   "source": [
    "# train test split\n",
    "X_train, X_test, y_train, y_test = ms.train_test_split(X, y, test_size=0.2, random_state=100)\n",
    "\n",
    "# random y_hat weighted\n",
    "p = y_train.value_counts(normalize=True).sort_index().values\n",
    "a = y_train.drop_duplicates().sort_index().sort_values()\n",
    "y_hat = np.random.choice(a=a, size=len(y_test), p=p)\n",
    "\n",
    "# metrics\n",
    "acc = m.accuracy_score(y_test, y_hat)\n",
    "balanced_acc = m.balanced_accuracy_score(y_test, y_hat)\n",
    "kappa = m.cohen_kappa_score(y_test, y_hat)\n",
    "\n",
    "print(f'Accuracy: {acc}')\n",
    "print(f'Balanced Accuracy: {balanced_acc}')\n",
    "print(f'Kappa Score : {kappa}')\n",
    "print('')\n",
    "print(f'{m.classification_report(y_test, y_hat)}')\n",
    "\n",
    "mt.plot_confusion_matrix(y_test, y_hat, normalize=False, figsize=(9, 9));"
   ]
  },
  {
   "cell_type": "markdown",
   "id": "66349dd2",
   "metadata": {},
   "source": [
    "### 7.2.2 Neural Network MLP"
   ]
  },
  {
   "cell_type": "markdown",
   "id": "eb019216",
   "metadata": {
    "ExecuteTime": {
     "end_time": "2022-12-03T13:31:33.376791Z",
     "start_time": "2022-12-03T13:31:33.365771Z"
    }
   },
   "source": [
    "#### 7.2.2.1 Neural Network Single Validation"
   ]
  },
  {
   "cell_type": "code",
   "execution_count": null,
   "id": "cd2c4d91",
   "metadata": {
    "ExecuteTime": {
     "start_time": "2022-12-07T19:42:47.921Z"
    },
    "scrolled": false
   },
   "outputs": [],
   "source": [
    "# train test split\n",
    "X_train, X_test, y_train, y_test = ms.train_test_split(X, y, test_size=0.2, random_state=100)\n",
    "\n",
    "# encoding y\n",
    "ohe = pp.OneHotEncoder()\n",
    "ohe_y = ohe.fit(y.values.reshape(-1, 1))\n",
    "y_train_nn = ohe_y.transform(y_train.values.reshape(-1, 1)).toarray()\n",
    "\n",
    "# model definition\n",
    "nn_model = ml.Sequential()\n",
    "nn_model.add(l.Dense(128, input_dim=X_train.shape[1], activation='relu'))\n",
    "nn_model.add(l.Dense(12, activation='softmax'))\n",
    "\n",
    "# model compile\n",
    "nn_model.compile(loss='categorical_crossentropy', optimizer='adam', metrics='accuracy')\n",
    "\n",
    "# fiting model\n",
    "nn_model.fit(X_train, y_train_nn, epochs=30, verbose=0, batch_size=32)\n",
    "\n",
    "# predicting\n",
    "y_hat = nn_model.predict(X_test)\n",
    "\n",
    "# formating\n",
    "y_hat = ohe.inverse_transform(y_hat)\n",
    "y_hat = y_hat.reshape(1, -1)[0]\n",
    "y_test_nn = y_test.to_numpy()\n",
    "\n",
    "# metrics\n",
    "acc = m.accuracy_score(y_test_nn, y_hat)\n",
    "balanced_acc = m.balanced_accuracy_score(y_test_nn, y_hat)\n",
    "kappa = m.cohen_kappa_score(y_test_nn, y_hat)\n",
    "    \n",
    "# prints\n",
    "print(f'Accuracy: {acc}')\n",
    "print(f'Balanced Accuracy: {balanced_acc}')\n",
    "print(f'Kappa Score : {kappa}')\n",
    "print('')\n",
    "print(f'{m.classification_report(y_test_nn, y_hat)}')\n",
    "mt.plot_confusion_matrix(y_test_nn, y_hat, normalize=False, figsize=(9, 9));"
   ]
  },
  {
   "cell_type": "markdown",
   "id": "5ec7d74e",
   "metadata": {
    "ExecuteTime": {
     "end_time": "2022-12-03T13:31:33.376791Z",
     "start_time": "2022-12-03T13:31:33.365771Z"
    },
    "heading_collapsed": true
   },
   "source": [
    "#### 7.2.2.2 Neural Network Crossvalidation"
   ]
  },
  {
   "cell_type": "code",
   "execution_count": null,
   "id": "3d53bc69",
   "metadata": {
    "ExecuteTime": {
     "start_time": "2022-12-07T19:42:47.923Z"
    },
    "hidden": true
   },
   "outputs": [],
   "source": [
    "acc_list, balanced_acc_list, kappa_list = [], [], []\n",
    "\n",
    "num_folds = 5\n",
    "i = 1\n",
    "skf = ms.StratifiedKFold(n_splits= num_folds, random_state=100, shuffle=True)\n",
    "\n",
    "for train_index, test_index in skf.split(X, y):\n",
    "    \n",
    "    # get fold\n",
    "    X_train_fold = X.iloc[train_index]\n",
    "    y_train_fold = y.iloc[train_index]\n",
    "    \n",
    "    X_test_fold = X.iloc[test_index]\n",
    "    y_test_fold = y.iloc[test_index]\n",
    "  \n",
    "\n",
    "    # encoding y\n",
    "    y_train_fold = ohe_y.transform(y_train_fold.values.reshape(-1, 1)).toarray()\n",
    "    \n",
    "    # model definition\n",
    "    nn_model = ml.Sequential()\n",
    "    nn_model.add(l.Dense(128, input_dim=X_train_fold.shape[1], activation='relu'))\n",
    "    nn_model.add(l.Dense(12, activation='softmax'))\n",
    "\n",
    "    # model compile\n",
    "    nn_model.compile(loss='categorical_crossentropy', optimizer='adam', metrics='accuracy')\n",
    "\n",
    "    # fiting model\n",
    "    nn_model.fit(X_train_fold, y_train_fold, epochs=30, verbose=0, batch_size=32)\n",
    "\n",
    "    # predicting\n",
    "    y_hat = nn_model.predict(X_test_fold)\n",
    "\n",
    "    # formating\n",
    "    y_hat = ohe_y.inverse_transform(y_hat)\n",
    "    y_hat = y_hat.reshape(1, -1)[0]\n",
    "    y_test_fold = y_test_fold.to_numpy()\n",
    "    \n",
    "    # metrics\n",
    "    acc = m.accuracy_score(y_test_fold, y_hat)\n",
    "    acc_list.append(acc)\n",
    "    balanced_acc = m.balanced_accuracy_score(y_test_fold, y_hat)\n",
    "    balanced_acc_list.append(balanced_acc)\n",
    "    kappa = m.cohen_kappa_score(y_test_fold, y_hat)\n",
    "    kappa_list.append(kappa)\n",
    "    \n",
    "    # prints\n",
    "    print(f'Fold Number: {i}')\n",
    "    print(f'Balanced Accuracy: {balanced_acc}')\n",
    "    print(f'Kappa Score : {kappa}\\n')\n",
    "    i += i"
   ]
  },
  {
   "cell_type": "markdown",
   "id": "eccfb8a6",
   "metadata": {
    "heading_collapsed": true
   },
   "source": [
    "### 7.2.1 XGBoost Classifier"
   ]
  },
  {
   "cell_type": "markdown",
   "id": "3f3e5c34",
   "metadata": {
    "ExecuteTime": {
     "end_time": "2022-12-03T13:31:33.376791Z",
     "start_time": "2022-12-03T13:31:33.365771Z"
    },
    "heading_collapsed": true,
    "hidden": true
   },
   "source": [
    "#### 7.2.3.1 XGBoost Classifier Sigle Validation"
   ]
  },
  {
   "cell_type": "code",
   "execution_count": null,
   "id": "bab570c7",
   "metadata": {
    "ExecuteTime": {
     "start_time": "2022-12-07T19:42:47.926Z"
    },
    "hidden": true,
    "scrolled": false
   },
   "outputs": [],
   "source": [
    "# # encoding y\n",
    "# le_y = pp.LabelEncoder().fit(y)\n",
    "\n",
    "# y_train_le = le_y.transform(y_train)\n",
    "# y_test_le = le_y.transform(y_test)\n",
    "\n",
    "# # model defition\n",
    "# xgb_model = XGBClassifier()\n",
    "\n",
    "# # fiting model\n",
    "# xgb_fit = xgb_model.fit(X_train, y_train_le)\n",
    "\n",
    "# # predicting\n",
    "# y_hat = xgb_fit.predict(X_test)\n",
    "\n",
    "# # formating\n",
    "# y_hat = le_y.inverse_transform(y_hat)\n",
    "\n",
    "# # metrics\n",
    "# acc = m.accuracy_score(y_test, y_hat)\n",
    "# balanced_acc = m.balanced_accuracy_score(y_test, y_hat)\n",
    "# kappa = m.cohen_kappa_score(y_test, y_hat)\n",
    "    \n",
    "# # prints\n",
    "# print(f'Accuracy: {acc}')\n",
    "# print(f'Balanced Accuracy: {balanced_acc}')\n",
    "# print(f'Kappa Score : {kappa}')\n",
    "# print('')\n",
    "# print(f'{m.classification_report(y_test, y_hat)}');\n",
    "\n",
    "# mt.plot_confusion_matrix(y_test, y_hat, normalize=False, figsize=(9, 9));"
   ]
  },
  {
   "cell_type": "markdown",
   "id": "856b3456",
   "metadata": {
    "ExecuteTime": {
     "end_time": "2022-12-03T13:31:33.376791Z",
     "start_time": "2022-12-03T13:31:33.365771Z"
    },
    "heading_collapsed": true,
    "hidden": true
   },
   "source": [
    "#### 7.2.3.2 XGBoost Classifier Crossvalidation"
   ]
  },
  {
   "cell_type": "code",
   "execution_count": null,
   "id": "3e0fa23d",
   "metadata": {
    "ExecuteTime": {
     "start_time": "2022-12-07T19:42:47.929Z"
    },
    "hidden": true,
    "scrolled": false
   },
   "outputs": [],
   "source": [
    "# acc_list, balanced_acc_list, kappa_list = [], [], []\n",
    "\n",
    "# num_folds = 5\n",
    "# i = 1\n",
    "# skf = ms.StratifiedKFold(n_splits= num_folds, random_state=100, shuffle=True)\n",
    "\n",
    "# for train_index, test_index in skf.split(X, y):\n",
    "    \n",
    "#     # get fold\n",
    "#     X_train_fold = X.iloc[train_index]\n",
    "#     y_train_fold = y.iloc[train_index]\n",
    "    \n",
    "#     X_test_fold = X.iloc[test_index]\n",
    "#     y_test_fold = y.iloc[test_index]\n",
    "    \n",
    "#     # encoding y\n",
    "#     y_train_fold_le = le_y.transform(y_train_fold)\n",
    "    \n",
    "#     # model defition\n",
    "#     xgb_model = XGBClassifier()\n",
    "    \n",
    "#     # fiting model\n",
    "#     xgb_fit = xgb_model.fit(X_train_fold, y_train_fold_le)\n",
    "\n",
    "#     # predicting\n",
    "#     y_hat = xgb_fit.predict(X_test_fold)\n",
    "    \n",
    "#     # formating\n",
    "#     y_hat = le_y.inverse_transform(y_hat)\n",
    "    \n",
    "#     # metrics\n",
    "#     acc = m.accuracy_score(y_test_fold, y_hat)\n",
    "#     acc_list.append(acc)\n",
    "#     balanced_acc = m.balanced_accuracy_score(y_test_fold, y_hat)\n",
    "#     balanced_acc_list.append(balanced_acc)\n",
    "#     kappa = m.cohen_kappa_score(y_test_fold, y_hat)\n",
    "#     kappa_list.append(kappa)\n",
    "    \n",
    "\n",
    "#     # prints\n",
    "#     print(f'Fold Number: {i}')\n",
    "#     print(f'Balanced Accuracy: {balanced_acc}')\n",
    "#     print(f'Kappa Score : {kappa}\\n')\n",
    "#     i += i"
   ]
  },
  {
   "cell_type": "markdown",
   "id": "5bd3f99b",
   "metadata": {},
   "source": [
    "# 8.0 Model Performance"
   ]
  },
  {
   "cell_type": "markdown",
   "id": "5e415d70",
   "metadata": {},
   "source": [
    "## 8.1 Machine Learning Performance"
   ]
  },
  {
   "cell_type": "code",
   "execution_count": null,
   "id": "f16d5a8d",
   "metadata": {},
   "outputs": [],
   "source": []
  }
 ],
 "metadata": {
  "kernelspec": {
   "display_name": "Python 3 (ipykernel)",
   "language": "python",
   "name": "python3"
  },
  "language_info": {
   "codemirror_mode": {
    "name": "ipython",
    "version": 3
   },
   "file_extension": ".py",
   "mimetype": "text/x-python",
   "name": "python",
   "nbconvert_exporter": "python",
   "pygments_lexer": "ipython3",
   "version": "3.9.13"
  }
 },
 "nbformat": 4,
 "nbformat_minor": 5
}
