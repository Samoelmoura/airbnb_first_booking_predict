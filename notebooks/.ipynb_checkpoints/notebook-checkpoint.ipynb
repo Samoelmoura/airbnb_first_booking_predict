{
 "cells": [
  {
   "cell_type": "markdown",
   "id": "17947240",
   "metadata": {},
   "source": [
    "# 0.0 Imports"
   ]
  },
  {
   "cell_type": "code",
   "execution_count": 1,
   "id": "e71abd30",
   "metadata": {
    "ExecuteTime": {
     "end_time": "2022-12-04T13:42:31.800595Z",
     "start_time": "2022-12-04T13:42:17.363098Z"
    }
   },
   "outputs": [],
   "source": [
    "import pandas as pd\n",
    "import numpy as np\n",
    "import matplotlib.pyplot as plt\n",
    "import seaborn as sns\n",
    "\n",
    "from keras import models as ml\n",
    "from keras import layers as l\n",
    "\n",
    "from sklearn import preprocessing as pp\n",
    "from sklearn import metrics as m\n",
    "from sklearn import model_selection as ms\n",
    "\n",
    "from xgboost import XGBClassifier\n",
    "\n",
    "from scikitplot import metrics as mt"
   ]
  },
  {
   "cell_type": "markdown",
   "id": "72336cae",
   "metadata": {},
   "source": [
    "## 0.1 Importing Data"
   ]
  },
  {
   "cell_type": "code",
   "execution_count": 2,
   "id": "84fe214a",
   "metadata": {
    "ExecuteTime": {
     "end_time": "2022-12-04T13:42:39.078945Z",
     "start_time": "2022-12-04T13:42:31.803106Z"
    },
    "scrolled": false
   },
   "outputs": [],
   "source": [
    "df_raw = pd.read_csv('D:\\\\My Drive\\\\Pessoal\\\\projetos\\\\airbnb_first_booking_predict\\\\data\\\\raw\\\\train_users_2.csv')\n",
    "sessions = pd.read_csv('D:\\\\My Drive\\\\Pessoal\\\\projetos\\\\airbnb_first_booking_predict\\\\data\\\\raw\\\\sessions.csv')"
   ]
  },
  {
   "cell_type": "markdown",
   "id": "31fe56c4",
   "metadata": {
    "heading_collapsed": true
   },
   "source": [
    "## 0.2 Helper Functions"
   ]
  },
  {
   "cell_type": "code",
   "execution_count": null,
   "id": "acd78a32",
   "metadata": {
    "hidden": true
   },
   "outputs": [],
   "source": []
  },
  {
   "cell_type": "markdown",
   "id": "389a21f3",
   "metadata": {},
   "source": [
    "# 1.0 Data Description"
   ]
  },
  {
   "cell_type": "code",
   "execution_count": 3,
   "id": "9c5b3f72",
   "metadata": {
    "ExecuteTime": {
     "end_time": "2022-12-04T13:42:39.109735Z",
     "start_time": "2022-12-04T13:42:39.082869Z"
    }
   },
   "outputs": [],
   "source": [
    "df1 = df_raw.copy()"
   ]
  },
  {
   "cell_type": "markdown",
   "id": "65be35d2",
   "metadata": {},
   "source": [
    "## 1.1 Data Dimension"
   ]
  },
  {
   "cell_type": "code",
   "execution_count": 4,
   "id": "f243b986",
   "metadata": {
    "ExecuteTime": {
     "end_time": "2022-12-04T13:42:39.124964Z",
     "start_time": "2022-12-04T13:42:39.114000Z"
    }
   },
   "outputs": [
    {
     "name": "stdout",
     "output_type": "stream",
     "text": [
      "Há: 213451 linhas no total\n",
      "Há: 16 colunas no total\n"
     ]
    }
   ],
   "source": [
    "print(f'Há: {df1.shape[0]} linhas no total')\n",
    "print(f'Há: {df1.shape[1]} colunas no total')"
   ]
  },
  {
   "cell_type": "code",
   "execution_count": 5,
   "id": "80f31240",
   "metadata": {
    "ExecuteTime": {
     "end_time": "2022-12-04T13:42:39.140220Z",
     "start_time": "2022-12-04T13:42:39.128520Z"
    }
   },
   "outputs": [
    {
     "name": "stdout",
     "output_type": "stream",
     "text": [
      "Há: 10567737 linhas no total\n",
      "Há: 6 colunas no total\n"
     ]
    }
   ],
   "source": [
    "print(f'Há: {sessions.shape[0]} linhas no total')\n",
    "print(f'Há: {sessions.shape[1]} colunas no total')"
   ]
  },
  {
   "cell_type": "markdown",
   "id": "19c6d256",
   "metadata": {},
   "source": [
    "## 1.2 Datatypes"
   ]
  },
  {
   "cell_type": "code",
   "execution_count": 6,
   "id": "028eeec9",
   "metadata": {
    "ExecuteTime": {
     "end_time": "2022-12-04T13:42:39.172113Z",
     "start_time": "2022-12-04T13:42:39.143050Z"
    }
   },
   "outputs": [
    {
     "data": {
      "text/plain": [
       "id                          object\n",
       "date_account_created        object\n",
       "timestamp_first_active       int64\n",
       "date_first_booking          object\n",
       "gender                      object\n",
       "age                        float64\n",
       "signup_method               object\n",
       "signup_flow                  int64\n",
       "language                    object\n",
       "affiliate_channel           object\n",
       "affiliate_provider          object\n",
       "first_affiliate_tracked     object\n",
       "signup_app                  object\n",
       "first_device_type           object\n",
       "first_browser               object\n",
       "country_destination         object\n",
       "dtype: object"
      ]
     },
     "execution_count": 6,
     "metadata": {},
     "output_type": "execute_result"
    }
   ],
   "source": [
    "df1.dtypes"
   ]
  },
  {
   "cell_type": "code",
   "execution_count": 7,
   "id": "d8e6578f",
   "metadata": {
    "ExecuteTime": {
     "end_time": "2022-12-04T13:42:39.187678Z",
     "start_time": "2022-12-04T13:42:39.175083Z"
    }
   },
   "outputs": [
    {
     "data": {
      "text/plain": [
       "user_id           object\n",
       "action            object\n",
       "action_type       object\n",
       "action_detail     object\n",
       "device_type       object\n",
       "secs_elapsed     float64\n",
       "dtype: object"
      ]
     },
     "execution_count": 7,
     "metadata": {},
     "output_type": "execute_result"
    }
   ],
   "source": [
    "sessions.dtypes"
   ]
  },
  {
   "cell_type": "markdown",
   "id": "616992a2",
   "metadata": {},
   "source": [
    "## 1.3 Check Na"
   ]
  },
  {
   "cell_type": "code",
   "execution_count": 8,
   "id": "e2e2a119",
   "metadata": {
    "ExecuteTime": {
     "end_time": "2022-12-04T13:42:39.566769Z",
     "start_time": "2022-12-04T13:42:39.191751Z"
    },
    "scrolled": true
   },
   "outputs": [
    {
     "data": {
      "text/plain": [
       "id                              0\n",
       "date_account_created            0\n",
       "timestamp_first_active          0\n",
       "date_first_booking         124543\n",
       "gender                          0\n",
       "age                         87990\n",
       "signup_method                   0\n",
       "signup_flow                     0\n",
       "language                        0\n",
       "affiliate_channel               0\n",
       "affiliate_provider              0\n",
       "first_affiliate_tracked      6065\n",
       "signup_app                      0\n",
       "first_device_type               0\n",
       "first_browser                   0\n",
       "country_destination             0\n",
       "dtype: int64"
      ]
     },
     "execution_count": 8,
     "metadata": {},
     "output_type": "execute_result"
    }
   ],
   "source": [
    "df1.isna().sum() "
   ]
  },
  {
   "cell_type": "markdown",
   "id": "2d60b158",
   "metadata": {},
   "source": [
    "## 1.4 Filout Na"
   ]
  },
  {
   "cell_type": "code",
   "execution_count": 9,
   "id": "c2c1e16b",
   "metadata": {
    "ExecuteTime": {
     "end_time": "2022-12-04T13:42:39.582727Z",
     "start_time": "2022-12-04T13:42:39.569722Z"
    }
   },
   "outputs": [],
   "source": [
    "# remove missing value completly\n",
    "qtd_base = df1.shape[0]"
   ]
  },
  {
   "cell_type": "markdown",
   "id": "4a1484a3",
   "metadata": {},
   "source": [
    "### 1.4.1 date_first_booking"
   ]
  },
  {
   "cell_type": "code",
   "execution_count": 10,
   "id": "67ec370c",
   "metadata": {
    "ExecuteTime": {
     "end_time": "2022-12-04T13:42:39.645103Z",
     "start_time": "2022-12-04T13:42:39.587717Z"
    }
   },
   "outputs": [
    {
     "data": {
      "text/plain": [
       "NDF    124543\n",
       "Name: country_destination, dtype: int64"
      ]
     },
     "execution_count": 10,
     "metadata": {},
     "output_type": "execute_result"
    }
   ],
   "source": [
    "df1[df1['date_first_booking'].isna()]['country_destination'].value_counts()"
   ]
  },
  {
   "cell_type": "code",
   "execution_count": 11,
   "id": "23a59cf6",
   "metadata": {
    "ExecuteTime": {
     "end_time": "2022-12-04T13:42:39.708747Z",
     "start_time": "2022-12-04T13:42:39.648093Z"
    }
   },
   "outputs": [],
   "source": [
    "df1['date_account_created'] = pd.to_datetime(df1['date_account_created'])\n",
    "temp = df1['date_account_created'].max().strftime('%Y-%m-%d')\n",
    "df1['date_account_created'].fillna(temp, inplace=True)"
   ]
  },
  {
   "cell_type": "markdown",
   "id": "5caf6b22",
   "metadata": {},
   "source": [
    "### 1.4.2 age"
   ]
  },
  {
   "cell_type": "code",
   "execution_count": 12,
   "id": "4176e565",
   "metadata": {
    "ExecuteTime": {
     "end_time": "2022-12-04T13:42:40.077868Z",
     "start_time": "2022-12-04T13:42:39.712763Z"
    }
   },
   "outputs": [
    {
     "data": {
      "image/png": "[encoded data removed]",
      "text/plain": [
       "<Figure size 1800x360 with 1 Axes>"
      ]
     },
     "metadata": {
      "needs_background": "light"
     },
     "output_type": "display_data"
    }
   ],
   "source": [
    "temp = df1.groupby('country_destination').agg({'age': 'mean'}).reset_index()\n",
    "sns.catplot(data=temp, x='country_destination', y='age', kind='bar', aspect=5)\n",
    "plt.title('age by country_destination', fontsize=35)\n",
    "plt.xlabel('country_destination', fontsize=25)\n",
    "plt.ylabel('age', fontsize=25);"
   ]
  },
  {
   "cell_type": "code",
   "execution_count": 13,
   "id": "f5780bfa",
   "metadata": {
    "ExecuteTime": {
     "end_time": "2022-12-04T13:42:40.104046Z",
     "start_time": "2022-12-04T13:42:40.080038Z"
    }
   },
   "outputs": [],
   "source": [
    "df1['age'].fillna(df1['age'].mean(), inplace=True)"
   ]
  },
  {
   "cell_type": "markdown",
   "id": "87620580",
   "metadata": {},
   "source": [
    "### 1.4.3 first_affiliate_tracked"
   ]
  },
  {
   "cell_type": "code",
   "execution_count": 57,
   "id": "99f795c1",
   "metadata": {
    "ExecuteTime": {
     "end_time": "2022-12-04T13:39:40.268381Z",
     "start_time": "2022-12-04T13:39:40.245306Z"
    }
   },
   "outputs": [
    {
     "data": {
      "text/plain": [
       "0             untracked\n",
       "1             untracked\n",
       "2             untracked\n",
       "3             untracked\n",
       "4             untracked\n",
       "              ...      \n",
       "213446              omg\n",
       "213447           linked\n",
       "213448        untracked\n",
       "213449    tracked-other\n",
       "213450        untracked\n",
       "Name: first_affiliate_tracked, Length: 213451, dtype: object"
      ]
     },
     "execution_count": 57,
     "metadata": {},
     "output_type": "execute_result"
    }
   ],
   "source": [
    "df1['first_affiliate_tracked']"
   ]
  },
  {
   "cell_type": "markdown",
   "id": "a04d72af",
   "metadata": {},
   "source": [
    "### 1.4.4 total drop missing values"
   ]
  },
  {
   "cell_type": "code",
   "execution_count": 7,
   "id": "a3c5097a",
   "metadata": {
    "ExecuteTime": {
     "end_time": "2022-12-04T10:41:20.536136Z",
     "start_time": "2022-12-04T10:41:19.872156Z"
    }
   },
   "outputs": [
    {
     "name": "stdout",
     "output_type": "stream",
     "text": [
      "Porcentagem da base removida: 68.06%\n"
     ]
    }
   ],
   "source": [
    "print(f'Porcentagem da base removida: {round((temp - df1.shape[0]) * 100/ qtd_base, 2)}%')"
   ]
  },
  {
   "cell_type": "markdown",
   "id": "9be5bd15",
   "metadata": {},
   "source": [
    "## 1.5 Changing datatype"
   ]
  },
  {
   "cell_type": "code",
   "execution_count": 16,
   "id": "b5ad1c6a",
   "metadata": {
    "ExecuteTime": {
     "end_time": "2022-12-04T13:21:55.751705Z",
     "start_time": "2022-12-04T13:21:53.113921Z"
    }
   },
   "outputs": [
    {
     "ename": "IntCastingNaNError",
     "evalue": "Cannot convert non-finite values (NA or inf) to integer",
     "output_type": "error",
     "traceback": [
      "\u001b[1;31m---------------------------------------------------------------------------\u001b[0m",
      "\u001b[1;31mIntCastingNaNError\u001b[0m                        Traceback (most recent call last)",
      "Input \u001b[1;32mIn [16]\u001b[0m, in \u001b[0;36m<cell line: 8>\u001b[1;34m()\u001b[0m\n\u001b[0;32m      6\u001b[0m df1[\u001b[38;5;124m'\u001b[39m\u001b[38;5;124mdate_first_booking\u001b[39m\u001b[38;5;124m'\u001b[39m] \u001b[38;5;241m=\u001b[39m pd\u001b[38;5;241m.\u001b[39mto_datetime(df1[\u001b[38;5;124m'\u001b[39m\u001b[38;5;124mdate_first_booking\u001b[39m\u001b[38;5;124m'\u001b[39m])\n\u001b[0;32m      7\u001b[0m \u001b[38;5;66;03m# age\u001b[39;00m\n\u001b[1;32m----> 8\u001b[0m df1[\u001b[38;5;124m'\u001b[39m\u001b[38;5;124mage\u001b[39m\u001b[38;5;124m'\u001b[39m] \u001b[38;5;241m=\u001b[39m \u001b[43mdf1\u001b[49m\u001b[43m[\u001b[49m\u001b[38;5;124;43m'\u001b[39;49m\u001b[38;5;124;43mage\u001b[39;49m\u001b[38;5;124;43m'\u001b[39;49m\u001b[43m]\u001b[49m\u001b[38;5;241;43m.\u001b[39;49m\u001b[43mastype\u001b[49m\u001b[43m(\u001b[49m\u001b[38;5;28;43mint\u001b[39;49m\u001b[43m)\u001b[49m\n",
      "File \u001b[1;32mD:\\My Drive\\Pessoal\\environments\\data_science\\lib\\site-packages\\pandas\\core\\generic.py:5912\u001b[0m, in \u001b[0;36mNDFrame.astype\u001b[1;34m(self, dtype, copy, errors)\u001b[0m\n\u001b[0;32m   5905\u001b[0m     results \u001b[38;5;241m=\u001b[39m [\n\u001b[0;32m   5906\u001b[0m         \u001b[38;5;28mself\u001b[39m\u001b[38;5;241m.\u001b[39miloc[:, i]\u001b[38;5;241m.\u001b[39mastype(dtype, copy\u001b[38;5;241m=\u001b[39mcopy)\n\u001b[0;32m   5907\u001b[0m         \u001b[38;5;28;01mfor\u001b[39;00m i \u001b[38;5;129;01min\u001b[39;00m \u001b[38;5;28mrange\u001b[39m(\u001b[38;5;28mlen\u001b[39m(\u001b[38;5;28mself\u001b[39m\u001b[38;5;241m.\u001b[39mcolumns))\n\u001b[0;32m   5908\u001b[0m     ]\n\u001b[0;32m   5910\u001b[0m \u001b[38;5;28;01melse\u001b[39;00m:\n\u001b[0;32m   5911\u001b[0m     \u001b[38;5;66;03m# else, only a single dtype is given\u001b[39;00m\n\u001b[1;32m-> 5912\u001b[0m     new_data \u001b[38;5;241m=\u001b[39m \u001b[38;5;28;43mself\u001b[39;49m\u001b[38;5;241;43m.\u001b[39;49m\u001b[43m_mgr\u001b[49m\u001b[38;5;241;43m.\u001b[39;49m\u001b[43mastype\u001b[49m\u001b[43m(\u001b[49m\u001b[43mdtype\u001b[49m\u001b[38;5;241;43m=\u001b[39;49m\u001b[43mdtype\u001b[49m\u001b[43m,\u001b[49m\u001b[43m \u001b[49m\u001b[43mcopy\u001b[49m\u001b[38;5;241;43m=\u001b[39;49m\u001b[43mcopy\u001b[49m\u001b[43m,\u001b[49m\u001b[43m \u001b[49m\u001b[43merrors\u001b[49m\u001b[38;5;241;43m=\u001b[39;49m\u001b[43merrors\u001b[49m\u001b[43m)\u001b[49m\n\u001b[0;32m   5913\u001b[0m     \u001b[38;5;28;01mreturn\u001b[39;00m \u001b[38;5;28mself\u001b[39m\u001b[38;5;241m.\u001b[39m_constructor(new_data)\u001b[38;5;241m.\u001b[39m__finalize__(\u001b[38;5;28mself\u001b[39m, method\u001b[38;5;241m=\u001b[39m\u001b[38;5;124m\"\u001b[39m\u001b[38;5;124mastype\u001b[39m\u001b[38;5;124m\"\u001b[39m)\n\u001b[0;32m   5915\u001b[0m \u001b[38;5;66;03m# GH 33113: handle empty frame or series\u001b[39;00m\n",
      "File \u001b[1;32mD:\\My Drive\\Pessoal\\environments\\data_science\\lib\\site-packages\\pandas\\core\\internals\\managers.py:419\u001b[0m, in \u001b[0;36mBaseBlockManager.astype\u001b[1;34m(self, dtype, copy, errors)\u001b[0m\n\u001b[0;32m    418\u001b[0m \u001b[38;5;28;01mdef\u001b[39;00m \u001b[38;5;21mastype\u001b[39m(\u001b[38;5;28mself\u001b[39m: T, dtype, copy: \u001b[38;5;28mbool\u001b[39m \u001b[38;5;241m=\u001b[39m \u001b[38;5;28;01mFalse\u001b[39;00m, errors: \u001b[38;5;28mstr\u001b[39m \u001b[38;5;241m=\u001b[39m \u001b[38;5;124m\"\u001b[39m\u001b[38;5;124mraise\u001b[39m\u001b[38;5;124m\"\u001b[39m) \u001b[38;5;241m-\u001b[39m\u001b[38;5;241m>\u001b[39m T:\n\u001b[1;32m--> 419\u001b[0m     \u001b[38;5;28;01mreturn\u001b[39;00m \u001b[38;5;28;43mself\u001b[39;49m\u001b[38;5;241;43m.\u001b[39;49m\u001b[43mapply\u001b[49m\u001b[43m(\u001b[49m\u001b[38;5;124;43m\"\u001b[39;49m\u001b[38;5;124;43mastype\u001b[39;49m\u001b[38;5;124;43m\"\u001b[39;49m\u001b[43m,\u001b[49m\u001b[43m \u001b[49m\u001b[43mdtype\u001b[49m\u001b[38;5;241;43m=\u001b[39;49m\u001b[43mdtype\u001b[49m\u001b[43m,\u001b[49m\u001b[43m \u001b[49m\u001b[43mcopy\u001b[49m\u001b[38;5;241;43m=\u001b[39;49m\u001b[43mcopy\u001b[49m\u001b[43m,\u001b[49m\u001b[43m \u001b[49m\u001b[43merrors\u001b[49m\u001b[38;5;241;43m=\u001b[39;49m\u001b[43merrors\u001b[49m\u001b[43m)\u001b[49m\n",
      "File \u001b[1;32mD:\\My Drive\\Pessoal\\environments\\data_science\\lib\\site-packages\\pandas\\core\\internals\\managers.py:304\u001b[0m, in \u001b[0;36mBaseBlockManager.apply\u001b[1;34m(self, f, align_keys, ignore_failures, **kwargs)\u001b[0m\n\u001b[0;32m    302\u001b[0m         applied \u001b[38;5;241m=\u001b[39m b\u001b[38;5;241m.\u001b[39mapply(f, \u001b[38;5;241m*\u001b[39m\u001b[38;5;241m*\u001b[39mkwargs)\n\u001b[0;32m    303\u001b[0m     \u001b[38;5;28;01melse\u001b[39;00m:\n\u001b[1;32m--> 304\u001b[0m         applied \u001b[38;5;241m=\u001b[39m \u001b[38;5;28mgetattr\u001b[39m(b, f)(\u001b[38;5;241m*\u001b[39m\u001b[38;5;241m*\u001b[39mkwargs)\n\u001b[0;32m    305\u001b[0m \u001b[38;5;28;01mexcept\u001b[39;00m (\u001b[38;5;167;01mTypeError\u001b[39;00m, \u001b[38;5;167;01mNotImplementedError\u001b[39;00m):\n\u001b[0;32m    306\u001b[0m     \u001b[38;5;28;01mif\u001b[39;00m \u001b[38;5;129;01mnot\u001b[39;00m ignore_failures:\n",
      "File \u001b[1;32mD:\\My Drive\\Pessoal\\environments\\data_science\\lib\\site-packages\\pandas\\core\\internals\\blocks.py:580\u001b[0m, in \u001b[0;36mBlock.astype\u001b[1;34m(self, dtype, copy, errors)\u001b[0m\n\u001b[0;32m    562\u001b[0m \u001b[38;5;124;03m\"\"\"\u001b[39;00m\n\u001b[0;32m    563\u001b[0m \u001b[38;5;124;03mCoerce to the new dtype.\u001b[39;00m\n\u001b[0;32m    564\u001b[0m \n\u001b[1;32m   (...)\u001b[0m\n\u001b[0;32m    576\u001b[0m \u001b[38;5;124;03mBlock\u001b[39;00m\n\u001b[0;32m    577\u001b[0m \u001b[38;5;124;03m\"\"\"\u001b[39;00m\n\u001b[0;32m    578\u001b[0m values \u001b[38;5;241m=\u001b[39m \u001b[38;5;28mself\u001b[39m\u001b[38;5;241m.\u001b[39mvalues\n\u001b[1;32m--> 580\u001b[0m new_values \u001b[38;5;241m=\u001b[39m \u001b[43mastype_array_safe\u001b[49m\u001b[43m(\u001b[49m\u001b[43mvalues\u001b[49m\u001b[43m,\u001b[49m\u001b[43m \u001b[49m\u001b[43mdtype\u001b[49m\u001b[43m,\u001b[49m\u001b[43m \u001b[49m\u001b[43mcopy\u001b[49m\u001b[38;5;241;43m=\u001b[39;49m\u001b[43mcopy\u001b[49m\u001b[43m,\u001b[49m\u001b[43m \u001b[49m\u001b[43merrors\u001b[49m\u001b[38;5;241;43m=\u001b[39;49m\u001b[43merrors\u001b[49m\u001b[43m)\u001b[49m\n\u001b[0;32m    582\u001b[0m new_values \u001b[38;5;241m=\u001b[39m maybe_coerce_values(new_values)\n\u001b[0;32m    583\u001b[0m newb \u001b[38;5;241m=\u001b[39m \u001b[38;5;28mself\u001b[39m\u001b[38;5;241m.\u001b[39mmake_block(new_values)\n",
      "File \u001b[1;32mD:\\My Drive\\Pessoal\\environments\\data_science\\lib\\site-packages\\pandas\\core\\dtypes\\cast.py:1292\u001b[0m, in \u001b[0;36mastype_array_safe\u001b[1;34m(values, dtype, copy, errors)\u001b[0m\n\u001b[0;32m   1289\u001b[0m     dtype \u001b[38;5;241m=\u001b[39m dtype\u001b[38;5;241m.\u001b[39mnumpy_dtype\n\u001b[0;32m   1291\u001b[0m \u001b[38;5;28;01mtry\u001b[39;00m:\n\u001b[1;32m-> 1292\u001b[0m     new_values \u001b[38;5;241m=\u001b[39m \u001b[43mastype_array\u001b[49m\u001b[43m(\u001b[49m\u001b[43mvalues\u001b[49m\u001b[43m,\u001b[49m\u001b[43m \u001b[49m\u001b[43mdtype\u001b[49m\u001b[43m,\u001b[49m\u001b[43m \u001b[49m\u001b[43mcopy\u001b[49m\u001b[38;5;241;43m=\u001b[39;49m\u001b[43mcopy\u001b[49m\u001b[43m)\u001b[49m\n\u001b[0;32m   1293\u001b[0m \u001b[38;5;28;01mexcept\u001b[39;00m (\u001b[38;5;167;01mValueError\u001b[39;00m, \u001b[38;5;167;01mTypeError\u001b[39;00m):\n\u001b[0;32m   1294\u001b[0m     \u001b[38;5;66;03m# e.g. astype_nansafe can fail on object-dtype of strings\u001b[39;00m\n\u001b[0;32m   1295\u001b[0m     \u001b[38;5;66;03m#  trying to convert to float\u001b[39;00m\n\u001b[0;32m   1296\u001b[0m     \u001b[38;5;28;01mif\u001b[39;00m errors \u001b[38;5;241m==\u001b[39m \u001b[38;5;124m\"\u001b[39m\u001b[38;5;124mignore\u001b[39m\u001b[38;5;124m\"\u001b[39m:\n",
      "File \u001b[1;32mD:\\My Drive\\Pessoal\\environments\\data_science\\lib\\site-packages\\pandas\\core\\dtypes\\cast.py:1237\u001b[0m, in \u001b[0;36mastype_array\u001b[1;34m(values, dtype, copy)\u001b[0m\n\u001b[0;32m   1234\u001b[0m     values \u001b[38;5;241m=\u001b[39m values\u001b[38;5;241m.\u001b[39mastype(dtype, copy\u001b[38;5;241m=\u001b[39mcopy)\n\u001b[0;32m   1236\u001b[0m \u001b[38;5;28;01melse\u001b[39;00m:\n\u001b[1;32m-> 1237\u001b[0m     values \u001b[38;5;241m=\u001b[39m \u001b[43mastype_nansafe\u001b[49m\u001b[43m(\u001b[49m\u001b[43mvalues\u001b[49m\u001b[43m,\u001b[49m\u001b[43m \u001b[49m\u001b[43mdtype\u001b[49m\u001b[43m,\u001b[49m\u001b[43m \u001b[49m\u001b[43mcopy\u001b[49m\u001b[38;5;241;43m=\u001b[39;49m\u001b[43mcopy\u001b[49m\u001b[43m)\u001b[49m\n\u001b[0;32m   1239\u001b[0m \u001b[38;5;66;03m# in pandas we don't store numpy str dtypes, so convert to object\u001b[39;00m\n\u001b[0;32m   1240\u001b[0m \u001b[38;5;28;01mif\u001b[39;00m \u001b[38;5;28misinstance\u001b[39m(dtype, np\u001b[38;5;241m.\u001b[39mdtype) \u001b[38;5;129;01mand\u001b[39;00m \u001b[38;5;28missubclass\u001b[39m(values\u001b[38;5;241m.\u001b[39mdtype\u001b[38;5;241m.\u001b[39mtype, \u001b[38;5;28mstr\u001b[39m):\n",
      "File \u001b[1;32mD:\\My Drive\\Pessoal\\environments\\data_science\\lib\\site-packages\\pandas\\core\\dtypes\\cast.py:1148\u001b[0m, in \u001b[0;36mastype_nansafe\u001b[1;34m(arr, dtype, copy, skipna)\u001b[0m\n\u001b[0;32m   1145\u001b[0m     \u001b[38;5;28;01mraise\u001b[39;00m \u001b[38;5;167;01mTypeError\u001b[39;00m(\u001b[38;5;124mf\u001b[39m\u001b[38;5;124m\"\u001b[39m\u001b[38;5;124mcannot astype a timedelta from [\u001b[39m\u001b[38;5;132;01m{\u001b[39;00marr\u001b[38;5;241m.\u001b[39mdtype\u001b[38;5;132;01m}\u001b[39;00m\u001b[38;5;124m] to [\u001b[39m\u001b[38;5;132;01m{\u001b[39;00mdtype\u001b[38;5;132;01m}\u001b[39;00m\u001b[38;5;124m]\u001b[39m\u001b[38;5;124m\"\u001b[39m)\n\u001b[0;32m   1147\u001b[0m \u001b[38;5;28;01melif\u001b[39;00m np\u001b[38;5;241m.\u001b[39missubdtype(arr\u001b[38;5;241m.\u001b[39mdtype, np\u001b[38;5;241m.\u001b[39mfloating) \u001b[38;5;129;01mand\u001b[39;00m np\u001b[38;5;241m.\u001b[39missubdtype(dtype, np\u001b[38;5;241m.\u001b[39minteger):\n\u001b[1;32m-> 1148\u001b[0m     \u001b[38;5;28;01mreturn\u001b[39;00m \u001b[43mastype_float_to_int_nansafe\u001b[49m\u001b[43m(\u001b[49m\u001b[43marr\u001b[49m\u001b[43m,\u001b[49m\u001b[43m \u001b[49m\u001b[43mdtype\u001b[49m\u001b[43m,\u001b[49m\u001b[43m \u001b[49m\u001b[43mcopy\u001b[49m\u001b[43m)\u001b[49m\n\u001b[0;32m   1150\u001b[0m \u001b[38;5;28;01melif\u001b[39;00m is_object_dtype(arr\u001b[38;5;241m.\u001b[39mdtype):\n\u001b[0;32m   1151\u001b[0m \n\u001b[0;32m   1152\u001b[0m     \u001b[38;5;66;03m# work around NumPy brokenness, #1987\u001b[39;00m\n\u001b[0;32m   1153\u001b[0m     \u001b[38;5;28;01mif\u001b[39;00m np\u001b[38;5;241m.\u001b[39missubdtype(dtype\u001b[38;5;241m.\u001b[39mtype, np\u001b[38;5;241m.\u001b[39minteger):\n",
      "File \u001b[1;32mD:\\My Drive\\Pessoal\\environments\\data_science\\lib\\site-packages\\pandas\\core\\dtypes\\cast.py:1193\u001b[0m, in \u001b[0;36mastype_float_to_int_nansafe\u001b[1;34m(values, dtype, copy)\u001b[0m\n\u001b[0;32m   1189\u001b[0m \u001b[38;5;124;03m\"\"\"\u001b[39;00m\n\u001b[0;32m   1190\u001b[0m \u001b[38;5;124;03mastype with a check preventing converting NaN to an meaningless integer value.\u001b[39;00m\n\u001b[0;32m   1191\u001b[0m \u001b[38;5;124;03m\"\"\"\u001b[39;00m\n\u001b[0;32m   1192\u001b[0m \u001b[38;5;28;01mif\u001b[39;00m \u001b[38;5;129;01mnot\u001b[39;00m np\u001b[38;5;241m.\u001b[39misfinite(values)\u001b[38;5;241m.\u001b[39mall():\n\u001b[1;32m-> 1193\u001b[0m     \u001b[38;5;28;01mraise\u001b[39;00m IntCastingNaNError(\n\u001b[0;32m   1194\u001b[0m         \u001b[38;5;124m\"\u001b[39m\u001b[38;5;124mCannot convert non-finite values (NA or inf) to integer\u001b[39m\u001b[38;5;124m\"\u001b[39m\n\u001b[0;32m   1195\u001b[0m     )\n\u001b[0;32m   1196\u001b[0m \u001b[38;5;28;01mreturn\u001b[39;00m values\u001b[38;5;241m.\u001b[39mastype(dtype, copy\u001b[38;5;241m=\u001b[39mcopy)\n",
      "\u001b[1;31mIntCastingNaNError\u001b[0m: Cannot convert non-finite values (NA or inf) to integer"
     ]
    }
   ],
   "source": [
    "# date_account_created\n",
    "df1['date_account_created'] = pd.to_datetime(df1['date_account_created'])\n",
    "# timestamp_first_active\n",
    "df1['timestamp_first_active'] = pd.to_datetime(df1['timestamp_first_active'], format='%Y%m%d%H%M%S')\n",
    "# date_first_booking\n",
    "df1['date_first_booking'] = pd.to_datetime(df1['date_first_booking'])\n",
    "# age\n",
    "df1['age'] = df1['age'].astype(int)"
   ]
  },
  {
   "cell_type": "markdown",
   "id": "ec519a6f",
   "metadata": {
    "heading_collapsed": true
   },
   "source": [
    "## 1.6 Check Balanced Data"
   ]
  },
  {
   "cell_type": "code",
   "execution_count": 9,
   "id": "c2cc1982",
   "metadata": {
    "ExecuteTime": {
     "end_time": "2022-12-04T10:41:21.062878Z",
     "start_time": "2022-12-04T10:41:21.034022Z"
    },
    "hidden": true
   },
   "outputs": [
    {
     "data": {
      "text/plain": [
       "US       0.708864\n",
       "other    0.110854\n",
       "FR       0.054085\n",
       "IT       0.029763\n",
       "GB       0.025935\n",
       "ES       0.024864\n",
       "CA       0.015696\n",
       "DE       0.012454\n",
       "NL       0.008801\n",
       "AU       0.006366\n",
       "PT       0.002318\n",
       "Name: country_destination, dtype: float64"
      ]
     },
     "execution_count": 9,
     "metadata": {},
     "output_type": "execute_result"
    }
   ],
   "source": [
    "df1['country_destination'].value_counts(normalize=True)"
   ]
  },
  {
   "cell_type": "markdown",
   "id": "88e9d7a0",
   "metadata": {
    "heading_collapsed": true
   },
   "source": [
    "## 1.7 Descriptive Statistic"
   ]
  },
  {
   "cell_type": "code",
   "execution_count": null,
   "id": "ba954ba9",
   "metadata": {
    "hidden": true
   },
   "outputs": [],
   "source": []
  },
  {
   "cell_type": "markdown",
   "id": "8c228bb3",
   "metadata": {
    "heading_collapsed": true
   },
   "source": [
    "# 2.0 Feature Engineering"
   ]
  },
  {
   "cell_type": "code",
   "execution_count": 10,
   "id": "273c2a90",
   "metadata": {
    "ExecuteTime": {
     "end_time": "2022-12-04T10:41:21.090369Z",
     "start_time": "2022-12-04T10:41:21.062878Z"
    },
    "hidden": true
   },
   "outputs": [],
   "source": [
    "df2 = df1.copy()"
   ]
  },
  {
   "cell_type": "markdown",
   "id": "4f755e02",
   "metadata": {
    "heading_collapsed": true
   },
   "source": [
    "# 3.0 Exploratory Data Analysis"
   ]
  },
  {
   "cell_type": "code",
   "execution_count": 11,
   "id": "b9b344e4",
   "metadata": {
    "ExecuteTime": {
     "end_time": "2022-12-04T10:41:21.124542Z",
     "start_time": "2022-12-04T10:41:21.090369Z"
    },
    "hidden": true
   },
   "outputs": [],
   "source": [
    "df3 = df2.copy()"
   ]
  },
  {
   "cell_type": "markdown",
   "id": "ccfa6107",
   "metadata": {
    "heading_collapsed": true
   },
   "source": [
    "# 4.0 Data Filtering"
   ]
  },
  {
   "cell_type": "code",
   "execution_count": 12,
   "id": "eff99efe",
   "metadata": {
    "ExecuteTime": {
     "end_time": "2022-12-04T10:41:21.157297Z",
     "start_time": "2022-12-04T10:41:21.124542Z"
    },
    "hidden": true
   },
   "outputs": [],
   "source": [
    "df4 = df3.copy()"
   ]
  },
  {
   "cell_type": "markdown",
   "id": "32d5d80b",
   "metadata": {
    "heading_collapsed": true,
    "hidden": true
   },
   "source": [
    "## 4.1 Filtering Rows"
   ]
  },
  {
   "cell_type": "code",
   "execution_count": null,
   "id": "9c5d2a12",
   "metadata": {
    "hidden": true
   },
   "outputs": [],
   "source": []
  },
  {
   "cell_type": "markdown",
   "id": "250e314b",
   "metadata": {
    "heading_collapsed": true,
    "hidden": true
   },
   "source": [
    "## 4.2 Columns Selection"
   ]
  },
  {
   "cell_type": "code",
   "execution_count": null,
   "id": "26123211",
   "metadata": {
    "hidden": true
   },
   "outputs": [],
   "source": []
  },
  {
   "cell_type": "markdown",
   "id": "d163ca7d",
   "metadata": {},
   "source": [
    "# 5.0 Data Preparation"
   ]
  },
  {
   "cell_type": "code",
   "execution_count": 13,
   "id": "c854b483",
   "metadata": {
    "ExecuteTime": {
     "end_time": "2022-12-04T10:41:21.194877Z",
     "start_time": "2022-12-04T10:41:21.165191Z"
    }
   },
   "outputs": [],
   "source": [
    "df5 = df4.copy()"
   ]
  },
  {
   "cell_type": "markdown",
   "id": "d5c824e3",
   "metadata": {
    "heading_collapsed": true
   },
   "source": [
    "## 5.1 Preprocessing"
   ]
  },
  {
   "cell_type": "code",
   "execution_count": 14,
   "id": "e4794f9b",
   "metadata": {
    "ExecuteTime": {
     "end_time": "2022-12-04T10:41:21.258836Z",
     "start_time": "2022-12-04T10:41:21.194877Z"
    },
    "hidden": true
   },
   "outputs": [],
   "source": [
    "X = df5.drop(['id', 'country_destination'], axis=1)\n",
    "y = df5['country_destination']\n",
    "X_train, X_test, y_train, y_test = ms.train_test_split(X, y, test_size=0.2, random_state=100)"
   ]
  },
  {
   "cell_type": "markdown",
   "id": "b3e25805",
   "metadata": {
    "heading_collapsed": true
   },
   "source": [
    "## 5.2 Target"
   ]
  },
  {
   "cell_type": "code",
   "execution_count": null,
   "id": "532a02de",
   "metadata": {
    "ExecuteTime": {
     "end_time": "2022-11-29T21:37:15.516511Z",
     "start_time": "2022-11-29T21:37:15.484526Z"
    },
    "hidden": true
   },
   "outputs": [],
   "source": []
  },
  {
   "cell_type": "markdown",
   "id": "c0db7156",
   "metadata": {
    "heading_collapsed": true
   },
   "source": [
    "## 5.3 Features"
   ]
  },
  {
   "cell_type": "markdown",
   "id": "daa3e5c3",
   "metadata": {
    "heading_collapsed": true,
    "hidden": true
   },
   "source": [
    "### 5.3.1 Encodings"
   ]
  },
  {
   "cell_type": "code",
   "execution_count": 15,
   "id": "2be275a2",
   "metadata": {
    "ExecuteTime": {
     "end_time": "2022-12-04T10:41:21.498841Z",
     "start_time": "2022-12-04T10:41:21.258836Z"
    },
    "hidden": true
   },
   "outputs": [],
   "source": [
    "cat_attributes = df5.drop(['id', 'country_destination'], axis=1).select_dtypes(exclude=[int, float, 'datetime64[ns]']).columns.to_list()\n",
    "\n",
    "temp = pd.get_dummies(df5[cat_attributes])\n",
    "\n",
    "df5 = pd.concat([df5, temp], axis=1).drop(cat_attributes, axis=1)"
   ]
  },
  {
   "cell_type": "markdown",
   "id": "710a65c0",
   "metadata": {
    "heading_collapsed": true
   },
   "source": [
    "# 6.0 Feature Selection"
   ]
  },
  {
   "cell_type": "code",
   "execution_count": 16,
   "id": "943cbccd",
   "metadata": {
    "ExecuteTime": {
     "end_time": "2022-12-04T10:41:21.527028Z",
     "start_time": "2022-12-04T10:41:21.498841Z"
    },
    "hidden": true
   },
   "outputs": [],
   "source": [
    "df6 = df5.copy()"
   ]
  },
  {
   "cell_type": "code",
   "execution_count": 17,
   "id": "bca0cee8",
   "metadata": {
    "ExecuteTime": {
     "end_time": "2022-12-04T10:41:21.562782Z",
     "start_time": "2022-12-04T10:41:21.527028Z"
    },
    "hidden": true
   },
   "outputs": [],
   "source": [
    "cols_drop = 'date_account_created timestamp_first_active date_first_booking'.split()\n",
    "df6.drop(cols_drop, axis=1, inplace=True)"
   ]
  },
  {
   "cell_type": "markdown",
   "id": "ce135751",
   "metadata": {},
   "source": [
    "# 7.0 Machine Learning Modeling"
   ]
  },
  {
   "cell_type": "code",
   "execution_count": 18,
   "id": "93b5da9d",
   "metadata": {
    "ExecuteTime": {
     "end_time": "2022-12-04T10:41:21.594765Z",
     "start_time": "2022-12-04T10:41:21.562782Z"
    }
   },
   "outputs": [],
   "source": [
    "df7 = df6.copy()"
   ]
  },
  {
   "cell_type": "markdown",
   "id": "1cf8fc75",
   "metadata": {
    "heading_collapsed": true
   },
   "source": [
    "## 7.1 Preprocessing"
   ]
  },
  {
   "cell_type": "code",
   "execution_count": 19,
   "id": "067d3db1",
   "metadata": {
    "ExecuteTime": {
     "end_time": "2022-12-04T10:41:21.637409Z",
     "start_time": "2022-12-04T10:41:21.594765Z"
    },
    "hidden": true
   },
   "outputs": [],
   "source": [
    "X = df7.drop(['id', 'country_destination'], axis=1)\n",
    "y = df7['country_destination']"
   ]
  },
  {
   "cell_type": "markdown",
   "id": "29d3f65c",
   "metadata": {},
   "source": [
    "## 7.2 Models"
   ]
  },
  {
   "cell_type": "markdown",
   "id": "0115eb01",
   "metadata": {
    "heading_collapsed": true
   },
   "source": [
    "### 7.2.1 Baseline Model"
   ]
  },
  {
   "cell_type": "code",
   "execution_count": 20,
   "id": "ce9b1610",
   "metadata": {
    "ExecuteTime": {
     "end_time": "2022-12-04T10:41:23.483366Z",
     "start_time": "2022-12-04T10:41:21.637409Z"
    },
    "hidden": true
   },
   "outputs": [
    {
     "name": "stdout",
     "output_type": "stream",
     "text": [
      "Accuracy: 0.5218921892189219\n",
      "Balanced Accuracy: 0.09208661329805738\n",
      "Kappa Score : 0.006222379511518494\n",
      "\n",
      "              precision    recall  f1-score   support\n",
      "\n",
      "          AU       0.00      0.00      0.00        83\n",
      "          CA       0.02      0.02      0.02       234\n",
      "          DE       0.02      0.02      0.02       158\n",
      "          ES       0.01      0.02      0.01       331\n",
      "          FR       0.06      0.06      0.06       724\n",
      "          GB       0.03      0.02      0.03       385\n",
      "          IT       0.03      0.03      0.03       423\n",
      "          NL       0.02      0.02      0.02       129\n",
      "          PT       0.00      0.00      0.00        28\n",
      "          US       0.71      0.72      0.71      9590\n",
      "       other       0.12      0.12      0.12      1550\n",
      "\n",
      "    accuracy                           0.52     13635\n",
      "   macro avg       0.09      0.09      0.09     13635\n",
      "weighted avg       0.52      0.52      0.52     13635\n",
      "\n"
     ]
    },
    {
     "data": {
      "image/png": "[encoded data removed]",
      "text/plain": [
       "<Figure size 648x648 with 2 Axes>"
      ]
     },
     "metadata": {
      "needs_background": "light"
     },
     "output_type": "display_data"
    }
   ],
   "source": [
    "# train test split\n",
    "X_train, X_test, y_train, y_test = ms.train_test_split(X, y, test_size=0.2, random_state=100)\n",
    "\n",
    "# random y_hat weighted\n",
    "p = y_train.value_counts(normalize=True).sort_index().values\n",
    "a = y_train.drop_duplicates().sort_index().sort_values()\n",
    "y_hat = np.random.choice(a=a, size=len(y_test), p=p)\n",
    "\n",
    "# metrics\n",
    "acc = m.accuracy_score(y_test, y_hat)\n",
    "balanced_acc = m.balanced_accuracy_score(y_test, y_hat)\n",
    "kappa = m.cohen_kappa_score(y_test, y_hat)\n",
    "\n",
    "print(f'Accuracy: {acc}')\n",
    "print(f'Balanced Accuracy: {balanced_acc}')\n",
    "print(f'Kappa Score : {kappa}')\n",
    "print('')\n",
    "print(f'{m.classification_report(y_test, y_hat)}')\n",
    "\n",
    "mt.plot_confusion_matrix(y_test, y_hat, normalize=False, figsize=(9, 9));"
   ]
  },
  {
   "cell_type": "markdown",
   "id": "66349dd2",
   "metadata": {},
   "source": [
    "### 7.2.2 Neural Network MLP"
   ]
  },
  {
   "cell_type": "markdown",
   "id": "eb019216",
   "metadata": {
    "ExecuteTime": {
     "end_time": "2022-12-03T13:31:33.376791Z",
     "start_time": "2022-12-03T13:31:33.365771Z"
    },
    "heading_collapsed": true
   },
   "source": [
    "#### 7.2.2.1 Neural Network Single Validation"
   ]
  },
  {
   "cell_type": "code",
   "execution_count": 21,
   "id": "cd2c4d91",
   "metadata": {
    "ExecuteTime": {
     "end_time": "2022-12-04T10:43:22.901555Z",
     "start_time": "2022-12-04T10:41:23.483366Z"
    },
    "hidden": true,
    "scrolled": false
   },
   "outputs": [
    {
     "name": "stdout",
     "output_type": "stream",
     "text": [
      "427/427 [==============================] - 1s 2ms/step\n",
      "Accuracy: 0.7031903190319032\n",
      "Balanced Accuracy: 0.09145602618761632\n",
      "Kappa Score : 0.0004978777478733543\n",
      "\n"
     ]
    },
    {
     "name": "stderr",
     "output_type": "stream",
     "text": [
      "D:\\My Drive\\Pessoal\\environments\\data_science\\lib\\site-packages\\sklearn\\metrics\\_classification.py:1327: UndefinedMetricWarning: Precision and F-score are ill-defined and being set to 0.0 in labels with no predicted samples. Use `zero_division` parameter to control this behavior.\n",
      "  _warn_prf(average, modifier, msg_start, len(result))\n",
      "D:\\My Drive\\Pessoal\\environments\\data_science\\lib\\site-packages\\sklearn\\metrics\\_classification.py:1327: UndefinedMetricWarning: Precision and F-score are ill-defined and being set to 0.0 in labels with no predicted samples. Use `zero_division` parameter to control this behavior.\n",
      "  _warn_prf(average, modifier, msg_start, len(result))\n",
      "D:\\My Drive\\Pessoal\\environments\\data_science\\lib\\site-packages\\sklearn\\metrics\\_classification.py:1327: UndefinedMetricWarning: Precision and F-score are ill-defined and being set to 0.0 in labels with no predicted samples. Use `zero_division` parameter to control this behavior.\n",
      "  _warn_prf(average, modifier, msg_start, len(result))\n"
     ]
    },
    {
     "name": "stdout",
     "output_type": "stream",
     "text": [
      "              precision    recall  f1-score   support\n",
      "\n",
      "          AU       0.00      0.00      0.00        83\n",
      "          CA       0.00      0.00      0.00       234\n",
      "          DE       1.00      0.01      0.01       158\n",
      "          ES       0.00      0.00      0.00       331\n",
      "          FR       0.00      0.00      0.00       724\n",
      "          GB       0.00      0.00      0.00       385\n",
      "          IT       0.00      0.00      0.00       423\n",
      "          NL       0.00      0.00      0.00       129\n",
      "          PT       0.00      0.00      0.00        28\n",
      "          US       0.70      1.00      0.83      9590\n",
      "       other       0.00      0.00      0.00      1550\n",
      "\n",
      "    accuracy                           0.70     13635\n",
      "   macro avg       0.15      0.09      0.08     13635\n",
      "weighted avg       0.51      0.70      0.58     13635\n",
      "\n"
     ]
    },
    {
     "data": {
      "image/png": "[encoded data removed]",
      "text/plain": [
       "<Figure size 648x648 with 2 Axes>"
      ]
     },
     "metadata": {
      "needs_background": "light"
     },
     "output_type": "display_data"
    }
   ],
   "source": [
    "# train test split\n",
    "X_train, X_test, y_train, y_test = ms.train_test_split(X, y, test_size=0.2, random_state=100)\n",
    "\n",
    "# encoding y\n",
    "ohe = pp.OneHotEncoder()\n",
    "ohe_y = ohe.fit(y.values.reshape(-1, 1))\n",
    "y_train_nn = ohe_y.transform(y_train.values.reshape(-1, 1)).toarray()\n",
    "\n",
    "# model definition\n",
    "nn_model = ml.Sequential()\n",
    "nn_model.add(l.Dense(128, input_dim=X_train.shape[1], activation='relu'))\n",
    "nn_model.add(l.Dense(11, activation='softmax'))\n",
    "\n",
    "# model compile\n",
    "nn_model.compile(loss='categorical_crossentropy', optimizer='adam', metrics='accuracy')\n",
    "\n",
    "# fiting model\n",
    "nn_model.fit(X_train, y_train_nn, epochs=30, verbose=0, batch_size=32)\n",
    "\n",
    "# predicting\n",
    "y_hat = nn_model.predict(X_test)\n",
    "\n",
    "# formating\n",
    "y_hat = ohe.inverse_transform(y_hat)\n",
    "y_hat = y_hat.reshape(1, -1)[0]\n",
    "y_test_nn = y_test.to_numpy()\n",
    "\n",
    "# metrics\n",
    "acc = m.accuracy_score(y_test_nn, y_hat)\n",
    "balanced_acc = m.balanced_accuracy_score(y_test_nn, y_hat)\n",
    "kappa = m.cohen_kappa_score(y_test_nn, y_hat)\n",
    "    \n",
    "# prints\n",
    "print(f'Accuracy: {acc}')\n",
    "print(f'Balanced Accuracy: {balanced_acc}')\n",
    "print(f'Kappa Score : {kappa}')\n",
    "print('')\n",
    "print(f'{m.classification_report(y_test_nn, y_hat)}')\n",
    "mt.plot_confusion_matrix(y_test_nn, y_hat, normalize=False, figsize=(9, 9));"
   ]
  },
  {
   "cell_type": "markdown",
   "id": "5ec7d74e",
   "metadata": {
    "ExecuteTime": {
     "end_time": "2022-12-03T13:31:33.376791Z",
     "start_time": "2022-12-03T13:31:33.365771Z"
    }
   },
   "source": [
    "#### 7.2.2.2 Neural Network Crossvalidation"
   ]
  },
  {
   "cell_type": "code",
   "execution_count": 22,
   "id": "3d53bc69",
   "metadata": {
    "ExecuteTime": {
     "end_time": "2022-12-04T10:53:38.449915Z",
     "start_time": "2022-12-04T10:43:22.905926Z"
    }
   },
   "outputs": [
    {
     "name": "stdout",
     "output_type": "stream",
     "text": [
      "427/427 [==============================] - 1s 2ms/step\n",
      "Fold Number: 1\n",
      "Balanced Accuracy: 0.09149452376279021\n",
      "Kappa Score : 0.0026940329605565916\n",
      "\n",
      "427/427 [==============================] - 1s 2ms/step\n",
      "Fold Number: 2\n",
      "Balanced Accuracy: 0.0919395727562843\n",
      "Kappa Score : 0.001695524107986679\n",
      "\n",
      "427/427 [==============================] - 1s 2ms/step\n",
      "Fold Number: 4\n",
      "Balanced Accuracy: 0.0912947651474735\n",
      "Kappa Score : 0.001440382249631389\n",
      "\n",
      "427/427 [==============================] - 1s 2ms/step\n",
      "Fold Number: 8\n",
      "Balanced Accuracy: 0.09114745733649988\n",
      "Kappa Score : 0.0008867002293695414\n",
      "\n",
      "427/427 [==============================] - 1s 2ms/step\n",
      "Fold Number: 16\n",
      "Balanced Accuracy: 0.09088086995785671\n",
      "Kappa Score : -9.971847486078822e-05\n",
      "\n"
     ]
    }
   ],
   "source": [
    "acc_list, balanced_acc_list, kappa_list = [], [], []\n",
    "\n",
    "num_folds = 5\n",
    "i = 1\n",
    "skf = ms.StratifiedKFold(n_splits= num_folds, random_state=100, shuffle=True)\n",
    "\n",
    "for train_index, test_index in skf.split(X, y):\n",
    "    \n",
    "    # get fold\n",
    "    X_train_fold = X.iloc[train_index]\n",
    "    y_train_fold = y.iloc[train_index]\n",
    "    \n",
    "    X_test_fold = X.iloc[test_index]\n",
    "    y_test_fold = y.iloc[test_index]\n",
    "  \n",
    "\n",
    "    # encoding y\n",
    "    y_train_fold = ohe_y.transform(y_train_fold.values.reshape(-1, 1)).toarray()\n",
    "    \n",
    "    # model definition\n",
    "    nn_model = ml.Sequential()\n",
    "    nn_model.add(l.Dense(128, input_dim=X_train_fold.shape[1], activation='relu'))\n",
    "    nn_model.add(l.Dense(11, activation='softmax'))\n",
    "\n",
    "    # model compile\n",
    "    nn_model.compile(loss='categorical_crossentropy', optimizer='adam', metrics='accuracy')\n",
    "\n",
    "    # fiting model\n",
    "    nn_model.fit(X_train_fold, y_train_fold, epochs=30, verbose=0, batch_size=32)\n",
    "\n",
    "    # predicting\n",
    "    y_hat = nn_model.predict(X_test_fold)\n",
    "\n",
    "    # formating\n",
    "    y_hat = ohe_y.inverse_transform(y_hat)\n",
    "    y_hat = y_hat.reshape(1, -1)[0]\n",
    "    y_test_fold = y_test_fold.to_numpy()\n",
    "    \n",
    "    # metrics\n",
    "    acc = m.accuracy_score(y_test_fold, y_hat)\n",
    "    acc_list.append(acc)\n",
    "    balanced_acc = m.balanced_accuracy_score(y_test_fold, y_hat)\n",
    "    balanced_acc_list.append(balanced_acc)\n",
    "    kappa = m.cohen_kappa_score(y_test_fold, y_hat)\n",
    "    kappa_list.append(kappa)\n",
    "    \n",
    "    # prints\n",
    "    print(f'Fold Number: {i}')\n",
    "    print(f'Balanced Accuracy: {balanced_acc}')\n",
    "    print(f'Kappa Score : {kappa}\\n')\n",
    "    i += i"
   ]
  },
  {
   "cell_type": "markdown",
   "id": "eccfb8a6",
   "metadata": {},
   "source": [
    "### 7.2.1 XGBoost Classifier"
   ]
  },
  {
   "cell_type": "markdown",
   "id": "3f3e5c34",
   "metadata": {
    "ExecuteTime": {
     "end_time": "2022-12-03T13:31:33.376791Z",
     "start_time": "2022-12-03T13:31:33.365771Z"
    },
    "heading_collapsed": true
   },
   "source": [
    "#### 7.2.3.1 XGBoost Classifier Sigle Validation"
   ]
  },
  {
   "cell_type": "code",
   "execution_count": 23,
   "id": "bab570c7",
   "metadata": {
    "ExecuteTime": {
     "end_time": "2022-12-04T10:53:38.475811Z",
     "start_time": "2022-12-04T10:53:38.449915Z"
    },
    "hidden": true,
    "scrolled": false
   },
   "outputs": [],
   "source": [
    "# # encoding y\n",
    "# le_y = pp.LabelEncoder().fit(y)\n",
    "\n",
    "# y_train_le = le_y.transform(y_train)\n",
    "# y_test_le = le_y.transform(y_test)\n",
    "\n",
    "# # model defition\n",
    "# xgb_model = XGBClassifier()\n",
    "\n",
    "# # fiting model\n",
    "# xgb_fit = xgb_model.fit(X_train, y_train_le)\n",
    "\n",
    "# # predicting\n",
    "# y_hat = xgb_fit.predict(X_test)\n",
    "\n",
    "# # formating\n",
    "# y_hat = le_y.inverse_transform(y_hat)\n",
    "\n",
    "# # metrics\n",
    "# acc = m.accuracy_score(y_test, y_hat)\n",
    "# balanced_acc = m.balanced_accuracy_score(y_test, y_hat)\n",
    "# kappa = m.cohen_kappa_score(y_test, y_hat)\n",
    "    \n",
    "# # prints\n",
    "# print(f'Accuracy: {acc}')\n",
    "# print(f'Balanced Accuracy: {balanced_acc}')\n",
    "# print(f'Kappa Score : {kappa}')\n",
    "# print('')\n",
    "# print(f'{m.classification_report(y_test, y_hat)}');\n",
    "\n",
    "# mt.plot_confusion_matrix(y_test, y_hat, normalize=False, figsize=(9, 9));"
   ]
  },
  {
   "cell_type": "markdown",
   "id": "856b3456",
   "metadata": {
    "ExecuteTime": {
     "end_time": "2022-12-03T13:31:33.376791Z",
     "start_time": "2022-12-03T13:31:33.365771Z"
    }
   },
   "source": [
    "#### 7.2.3.2 XGBoost Classifier Crossvalidation"
   ]
  },
  {
   "cell_type": "code",
   "execution_count": 24,
   "id": "3e0fa23d",
   "metadata": {
    "ExecuteTime": {
     "end_time": "2022-12-04T10:53:38.491448Z",
     "start_time": "2022-12-04T10:53:38.475811Z"
    },
    "scrolled": false
   },
   "outputs": [],
   "source": [
    "# acc_list, balanced_acc_list, kappa_list = [], [], []\n",
    "\n",
    "# num_folds = 5\n",
    "# i = 1\n",
    "# skf = ms.StratifiedKFold(n_splits= num_folds, random_state=100, shuffle=True)\n",
    "\n",
    "# for train_index, test_index in skf.split(X, y):\n",
    "    \n",
    "#     # get fold\n",
    "#     X_train_fold = X.iloc[train_index]\n",
    "#     y_train_fold = y.iloc[train_index]\n",
    "    \n",
    "#     X_test_fold = X.iloc[test_index]\n",
    "#     y_test_fold = y.iloc[test_index]\n",
    "    \n",
    "#     # encoding y\n",
    "#     y_train_fold_le = le_y.transform(y_train_fold)\n",
    "    \n",
    "#     # model defition\n",
    "#     xgb_model = XGBClassifier()\n",
    "    \n",
    "#     # fiting model\n",
    "#     xgb_fit = xgb_model.fit(X_train_fold, y_train_fold_le)\n",
    "\n",
    "#     # predicting\n",
    "#     y_hat = xgb_fit.predict(X_test_fold)\n",
    "    \n",
    "#     # formating\n",
    "#     y_hat = le_y.inverse_transform(y_hat)\n",
    "    \n",
    "#     # metrics\n",
    "#     acc = m.accuracy_score(y_test_fold, y_hat)\n",
    "#     acc_list.append(acc)\n",
    "#     balanced_acc = m.balanced_accuracy_score(y_test_fold, y_hat)\n",
    "#     balanced_acc_list.append(balanced_acc)\n",
    "#     kappa = m.cohen_kappa_score(y_test_fold, y_hat)\n",
    "#     kappa_list.append(kappa)\n",
    "    \n",
    "\n",
    "#     # prints\n",
    "#     print(f'Fold Number: {i}')\n",
    "#     print(f'Balanced Accuracy: {balanced_acc}')\n",
    "#     print(f'Kappa Score : {kappa}\\n')\n",
    "#     i += i"
   ]
  },
  {
   "cell_type": "markdown",
   "id": "5bd3f99b",
   "metadata": {},
   "source": [
    "# 8.0 Model Performance"
   ]
  },
  {
   "cell_type": "markdown",
   "id": "5e415d70",
   "metadata": {},
   "source": [
    "## 8.1 Machine Learning Performance"
   ]
  },
  {
   "cell_type": "code",
   "execution_count": null,
   "id": "f16d5a8d",
   "metadata": {},
   "outputs": [],
   "source": []
  }
 ],
 "metadata": {
  "kernelspec": {
   "display_name": "Python 3 (ipykernel)",
   "language": "python",
   "name": "python3"
  },
  "language_info": {
   "codemirror_mode": {
    "name": "ipython",
    "version": 3
   },
   "file_extension": ".py",
   "mimetype": "text/x-python",
   "name": "python",
   "nbconvert_exporter": "python",
   "pygments_lexer": "ipython3",
   "version": "3.9.13"
  }
 },
 "nbformat": 4,
 "nbformat_minor": 5
}
