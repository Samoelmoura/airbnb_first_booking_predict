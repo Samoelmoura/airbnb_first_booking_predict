{
 "cells": [
  {
   "cell_type": "markdown",
   "id": "17947240",
   "metadata": {
    "heading_collapsed": true
   },
   "source": [
    "# 0.0 Imports"
   ]
  },
  {
   "cell_type": "code",
   "execution_count": 1,
   "id": "e71abd30",
   "metadata": {
    "ExecuteTime": {
     "end_time": "2022-11-29T22:11:41.389554Z",
     "start_time": "2022-11-29T22:11:37.142342Z"
    },
    "hidden": true
   },
   "outputs": [],
   "source": [
    "import pandas as pd\n",
    "import numpy as np\n",
    "import matplotlib.pyplot as plt\n",
    "import seaborn as sns\n",
    "\n",
    "from keras import models as ml\n",
    "from keras import layers as l\n",
    "\n",
    "from sklearn import preprocessing as pp\n",
    "from sklearn import metrics as m\n",
    "from sklearn import model_selection as ms\n",
    "\n",
    "from scikitplot import metrics as mt"
   ]
  },
  {
   "cell_type": "markdown",
   "id": "72336cae",
   "metadata": {
    "heading_collapsed": true,
    "hidden": true
   },
   "source": [
    "## 0.1 Importing Data"
   ]
  },
  {
   "cell_type": "code",
   "execution_count": 2,
   "id": "84fe214a",
   "metadata": {
    "ExecuteTime": {
     "end_time": "2022-11-29T22:11:41.785331Z",
     "start_time": "2022-11-29T22:11:41.389554Z"
    },
    "hidden": true,
    "scrolled": false
   },
   "outputs": [],
   "source": [
    "df_raw = pd.read_csv('D:\\\\My Drive\\\\Pessoal\\\\projetos\\\\airbnb_first_booking_predict\\\\airbnb_first_booking_predict\\\\data\\\\raw\\\\train_users_2.csv')\n",
    "# sessions = pd.read_csv('D:\\\\My Drive\\\\Pessoal\\\\projetos\\\\airbnb_predict_first_booking\\\\airbnb_predict_first_booking\\\\data\\\\raw\\\\sessions.csv')"
   ]
  },
  {
   "cell_type": "markdown",
   "id": "31fe56c4",
   "metadata": {
    "heading_collapsed": true,
    "hidden": true
   },
   "source": [
    "## 0.2 Helper Functions"
   ]
  },
  {
   "cell_type": "code",
   "execution_count": null,
   "id": "acd78a32",
   "metadata": {
    "hidden": true
   },
   "outputs": [],
   "source": []
  },
  {
   "cell_type": "markdown",
   "id": "389a21f3",
   "metadata": {
    "heading_collapsed": true
   },
   "source": [
    "# 1.0 Data Description"
   ]
  },
  {
   "cell_type": "code",
   "execution_count": 3,
   "id": "9c5b3f72",
   "metadata": {
    "ExecuteTime": {
     "end_time": "2022-11-29T22:11:41.808593Z",
     "start_time": "2022-11-29T22:11:41.785331Z"
    },
    "hidden": true
   },
   "outputs": [],
   "source": [
    "df1 = df_raw.copy()"
   ]
  },
  {
   "cell_type": "markdown",
   "id": "65be35d2",
   "metadata": {
    "heading_collapsed": true,
    "hidden": true
   },
   "source": [
    "## 1.1 Data Dimension"
   ]
  },
  {
   "cell_type": "code",
   "execution_count": 4,
   "id": "f243b986",
   "metadata": {
    "ExecuteTime": {
     "end_time": "2022-11-29T22:11:41.830566Z",
     "start_time": "2022-11-29T22:11:41.808593Z"
    },
    "hidden": true
   },
   "outputs": [
    {
     "name": "stdout",
     "output_type": "stream",
     "text": [
      "Há: 213451 linhas no total\n",
      "Há: 16 colunas no total\n"
     ]
    }
   ],
   "source": [
    "print(f'Há: {df1.shape[0]} linhas no total')\n",
    "print(f'Há: {df1.shape[1]} colunas no total')"
   ]
  },
  {
   "cell_type": "markdown",
   "id": "19c6d256",
   "metadata": {
    "heading_collapsed": true,
    "hidden": true
   },
   "source": [
    "## 1.2 Datatypes"
   ]
  },
  {
   "cell_type": "code",
   "execution_count": 5,
   "id": "028eeec9",
   "metadata": {
    "ExecuteTime": {
     "end_time": "2022-11-29T22:11:41.862579Z",
     "start_time": "2022-11-29T22:11:41.830566Z"
    },
    "hidden": true
   },
   "outputs": [
    {
     "data": {
      "text/plain": [
       "id                          object\n",
       "date_account_created        object\n",
       "timestamp_first_active       int64\n",
       "date_first_booking          object\n",
       "gender                      object\n",
       "age                        float64\n",
       "signup_method               object\n",
       "signup_flow                  int64\n",
       "language                    object\n",
       "affiliate_channel           object\n",
       "affiliate_provider          object\n",
       "first_affiliate_tracked     object\n",
       "signup_app                  object\n",
       "first_device_type           object\n",
       "first_browser               object\n",
       "country_destination         object\n",
       "dtype: object"
      ]
     },
     "execution_count": 5,
     "metadata": {},
     "output_type": "execute_result"
    }
   ],
   "source": [
    "df1.dtypes"
   ]
  },
  {
   "cell_type": "markdown",
   "id": "616992a2",
   "metadata": {
    "heading_collapsed": true,
    "hidden": true
   },
   "source": [
    "## 1.3 Check Na"
   ]
  },
  {
   "cell_type": "code",
   "execution_count": 6,
   "id": "e2e2a119",
   "metadata": {
    "ExecuteTime": {
     "end_time": "2022-11-29T22:11:42.164795Z",
     "start_time": "2022-11-29T22:11:41.862579Z"
    },
    "hidden": true
   },
   "outputs": [
    {
     "data": {
      "text/plain": [
       "id                              0\n",
       "date_account_created            0\n",
       "timestamp_first_active          0\n",
       "date_first_booking         124543\n",
       "gender                          0\n",
       "age                         87990\n",
       "signup_method                   0\n",
       "signup_flow                     0\n",
       "language                        0\n",
       "affiliate_channel               0\n",
       "affiliate_provider              0\n",
       "first_affiliate_tracked      6065\n",
       "signup_app                      0\n",
       "first_device_type               0\n",
       "first_browser                   0\n",
       "country_destination             0\n",
       "dtype: int64"
      ]
     },
     "execution_count": 6,
     "metadata": {},
     "output_type": "execute_result"
    }
   ],
   "source": [
    "df1.isna().sum()"
   ]
  },
  {
   "cell_type": "markdown",
   "id": "2d60b158",
   "metadata": {
    "heading_collapsed": true,
    "hidden": true
   },
   "source": [
    "## 1.4 Filout Na"
   ]
  },
  {
   "cell_type": "code",
   "execution_count": 7,
   "id": "a3c5097a",
   "metadata": {
    "ExecuteTime": {
     "end_time": "2022-11-29T22:11:42.473199Z",
     "start_time": "2022-11-29T22:11:42.164795Z"
    },
    "hidden": true
   },
   "outputs": [
    {
     "name": "stdout",
     "output_type": "stream",
     "text": [
      "Porcentagem da base removida: 68.06%\n"
     ]
    }
   ],
   "source": [
    "# remove missing value completly\n",
    "temp = df1.shape[0]\n",
    "df1.dropna(inplace=True)\n",
    "print(f'Porcentagem da base removida: {round((temp - df1.shape[0]) * 100/ temp, 2)}%')"
   ]
  },
  {
   "cell_type": "markdown",
   "id": "9be5bd15",
   "metadata": {
    "heading_collapsed": true,
    "hidden": true
   },
   "source": [
    "## 1.5 Changing datatype"
   ]
  },
  {
   "cell_type": "code",
   "execution_count": 8,
   "id": "b5ad1c6a",
   "metadata": {
    "ExecuteTime": {
     "end_time": "2022-11-29T22:11:42.710948Z",
     "start_time": "2022-11-29T22:11:42.473199Z"
    },
    "hidden": true
   },
   "outputs": [],
   "source": [
    "# date_account_created\n",
    "df1['date_account_created'] = pd.to_datetime(df1['date_account_created'])\n",
    "# timestamp_first_active\n",
    "df1['timestamp_first_active'] = pd.to_datetime(df1['timestamp_first_active'], format='%Y%m%d%H%M%S')\n",
    "# date_first_booking\n",
    "df1['date_first_booking'] = pd.to_datetime(df1['date_first_booking'])\n",
    "# age\n",
    "df1['age'] = df1['age'].astype(int)"
   ]
  },
  {
   "cell_type": "markdown",
   "id": "ec519a6f",
   "metadata": {
    "heading_collapsed": true,
    "hidden": true
   },
   "source": [
    "## 1.6 Check Balanced Data"
   ]
  },
  {
   "cell_type": "code",
   "execution_count": 9,
   "id": "c2cc1982",
   "metadata": {
    "ExecuteTime": {
     "end_time": "2022-11-29T22:11:42.742887Z",
     "start_time": "2022-11-29T22:11:42.710948Z"
    },
    "hidden": true
   },
   "outputs": [
    {
     "data": {
      "text/plain": [
       "US       0.708864\n",
       "other    0.110854\n",
       "FR       0.054085\n",
       "IT       0.029763\n",
       "GB       0.025935\n",
       "ES       0.024864\n",
       "CA       0.015696\n",
       "DE       0.012454\n",
       "NL       0.008801\n",
       "AU       0.006366\n",
       "PT       0.002318\n",
       "Name: country_destination, dtype: float64"
      ]
     },
     "execution_count": 9,
     "metadata": {},
     "output_type": "execute_result"
    }
   ],
   "source": [
    "df1['country_destination'].value_counts(normalize=True)"
   ]
  },
  {
   "cell_type": "markdown",
   "id": "88e9d7a0",
   "metadata": {
    "heading_collapsed": true,
    "hidden": true
   },
   "source": [
    "## 1.7 Descriptive Statistic"
   ]
  },
  {
   "cell_type": "code",
   "execution_count": null,
   "id": "ba954ba9",
   "metadata": {
    "hidden": true
   },
   "outputs": [],
   "source": []
  },
  {
   "cell_type": "markdown",
   "id": "8c228bb3",
   "metadata": {
    "heading_collapsed": true
   },
   "source": [
    "# 2.0 Feature Engineering"
   ]
  },
  {
   "cell_type": "code",
   "execution_count": 10,
   "id": "273c2a90",
   "metadata": {
    "ExecuteTime": {
     "end_time": "2022-11-29T22:11:42.758744Z",
     "start_time": "2022-11-29T22:11:42.742887Z"
    },
    "hidden": true
   },
   "outputs": [],
   "source": [
    "df2 = df1.copy()"
   ]
  },
  {
   "cell_type": "markdown",
   "id": "4f755e02",
   "metadata": {
    "heading_collapsed": true
   },
   "source": [
    "# 3.0 Exploratory Data Analysis"
   ]
  },
  {
   "cell_type": "code",
   "execution_count": 11,
   "id": "b9b344e4",
   "metadata": {
    "ExecuteTime": {
     "end_time": "2022-11-29T22:11:42.774821Z",
     "start_time": "2022-11-29T22:11:42.758744Z"
    },
    "hidden": true
   },
   "outputs": [],
   "source": [
    "df3 = df2.copy()"
   ]
  },
  {
   "cell_type": "markdown",
   "id": "ccfa6107",
   "metadata": {
    "heading_collapsed": true
   },
   "source": [
    "# 4.0 Data Filtering"
   ]
  },
  {
   "cell_type": "code",
   "execution_count": 12,
   "id": "eff99efe",
   "metadata": {
    "ExecuteTime": {
     "end_time": "2022-11-29T22:11:42.789261Z",
     "start_time": "2022-11-29T22:11:42.774821Z"
    },
    "hidden": true
   },
   "outputs": [],
   "source": [
    "df4 = df3.copy()"
   ]
  },
  {
   "cell_type": "markdown",
   "id": "32d5d80b",
   "metadata": {
    "heading_collapsed": true,
    "hidden": true
   },
   "source": [
    "## 4.1 Filtering Rows"
   ]
  },
  {
   "cell_type": "code",
   "execution_count": null,
   "id": "9c5d2a12",
   "metadata": {
    "hidden": true
   },
   "outputs": [],
   "source": []
  },
  {
   "cell_type": "markdown",
   "id": "250e314b",
   "metadata": {
    "heading_collapsed": true,
    "hidden": true
   },
   "source": [
    "## 4.2 Columns Selection"
   ]
  },
  {
   "cell_type": "code",
   "execution_count": null,
   "id": "26123211",
   "metadata": {
    "hidden": true
   },
   "outputs": [],
   "source": []
  },
  {
   "cell_type": "markdown",
   "id": "d163ca7d",
   "metadata": {
    "heading_collapsed": true
   },
   "source": [
    "# 5.0 Data Preparation"
   ]
  },
  {
   "cell_type": "code",
   "execution_count": 13,
   "id": "c854b483",
   "metadata": {
    "ExecuteTime": {
     "end_time": "2022-11-29T22:11:42.813777Z",
     "start_time": "2022-11-29T22:11:42.789674Z"
    },
    "hidden": true
   },
   "outputs": [],
   "source": [
    "df5 = df4.copy()"
   ]
  },
  {
   "cell_type": "markdown",
   "id": "d5c824e3",
   "metadata": {
    "heading_collapsed": true,
    "hidden": true
   },
   "source": [
    "## 5.1 Preprocessing"
   ]
  },
  {
   "cell_type": "code",
   "execution_count": 14,
   "id": "e4794f9b",
   "metadata": {
    "ExecuteTime": {
     "end_time": "2022-11-29T22:11:42.858832Z",
     "start_time": "2022-11-29T22:11:42.813777Z"
    },
    "hidden": true
   },
   "outputs": [],
   "source": [
    "X = df5.drop(['id', 'country_destination'], axis=1)\n",
    "y = df5['country_destination']\n",
    "X_train, X_test, y_train, y_test = ms.train_test_split(X, y, test_size=0.2, random_state=100)"
   ]
  },
  {
   "cell_type": "markdown",
   "id": "b3e25805",
   "metadata": {
    "heading_collapsed": true,
    "hidden": true
   },
   "source": [
    "## 5.2 Target"
   ]
  },
  {
   "cell_type": "code",
   "execution_count": null,
   "id": "532a02de",
   "metadata": {
    "ExecuteTime": {
     "end_time": "2022-11-29T21:37:15.516511Z",
     "start_time": "2022-11-29T21:37:15.484526Z"
    },
    "hidden": true
   },
   "outputs": [],
   "source": []
  },
  {
   "cell_type": "markdown",
   "id": "c0db7156",
   "metadata": {
    "heading_collapsed": true,
    "hidden": true
   },
   "source": [
    "## 5.3 Features"
   ]
  },
  {
   "cell_type": "markdown",
   "id": "daa3e5c3",
   "metadata": {
    "heading_collapsed": true,
    "hidden": true
   },
   "source": [
    "### 5.3.1 Encodings"
   ]
  },
  {
   "cell_type": "code",
   "execution_count": 15,
   "id": "2be275a2",
   "metadata": {
    "ExecuteTime": {
     "end_time": "2022-11-29T22:11:42.984491Z",
     "start_time": "2022-11-29T22:11:42.858832Z"
    },
    "hidden": true
   },
   "outputs": [],
   "source": [
    "cat_attributes = df5.drop(['id', 'country_destination'], axis=1).select_dtypes(exclude=[int, float, 'datetime64[ns]']).columns.to_list()\n",
    "\n",
    "temp = pd.get_dummies(df5[cat_attributes])\n",
    "\n",
    "df5 = pd.concat([df5, temp], axis=1).drop(cat_attributes, axis=1)"
   ]
  },
  {
   "cell_type": "markdown",
   "id": "710a65c0",
   "metadata": {
    "heading_collapsed": true
   },
   "source": [
    "# 6.0 Feature Selection"
   ]
  },
  {
   "cell_type": "code",
   "execution_count": 16,
   "id": "943cbccd",
   "metadata": {
    "ExecuteTime": {
     "end_time": "2022-11-29T22:11:43.000038Z",
     "start_time": "2022-11-29T22:11:42.984491Z"
    },
    "hidden": true
   },
   "outputs": [],
   "source": [
    "df6 = df5.copy()"
   ]
  },
  {
   "cell_type": "code",
   "execution_count": 17,
   "id": "bca0cee8",
   "metadata": {
    "ExecuteTime": {
     "end_time": "2022-11-29T22:11:43.025540Z",
     "start_time": "2022-11-29T22:11:43.000768Z"
    },
    "hidden": true
   },
   "outputs": [],
   "source": [
    "cols_drop = 'date_account_created timestamp_first_active date_first_booking'.split()\n",
    "df6.drop(cols_drop, axis=1, inplace=True)"
   ]
  },
  {
   "cell_type": "markdown",
   "id": "ce135751",
   "metadata": {
    "heading_collapsed": true
   },
   "source": [
    "# 7.0 Machine Learning Modeling"
   ]
  },
  {
   "cell_type": "code",
   "execution_count": 18,
   "id": "93b5da9d",
   "metadata": {
    "ExecuteTime": {
     "end_time": "2022-11-29T22:11:43.041459Z",
     "start_time": "2022-11-29T22:11:43.025540Z"
    },
    "hidden": true
   },
   "outputs": [],
   "source": [
    "df7 = df6.copy()"
   ]
  },
  {
   "cell_type": "markdown",
   "id": "b4140803",
   "metadata": {
    "heading_collapsed": true,
    "hidden": true
   },
   "source": [
    "## 7.1 Preprocessing"
   ]
  },
  {
   "cell_type": "code",
   "execution_count": 19,
   "id": "067d3db1",
   "metadata": {
    "ExecuteTime": {
     "end_time": "2022-11-29T22:11:43.104193Z",
     "start_time": "2022-11-29T22:11:43.041459Z"
    },
    "hidden": true
   },
   "outputs": [],
   "source": [
    "X = df7.drop(['id', 'country_destination'], axis=1)\n",
    "y = df7['country_destination']\n",
    "X_train, X_test, y_train, y_test = ms.train_test_split(X, y, test_size=0.2, random_state=100)"
   ]
  },
  {
   "cell_type": "markdown",
   "id": "499b30a6",
   "metadata": {
    "heading_collapsed": true,
    "hidden": true
   },
   "source": [
    "## 7.2 Models"
   ]
  },
  {
   "cell_type": "markdown",
   "id": "0115eb01",
   "metadata": {
    "heading_collapsed": true,
    "hidden": true
   },
   "source": [
    "### 7.2.1 Neural Network MLP"
   ]
  },
  {
   "cell_type": "code",
   "execution_count": 20,
   "id": "fec75e27",
   "metadata": {
    "ExecuteTime": {
     "end_time": "2022-11-29T22:16:41.162060Z",
     "start_time": "2022-11-29T22:11:43.104193Z"
    },
    "hidden": true,
    "scrolled": false
   },
   "outputs": [
    {
     "name": "stdout",
     "output_type": "stream",
     "text": [
      "Epoch 1/100\n",
      "1705/1705 [==============================] - 3s 2ms/step - loss: 1.3585 - accuracy: 0.7045\n",
      "Epoch 2/100\n",
      "1705/1705 [==============================] - 3s 2ms/step - loss: 1.2888 - accuracy: 0.7073\n",
      "Epoch 3/100\n",
      "1705/1705 [==============================] - 3s 2ms/step - loss: 1.2384 - accuracy: 0.7089\n",
      "Epoch 4/100\n",
      "1705/1705 [==============================] - 3s 2ms/step - loss: 1.2131 - accuracy: 0.7092\n",
      "Epoch 5/100\n",
      "1705/1705 [==============================] - 3s 2ms/step - loss: 1.1984 - accuracy: 0.7092\n",
      "Epoch 6/100\n",
      "1705/1705 [==============================] - 3s 2ms/step - loss: 1.1748 - accuracy: 0.7092\n",
      "Epoch 7/100\n",
      "1705/1705 [==============================] - 3s 2ms/step - loss: 1.1636 - accuracy: 0.7091\n",
      "Epoch 8/100\n",
      "1705/1705 [==============================] - 3s 2ms/step - loss: 1.1482 - accuracy: 0.7093\n",
      "Epoch 9/100\n",
      "1705/1705 [==============================] - 3s 2ms/step - loss: 1.1426 - accuracy: 0.7093\n",
      "Epoch 10/100\n",
      "1705/1705 [==============================] - 3s 2ms/step - loss: 1.1365 - accuracy: 0.7097\n",
      "Epoch 11/100\n",
      "1705/1705 [==============================] - 3s 2ms/step - loss: 1.1345 - accuracy: 0.7101\n",
      "Epoch 12/100\n",
      "1705/1705 [==============================] - 3s 2ms/step - loss: 1.1321 - accuracy: 0.7101\n",
      "Epoch 13/100\n",
      "1705/1705 [==============================] - 3s 2ms/step - loss: 1.1305 - accuracy: 0.7102\n",
      "Epoch 14/100\n",
      "1705/1705 [==============================] - 3s 2ms/step - loss: 1.1292 - accuracy: 0.7102\n",
      "Epoch 15/100\n",
      "1705/1705 [==============================] - 3s 2ms/step - loss: 1.1290 - accuracy: 0.7103\n",
      "Epoch 16/100\n",
      "1705/1705 [==============================] - 3s 2ms/step - loss: 1.1297 - accuracy: 0.7101\n",
      "Epoch 17/100\n",
      "1705/1705 [==============================] - 3s 2ms/step - loss: 1.1271 - accuracy: 0.7102\n",
      "Epoch 18/100\n",
      "1705/1705 [==============================] - 3s 2ms/step - loss: 1.1256 - accuracy: 0.7103\n",
      "Epoch 19/100\n",
      "1705/1705 [==============================] - 3s 2ms/step - loss: 1.1260 - accuracy: 0.7102\n",
      "Epoch 20/100\n",
      "1705/1705 [==============================] - 3s 2ms/step - loss: 1.1247 - accuracy: 0.7103\n",
      "Epoch 21/100\n",
      "1705/1705 [==============================] - 3s 2ms/step - loss: 1.1234 - accuracy: 0.7103\n",
      "Epoch 22/100\n",
      "1705/1705 [==============================] - 3s 2ms/step - loss: 1.1225 - accuracy: 0.7105\n",
      "Epoch 23/100\n",
      "1705/1705 [==============================] - 3s 2ms/step - loss: 1.1222 - accuracy: 0.7104\n",
      "Epoch 24/100\n",
      "1705/1705 [==============================] - 3s 2ms/step - loss: 1.1209 - accuracy: 0.7105\n",
      "Epoch 25/100\n",
      "1705/1705 [==============================] - 3s 2ms/step - loss: 1.1202 - accuracy: 0.7105\n",
      "Epoch 26/100\n",
      "1705/1705 [==============================] - 3s 2ms/step - loss: 1.1199 - accuracy: 0.7104\n",
      "Epoch 27/100\n",
      "1705/1705 [==============================] - 3s 2ms/step - loss: 1.1194 - accuracy: 0.7105\n",
      "Epoch 28/100\n",
      "1705/1705 [==============================] - 3s 2ms/step - loss: 1.1176 - accuracy: 0.7105\n",
      "Epoch 29/100\n",
      "1705/1705 [==============================] - 3s 2ms/step - loss: 1.1173 - accuracy: 0.7106\n",
      "Epoch 30/100\n",
      "1705/1705 [==============================] - 3s 2ms/step - loss: 1.1180 - accuracy: 0.7104\n",
      "Epoch 31/100\n",
      "1705/1705 [==============================] - 3s 2ms/step - loss: 1.1180 - accuracy: 0.7106\n",
      "Epoch 32/100\n",
      "1705/1705 [==============================] - 3s 2ms/step - loss: 1.1171 - accuracy: 0.7106\n",
      "Epoch 33/100\n",
      "1705/1705 [==============================] - 3s 2ms/step - loss: 1.1146 - accuracy: 0.7107\n",
      "Epoch 34/100\n",
      "1705/1705 [==============================] - 3s 2ms/step - loss: 1.1139 - accuracy: 0.7106\n",
      "Epoch 35/100\n",
      "1705/1705 [==============================] - 3s 2ms/step - loss: 1.1131 - accuracy: 0.7109\n",
      "Epoch 36/100\n",
      "1705/1705 [==============================] - 3s 2ms/step - loss: 1.1128 - accuracy: 0.7109\n",
      "Epoch 37/100\n",
      "1705/1705 [==============================] - 3s 2ms/step - loss: 1.1133 - accuracy: 0.7109\n",
      "Epoch 38/100\n",
      "1705/1705 [==============================] - 3s 2ms/step - loss: 1.1117 - accuracy: 0.7110\n",
      "Epoch 39/100\n",
      "1705/1705 [==============================] - 3s 2ms/step - loss: 1.1111 - accuracy: 0.7110\n",
      "Epoch 40/100\n",
      "1705/1705 [==============================] - 3s 2ms/step - loss: 1.1110 - accuracy: 0.7111\n",
      "Epoch 41/100\n",
      "1705/1705 [==============================] - 3s 2ms/step - loss: 1.1099 - accuracy: 0.7111\n",
      "Epoch 42/100\n",
      "1705/1705 [==============================] - 3s 2ms/step - loss: 1.1096 - accuracy: 0.7111\n",
      "Epoch 43/100\n",
      "1705/1705 [==============================] - 3s 2ms/step - loss: 1.1089 - accuracy: 0.7112\n",
      "Epoch 44/100\n",
      "1705/1705 [==============================] - 3s 2ms/step - loss: 1.1088 - accuracy: 0.7110\n",
      "Epoch 45/100\n",
      "1705/1705 [==============================] - 3s 2ms/step - loss: 1.1078 - accuracy: 0.7113\n",
      "Epoch 46/100\n",
      "1705/1705 [==============================] - 3s 2ms/step - loss: 1.1077 - accuracy: 0.7113\n",
      "Epoch 47/100\n",
      "1705/1705 [==============================] - 3s 2ms/step - loss: 1.1072 - accuracy: 0.7112\n",
      "Epoch 48/100\n",
      "1705/1705 [==============================] - 3s 2ms/step - loss: 1.1067 - accuracy: 0.7114\n",
      "Epoch 49/100\n",
      "1705/1705 [==============================] - 3s 2ms/step - loss: 1.1075 - accuracy: 0.7113\n",
      "Epoch 50/100\n",
      "1705/1705 [==============================] - 3s 2ms/step - loss: 1.1067 - accuracy: 0.7114\n",
      "Epoch 51/100\n",
      "1705/1705 [==============================] - 3s 2ms/step - loss: 1.1071 - accuracy: 0.7115\n",
      "Epoch 52/100\n",
      "1705/1705 [==============================] - 3s 2ms/step - loss: 1.1063 - accuracy: 0.7113\n",
      "Epoch 53/100\n",
      "1705/1705 [==============================] - 3s 2ms/step - loss: 1.1040 - accuracy: 0.7117\n",
      "Epoch 54/100\n",
      "1705/1705 [==============================] - 3s 2ms/step - loss: 1.1047 - accuracy: 0.7115\n",
      "Epoch 55/100\n",
      "1705/1705 [==============================] - 3s 2ms/step - loss: 1.1036 - accuracy: 0.7114\n",
      "Epoch 56/100\n",
      "1705/1705 [==============================] - 3s 2ms/step - loss: 1.1029 - accuracy: 0.7116\n",
      "Epoch 57/100\n",
      "1705/1705 [==============================] - 3s 2ms/step - loss: 1.1035 - accuracy: 0.7115\n",
      "Epoch 58/100\n",
      "1705/1705 [==============================] - 3s 2ms/step - loss: 1.1045 - accuracy: 0.7115\n",
      "Epoch 59/100\n",
      "1705/1705 [==============================] - 3s 2ms/step - loss: 1.1037 - accuracy: 0.7120\n",
      "Epoch 60/100\n",
      "1705/1705 [==============================] - 3s 2ms/step - loss: 1.1022 - accuracy: 0.7119\n",
      "Epoch 61/100\n",
      "1705/1705 [==============================] - 3s 2ms/step - loss: 1.1027 - accuracy: 0.7119\n",
      "Epoch 62/100\n",
      "1705/1705 [==============================] - 3s 2ms/step - loss: 1.1016 - accuracy: 0.7120\n",
      "Epoch 63/100\n",
      "1705/1705 [==============================] - 3s 2ms/step - loss: 1.1017 - accuracy: 0.7119\n",
      "Epoch 64/100\n",
      "1705/1705 [==============================] - 3s 2ms/step - loss: 1.1021 - accuracy: 0.7119\n",
      "Epoch 65/100\n",
      "1705/1705 [==============================] - 3s 2ms/step - loss: 1.1018 - accuracy: 0.7120\n",
      "Epoch 66/100\n",
      "1705/1705 [==============================] - 3s 2ms/step - loss: 1.1009 - accuracy: 0.7119\n",
      "Epoch 67/100\n",
      "1705/1705 [==============================] - 3s 2ms/step - loss: 1.1002 - accuracy: 0.7121\n",
      "Epoch 68/100\n",
      "1705/1705 [==============================] - 3s 2ms/step - loss: 1.1003 - accuracy: 0.7122\n",
      "Epoch 69/100\n",
      "1705/1705 [==============================] - 3s 2ms/step - loss: 1.0996 - accuracy: 0.7122\n",
      "Epoch 70/100\n",
      "1705/1705 [==============================] - 3s 2ms/step - loss: 1.0994 - accuracy: 0.7123\n",
      "Epoch 71/100\n",
      "1705/1705 [==============================] - 3s 2ms/step - loss: 1.0993 - accuracy: 0.7121\n",
      "Epoch 72/100\n",
      "1705/1705 [==============================] - 3s 2ms/step - loss: 1.0989 - accuracy: 0.7122\n",
      "Epoch 73/100\n",
      "1705/1705 [==============================] - 3s 2ms/step - loss: 1.0982 - accuracy: 0.7123\n",
      "Epoch 74/100\n",
      "1705/1705 [==============================] - 3s 2ms/step - loss: 1.0980 - accuracy: 0.7120\n",
      "Epoch 75/100\n",
      "1705/1705 [==============================] - 3s 2ms/step - loss: 1.0980 - accuracy: 0.7124\n",
      "Epoch 76/100\n",
      "1705/1705 [==============================] - 3s 2ms/step - loss: 1.0977 - accuracy: 0.7124\n",
      "Epoch 77/100\n",
      "1705/1705 [==============================] - 3s 2ms/step - loss: 1.0977 - accuracy: 0.7124\n",
      "Epoch 78/100\n",
      "1705/1705 [==============================] - 3s 2ms/step - loss: 1.0974 - accuracy: 0.7123\n",
      "Epoch 79/100\n"
     ]
    },
    {
     "name": "stdout",
     "output_type": "stream",
     "text": [
      "1705/1705 [==============================] - 3s 2ms/step - loss: 1.0976 - accuracy: 0.7126\n",
      "Epoch 80/100\n",
      "1705/1705 [==============================] - 3s 2ms/step - loss: 1.0969 - accuracy: 0.7124\n",
      "Epoch 81/100\n",
      "1705/1705 [==============================] - 3s 2ms/step - loss: 1.0970 - accuracy: 0.7125\n",
      "Epoch 82/100\n",
      "1705/1705 [==============================] - 3s 2ms/step - loss: 1.0964 - accuracy: 0.7125\n",
      "Epoch 83/100\n",
      "1705/1705 [==============================] - 3s 2ms/step - loss: 1.0965 - accuracy: 0.7124\n",
      "Epoch 84/100\n",
      "1705/1705 [==============================] - 3s 2ms/step - loss: 1.0962 - accuracy: 0.7126\n",
      "Epoch 85/100\n",
      "1705/1705 [==============================] - 3s 2ms/step - loss: 1.0956 - accuracy: 0.7126\n",
      "Epoch 86/100\n",
      "1705/1705 [==============================] - 3s 2ms/step - loss: 1.0958 - accuracy: 0.7127\n",
      "Epoch 87/100\n",
      "1705/1705 [==============================] - 3s 2ms/step - loss: 1.0954 - accuracy: 0.7124\n",
      "Epoch 88/100\n",
      "1705/1705 [==============================] - 3s 2ms/step - loss: 1.0951 - accuracy: 0.7129\n",
      "Epoch 89/100\n",
      "1705/1705 [==============================] - 3s 2ms/step - loss: 1.0940 - accuracy: 0.7129\n",
      "Epoch 90/100\n",
      "1705/1705 [==============================] - 3s 2ms/step - loss: 1.0949 - accuracy: 0.7126\n",
      "Epoch 91/100\n",
      "1705/1705 [==============================] - 3s 2ms/step - loss: 1.0944 - accuracy: 0.7128\n",
      "Epoch 92/100\n",
      "1705/1705 [==============================] - 3s 2ms/step - loss: 1.0946 - accuracy: 0.7125\n",
      "Epoch 93/100\n",
      "1705/1705 [==============================] - 3s 2ms/step - loss: 1.0942 - accuracy: 0.7127\n",
      "Epoch 94/100\n",
      "1705/1705 [==============================] - 3s 2ms/step - loss: 1.0940 - accuracy: 0.7129\n",
      "Epoch 95/100\n",
      "1705/1705 [==============================] - 3s 2ms/step - loss: 1.0941 - accuracy: 0.7124\n",
      "Epoch 96/100\n",
      "1705/1705 [==============================] - 3s 2ms/step - loss: 1.0934 - accuracy: 0.7129\n",
      "Epoch 97/100\n",
      "1705/1705 [==============================] - 3s 2ms/step - loss: 1.0935 - accuracy: 0.7129\n",
      "Epoch 98/100\n",
      "1705/1705 [==============================] - 3s 2ms/step - loss: 1.0932 - accuracy: 0.7129\n",
      "Epoch 99/100\n",
      "1705/1705 [==============================] - 3s 2ms/step - loss: 1.0935 - accuracy: 0.7129\n",
      "Epoch 100/100\n",
      "1705/1705 [==============================] - 3s 2ms/step - loss: 1.0935 - accuracy: 0.7128\n",
      "427/427 [==============================] - 1s 2ms/step\n"
     ]
    }
   ],
   "source": [
    "ohe = pp.OneHotEncoder()\n",
    "y_train_nn = ohe.fit_transform(y_train.values.reshape(-1, 1)).toarray()\n",
    "\n",
    "# model definition\n",
    "nn_model = ml.Sequential()\n",
    "nn_model.add(l.Dense(128, input_dim=X_train.shape[1], activation='relu'))\n",
    "nn_model.add(l.Dense(11, activation='softmax'))\n",
    "\n",
    "# model compile\n",
    "nn_model.compile(loss='categorical_crossentropy', optimizer='adam', metrics='accuracy')\n",
    "\n",
    "# fiting model\n",
    "nn_model.fit(X_train, y_train_nn, epochs=100)\n",
    "\n",
    "# predicting\n",
    "y_hat = nn_model.predict(X_test)\n",
    "\n",
    "# formating\n",
    "y_hat = ohe.inverse_transform(y_hat)\n",
    "y_test = y_test.to_numpy()\n",
    "y_hat = y_hat.reshape(1, -1)[0]"
   ]
  },
  {
   "cell_type": "markdown",
   "id": "76318828",
   "metadata": {},
   "source": [
    "# 8.0 Model Performance"
   ]
  },
  {
   "cell_type": "markdown",
   "id": "d6aaeac3",
   "metadata": {},
   "source": [
    "## 8.1 Machine Learning Performance"
   ]
  },
  {
   "cell_type": "code",
   "execution_count": 23,
   "id": "08a2ad35",
   "metadata": {
    "ExecuteTime": {
     "end_time": "2022-11-29T22:17:18.104238Z",
     "start_time": "2022-11-29T22:17:17.366635Z"
    }
   },
   "outputs": [
    {
     "name": "stdout",
     "output_type": "stream",
     "text": [
      "Accuracy: 0.7008434176751008\n",
      "Balanced Accuracy: 0.09144770862808614\n",
      "Kappa Score : 0.0008709500852475127\n"
     ]
    },
    {
     "name": "stderr",
     "output_type": "stream",
     "text": [
      "D:\\My Drive\\Pessoal\\environments\\data_science\\lib\\site-packages\\sklearn\\metrics\\_classification.py:1327: UndefinedMetricWarning: Precision and F-score are ill-defined and being set to 0.0 in labels with no predicted samples. Use `zero_division` parameter to control this behavior.\n",
      "  _warn_prf(average, modifier, msg_start, len(result))\n",
      "D:\\My Drive\\Pessoal\\environments\\data_science\\lib\\site-packages\\sklearn\\metrics\\_classification.py:1327: UndefinedMetricWarning: Precision and F-score are ill-defined and being set to 0.0 in labels with no predicted samples. Use `zero_division` parameter to control this behavior.\n",
      "  _warn_prf(average, modifier, msg_start, len(result))\n",
      "D:\\My Drive\\Pessoal\\environments\\data_science\\lib\\site-packages\\sklearn\\metrics\\_classification.py:1327: UndefinedMetricWarning: Precision and F-score are ill-defined and being set to 0.0 in labels with no predicted samples. Use `zero_division` parameter to control this behavior.\n",
      "  _warn_prf(average, modifier, msg_start, len(result))\n"
     ]
    },
    {
     "name": "stdout",
     "output_type": "stream",
     "text": [
      "              precision    recall  f1-score   support\n",
      "\n",
      "          AU       0.00      0.00      0.00        83\n",
      "          CA       0.00      0.00      0.00       234\n",
      "          DE       0.20      0.01      0.01       158\n",
      "          ES       0.00      0.00      0.00       331\n",
      "          FR       0.00      0.00      0.00       724\n",
      "          GB       0.00      0.00      0.00       385\n",
      "          IT       0.00      0.00      0.00       423\n",
      "          NL       0.00      0.00      0.00       129\n",
      "          PT       0.00      0.00      0.00        28\n",
      "          US       0.70      1.00      0.82      9590\n",
      "       other       0.17      0.00      0.01      1550\n",
      "\n",
      "    accuracy                           0.70     13635\n",
      "   macro avg       0.10      0.09      0.08     13635\n",
      "weighted avg       0.52      0.70      0.58     13635\n",
      "\n"
     ]
    },
    {
     "data": {
      "image/png": "[encoded data removed]",
      "text/plain": [
       "<Figure size 648x648 with 2 Axes>"
      ]
     },
     "metadata": {
      "needs_background": "light"
     },
     "output_type": "display_data"
    }
   ],
   "source": [
    "# metrics\n",
    "acc = m.accuracy_score(y_test, y_hat)\n",
    "balanced_acc = m.balanced_accuracy_score(y_test, y_hat)\n",
    "kappa = m.cohen_kappa_score(y_test, y_hat)\n",
    "\n",
    "print(f'Accuracy: {acc}')\n",
    "print(f'Balanced Accuracy: {balanced_acc}')\n",
    "print(f'Kappa Score : {kappa}')\n",
    "print(f'{m.classification_report(y_test, y_hat)}')\n",
    "\n",
    "mt.plot_confusion_matrix(y_test, y_hat, normalize=False, figsize=(9, 9));"
   ]
  }
 ],
 "metadata": {
  "kernelspec": {
   "display_name": "Python 3 (ipykernel)",
   "language": "python",
   "name": "python3"
  },
  "language_info": {
   "codemirror_mode": {
    "name": "ipython",
    "version": 3
   },
   "file_extension": ".py",
   "mimetype": "text/x-python",
   "name": "python",
   "nbconvert_exporter": "python",
   "pygments_lexer": "ipython3",
   "version": "3.9.13"
  }
 },
 "nbformat": 4,
 "nbformat_minor": 5
}
