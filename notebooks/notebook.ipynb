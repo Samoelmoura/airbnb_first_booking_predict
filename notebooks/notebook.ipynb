{
 "cells": [
  {
   "cell_type": "markdown",
   "id": "17947240",
   "metadata": {},
   "source": [
    "# 0.0 Imports"
   ]
  },
  {
   "cell_type": "code",
   "execution_count": 1,
   "id": "e71abd30",
   "metadata": {
    "ExecuteTime": {
     "end_time": "2022-12-05T13:00:00.885515Z",
     "start_time": "2022-12-05T12:59:56.931343Z"
    }
   },
   "outputs": [],
   "source": [
    "import pandas as pd\n",
    "import numpy as np\n",
    "import matplotlib.pyplot as plt\n",
    "import seaborn as sns\n",
    "\n",
    "from keras import models as ml\n",
    "from keras import layers as l\n",
    "\n",
    "from sklearn import preprocessing as pp\n",
    "from sklearn import metrics as m\n",
    "from sklearn import model_selection as ms\n",
    "\n",
    "from xgboost import XGBClassifier\n",
    "\n",
    "from scikitplot import metrics as mt"
   ]
  },
  {
   "cell_type": "markdown",
   "id": "72336cae",
   "metadata": {},
   "source": [
    "## 0.1 Importing Data"
   ]
  },
  {
   "cell_type": "code",
   "execution_count": 2,
   "id": "84fe214a",
   "metadata": {
    "ExecuteTime": {
     "end_time": "2022-12-05T13:00:06.803967Z",
     "start_time": "2022-12-05T13:00:00.885515Z"
    },
    "scrolled": false
   },
   "outputs": [],
   "source": [
    "df_raw = pd.read_csv('D:\\\\My Drive\\\\Pessoal\\\\projetos\\\\airbnb_first_booking_predict\\\\data\\\\raw\\\\train_users_2.csv')\n",
    "sessions = pd.read_csv('D:\\\\My Drive\\\\Pessoal\\\\projetos\\\\airbnb_first_booking_predict\\\\data\\\\raw\\\\sessions.csv')"
   ]
  },
  {
   "cell_type": "markdown",
   "id": "31fe56c4",
   "metadata": {},
   "source": [
    "## 0.2 Helper Functions"
   ]
  },
  {
   "cell_type": "code",
   "execution_count": null,
   "id": "acd78a32",
   "metadata": {},
   "outputs": [],
   "source": []
  },
  {
   "cell_type": "markdown",
   "id": "389a21f3",
   "metadata": {},
   "source": [
    "# 1.0 Data Description"
   ]
  },
  {
   "cell_type": "code",
   "execution_count": 3,
   "id": "9c5b3f72",
   "metadata": {
    "ExecuteTime": {
     "end_time": "2022-12-05T13:00:06.829535Z",
     "start_time": "2022-12-05T13:00:06.803967Z"
    }
   },
   "outputs": [],
   "source": [
    "df1 = df_raw.copy()"
   ]
  },
  {
   "cell_type": "markdown",
   "id": "65be35d2",
   "metadata": {},
   "source": [
    "## 1.1 Looking Dataset"
   ]
  },
  {
   "cell_type": "code",
   "execution_count": 4,
   "id": "e419ffb2",
   "metadata": {
    "ExecuteTime": {
     "end_time": "2022-12-05T13:00:06.860520Z",
     "start_time": "2022-12-05T13:00:06.833893Z"
    }
   },
   "outputs": [
    {
     "data": {
      "text/html": [
       "<div>\n",
       "<style scoped>\n",
       "    .dataframe tbody tr th:only-of-type {\n",
       "        vertical-align: middle;\n",
       "    }\n",
       "\n",
       "    .dataframe tbody tr th {\n",
       "        vertical-align: top;\n",
       "    }\n",
       "\n",
       "    .dataframe thead th {\n",
       "        text-align: right;\n",
       "    }\n",
       "</style>\n",
       "<table border=\"1\" class=\"dataframe\">\n",
       "  <thead>\n",
       "    <tr style=\"text-align: right;\">\n",
       "      <th></th>\n",
       "      <th>id</th>\n",
       "      <th>date_account_created</th>\n",
       "      <th>timestamp_first_active</th>\n",
       "      <th>date_first_booking</th>\n",
       "      <th>gender</th>\n",
       "      <th>age</th>\n",
       "      <th>signup_method</th>\n",
       "      <th>signup_flow</th>\n",
       "      <th>language</th>\n",
       "      <th>affiliate_channel</th>\n",
       "      <th>affiliate_provider</th>\n",
       "      <th>first_affiliate_tracked</th>\n",
       "      <th>signup_app</th>\n",
       "      <th>first_device_type</th>\n",
       "      <th>first_browser</th>\n",
       "      <th>country_destination</th>\n",
       "    </tr>\n",
       "  </thead>\n",
       "  <tbody>\n",
       "    <tr>\n",
       "      <th>0</th>\n",
       "      <td>gxn3p5htnn</td>\n",
       "      <td>2010-06-28</td>\n",
       "      <td>20090319043255</td>\n",
       "      <td>NaN</td>\n",
       "      <td>-unknown-</td>\n",
       "      <td>NaN</td>\n",
       "      <td>facebook</td>\n",
       "      <td>0</td>\n",
       "      <td>en</td>\n",
       "      <td>direct</td>\n",
       "      <td>direct</td>\n",
       "      <td>untracked</td>\n",
       "      <td>Web</td>\n",
       "      <td>Mac Desktop</td>\n",
       "      <td>Chrome</td>\n",
       "      <td>NDF</td>\n",
       "    </tr>\n",
       "    <tr>\n",
       "      <th>1</th>\n",
       "      <td>820tgsjxq7</td>\n",
       "      <td>2011-05-25</td>\n",
       "      <td>20090523174809</td>\n",
       "      <td>NaN</td>\n",
       "      <td>MALE</td>\n",
       "      <td>38.0</td>\n",
       "      <td>facebook</td>\n",
       "      <td>0</td>\n",
       "      <td>en</td>\n",
       "      <td>seo</td>\n",
       "      <td>google</td>\n",
       "      <td>untracked</td>\n",
       "      <td>Web</td>\n",
       "      <td>Mac Desktop</td>\n",
       "      <td>Chrome</td>\n",
       "      <td>NDF</td>\n",
       "    </tr>\n",
       "    <tr>\n",
       "      <th>2</th>\n",
       "      <td>4ft3gnwmtx</td>\n",
       "      <td>2010-09-28</td>\n",
       "      <td>20090609231247</td>\n",
       "      <td>2010-08-02</td>\n",
       "      <td>FEMALE</td>\n",
       "      <td>56.0</td>\n",
       "      <td>basic</td>\n",
       "      <td>3</td>\n",
       "      <td>en</td>\n",
       "      <td>direct</td>\n",
       "      <td>direct</td>\n",
       "      <td>untracked</td>\n",
       "      <td>Web</td>\n",
       "      <td>Windows Desktop</td>\n",
       "      <td>IE</td>\n",
       "      <td>US</td>\n",
       "    </tr>\n",
       "    <tr>\n",
       "      <th>3</th>\n",
       "      <td>bjjt8pjhuk</td>\n",
       "      <td>2011-12-05</td>\n",
       "      <td>20091031060129</td>\n",
       "      <td>2012-09-08</td>\n",
       "      <td>FEMALE</td>\n",
       "      <td>42.0</td>\n",
       "      <td>facebook</td>\n",
       "      <td>0</td>\n",
       "      <td>en</td>\n",
       "      <td>direct</td>\n",
       "      <td>direct</td>\n",
       "      <td>untracked</td>\n",
       "      <td>Web</td>\n",
       "      <td>Mac Desktop</td>\n",
       "      <td>Firefox</td>\n",
       "      <td>other</td>\n",
       "    </tr>\n",
       "    <tr>\n",
       "      <th>4</th>\n",
       "      <td>87mebub9p4</td>\n",
       "      <td>2010-09-14</td>\n",
       "      <td>20091208061105</td>\n",
       "      <td>2010-02-18</td>\n",
       "      <td>-unknown-</td>\n",
       "      <td>41.0</td>\n",
       "      <td>basic</td>\n",
       "      <td>0</td>\n",
       "      <td>en</td>\n",
       "      <td>direct</td>\n",
       "      <td>direct</td>\n",
       "      <td>untracked</td>\n",
       "      <td>Web</td>\n",
       "      <td>Mac Desktop</td>\n",
       "      <td>Chrome</td>\n",
       "      <td>US</td>\n",
       "    </tr>\n",
       "    <tr>\n",
       "      <th>5</th>\n",
       "      <td>osr2jwljor</td>\n",
       "      <td>2010-01-01</td>\n",
       "      <td>20100101215619</td>\n",
       "      <td>2010-01-02</td>\n",
       "      <td>-unknown-</td>\n",
       "      <td>NaN</td>\n",
       "      <td>basic</td>\n",
       "      <td>0</td>\n",
       "      <td>en</td>\n",
       "      <td>other</td>\n",
       "      <td>other</td>\n",
       "      <td>omg</td>\n",
       "      <td>Web</td>\n",
       "      <td>Mac Desktop</td>\n",
       "      <td>Chrome</td>\n",
       "      <td>US</td>\n",
       "    </tr>\n",
       "    <tr>\n",
       "      <th>6</th>\n",
       "      <td>lsw9q7uk0j</td>\n",
       "      <td>2010-01-02</td>\n",
       "      <td>20100102012558</td>\n",
       "      <td>2010-01-05</td>\n",
       "      <td>FEMALE</td>\n",
       "      <td>46.0</td>\n",
       "      <td>basic</td>\n",
       "      <td>0</td>\n",
       "      <td>en</td>\n",
       "      <td>other</td>\n",
       "      <td>craigslist</td>\n",
       "      <td>untracked</td>\n",
       "      <td>Web</td>\n",
       "      <td>Mac Desktop</td>\n",
       "      <td>Safari</td>\n",
       "      <td>US</td>\n",
       "    </tr>\n",
       "    <tr>\n",
       "      <th>7</th>\n",
       "      <td>0d01nltbrs</td>\n",
       "      <td>2010-01-03</td>\n",
       "      <td>20100103191905</td>\n",
       "      <td>2010-01-13</td>\n",
       "      <td>FEMALE</td>\n",
       "      <td>47.0</td>\n",
       "      <td>basic</td>\n",
       "      <td>0</td>\n",
       "      <td>en</td>\n",
       "      <td>direct</td>\n",
       "      <td>direct</td>\n",
       "      <td>omg</td>\n",
       "      <td>Web</td>\n",
       "      <td>Mac Desktop</td>\n",
       "      <td>Safari</td>\n",
       "      <td>US</td>\n",
       "    </tr>\n",
       "    <tr>\n",
       "      <th>8</th>\n",
       "      <td>a1vcnhxeij</td>\n",
       "      <td>2010-01-04</td>\n",
       "      <td>20100104004211</td>\n",
       "      <td>2010-07-29</td>\n",
       "      <td>FEMALE</td>\n",
       "      <td>50.0</td>\n",
       "      <td>basic</td>\n",
       "      <td>0</td>\n",
       "      <td>en</td>\n",
       "      <td>other</td>\n",
       "      <td>craigslist</td>\n",
       "      <td>untracked</td>\n",
       "      <td>Web</td>\n",
       "      <td>Mac Desktop</td>\n",
       "      <td>Safari</td>\n",
       "      <td>US</td>\n",
       "    </tr>\n",
       "    <tr>\n",
       "      <th>9</th>\n",
       "      <td>6uh8zyj2gn</td>\n",
       "      <td>2010-01-04</td>\n",
       "      <td>20100104023758</td>\n",
       "      <td>2010-01-04</td>\n",
       "      <td>-unknown-</td>\n",
       "      <td>46.0</td>\n",
       "      <td>basic</td>\n",
       "      <td>0</td>\n",
       "      <td>en</td>\n",
       "      <td>other</td>\n",
       "      <td>craigslist</td>\n",
       "      <td>omg</td>\n",
       "      <td>Web</td>\n",
       "      <td>Mac Desktop</td>\n",
       "      <td>Firefox</td>\n",
       "      <td>US</td>\n",
       "    </tr>\n",
       "  </tbody>\n",
       "</table>\n",
       "</div>"
      ],
      "text/plain": [
       "           id date_account_created  timestamp_first_active date_first_booking  \\\n",
       "0  gxn3p5htnn           2010-06-28          20090319043255                NaN   \n",
       "1  820tgsjxq7           2011-05-25          20090523174809                NaN   \n",
       "2  4ft3gnwmtx           2010-09-28          20090609231247         2010-08-02   \n",
       "3  bjjt8pjhuk           2011-12-05          20091031060129         2012-09-08   \n",
       "4  87mebub9p4           2010-09-14          20091208061105         2010-02-18   \n",
       "5  osr2jwljor           2010-01-01          20100101215619         2010-01-02   \n",
       "6  lsw9q7uk0j           2010-01-02          20100102012558         2010-01-05   \n",
       "7  0d01nltbrs           2010-01-03          20100103191905         2010-01-13   \n",
       "8  a1vcnhxeij           2010-01-04          20100104004211         2010-07-29   \n",
       "9  6uh8zyj2gn           2010-01-04          20100104023758         2010-01-04   \n",
       "\n",
       "      gender   age signup_method  signup_flow language affiliate_channel  \\\n",
       "0  -unknown-   NaN      facebook            0       en            direct   \n",
       "1       MALE  38.0      facebook            0       en               seo   \n",
       "2     FEMALE  56.0         basic            3       en            direct   \n",
       "3     FEMALE  42.0      facebook            0       en            direct   \n",
       "4  -unknown-  41.0         basic            0       en            direct   \n",
       "5  -unknown-   NaN         basic            0       en             other   \n",
       "6     FEMALE  46.0         basic            0       en             other   \n",
       "7     FEMALE  47.0         basic            0       en            direct   \n",
       "8     FEMALE  50.0         basic            0       en             other   \n",
       "9  -unknown-  46.0         basic            0       en             other   \n",
       "\n",
       "  affiliate_provider first_affiliate_tracked signup_app first_device_type  \\\n",
       "0             direct               untracked        Web       Mac Desktop   \n",
       "1             google               untracked        Web       Mac Desktop   \n",
       "2             direct               untracked        Web   Windows Desktop   \n",
       "3             direct               untracked        Web       Mac Desktop   \n",
       "4             direct               untracked        Web       Mac Desktop   \n",
       "5              other                     omg        Web       Mac Desktop   \n",
       "6         craigslist               untracked        Web       Mac Desktop   \n",
       "7             direct                     omg        Web       Mac Desktop   \n",
       "8         craigslist               untracked        Web       Mac Desktop   \n",
       "9         craigslist                     omg        Web       Mac Desktop   \n",
       "\n",
       "  first_browser country_destination  \n",
       "0        Chrome                 NDF  \n",
       "1        Chrome                 NDF  \n",
       "2            IE                  US  \n",
       "3       Firefox               other  \n",
       "4        Chrome                  US  \n",
       "5        Chrome                  US  \n",
       "6        Safari                  US  \n",
       "7        Safari                  US  \n",
       "8        Safari                  US  \n",
       "9       Firefox                  US  "
      ]
     },
     "execution_count": 4,
     "metadata": {},
     "output_type": "execute_result"
    }
   ],
   "source": [
    "df1.head(10)"
   ]
  },
  {
   "cell_type": "markdown",
   "id": "cf6fe46c",
   "metadata": {},
   "source": [
    "* A data da criação da conta em alguns casos é posterior a data do primeiro booking"
   ]
  },
  {
   "cell_type": "code",
   "execution_count": 5,
   "id": "4dcbd179",
   "metadata": {
    "ExecuteTime": {
     "end_time": "2022-12-05T13:00:06.891637Z",
     "start_time": "2022-12-05T13:00:06.862505Z"
    }
   },
   "outputs": [
    {
     "data": {
      "text/html": [
       "<div>\n",
       "<style scoped>\n",
       "    .dataframe tbody tr th:only-of-type {\n",
       "        vertical-align: middle;\n",
       "    }\n",
       "\n",
       "    .dataframe tbody tr th {\n",
       "        vertical-align: top;\n",
       "    }\n",
       "\n",
       "    .dataframe thead th {\n",
       "        text-align: right;\n",
       "    }\n",
       "</style>\n",
       "<table border=\"1\" class=\"dataframe\">\n",
       "  <thead>\n",
       "    <tr style=\"text-align: right;\">\n",
       "      <th></th>\n",
       "      <th>user_id</th>\n",
       "      <th>action</th>\n",
       "      <th>action_type</th>\n",
       "      <th>action_detail</th>\n",
       "      <th>device_type</th>\n",
       "      <th>secs_elapsed</th>\n",
       "    </tr>\n",
       "  </thead>\n",
       "  <tbody>\n",
       "    <tr>\n",
       "      <th>0</th>\n",
       "      <td>d1mm9tcy42</td>\n",
       "      <td>lookup</td>\n",
       "      <td>NaN</td>\n",
       "      <td>NaN</td>\n",
       "      <td>Windows Desktop</td>\n",
       "      <td>319.0</td>\n",
       "    </tr>\n",
       "    <tr>\n",
       "      <th>1</th>\n",
       "      <td>d1mm9tcy42</td>\n",
       "      <td>search_results</td>\n",
       "      <td>click</td>\n",
       "      <td>view_search_results</td>\n",
       "      <td>Windows Desktop</td>\n",
       "      <td>67753.0</td>\n",
       "    </tr>\n",
       "    <tr>\n",
       "      <th>2</th>\n",
       "      <td>d1mm9tcy42</td>\n",
       "      <td>lookup</td>\n",
       "      <td>NaN</td>\n",
       "      <td>NaN</td>\n",
       "      <td>Windows Desktop</td>\n",
       "      <td>301.0</td>\n",
       "    </tr>\n",
       "    <tr>\n",
       "      <th>3</th>\n",
       "      <td>d1mm9tcy42</td>\n",
       "      <td>search_results</td>\n",
       "      <td>click</td>\n",
       "      <td>view_search_results</td>\n",
       "      <td>Windows Desktop</td>\n",
       "      <td>22141.0</td>\n",
       "    </tr>\n",
       "    <tr>\n",
       "      <th>4</th>\n",
       "      <td>d1mm9tcy42</td>\n",
       "      <td>lookup</td>\n",
       "      <td>NaN</td>\n",
       "      <td>NaN</td>\n",
       "      <td>Windows Desktop</td>\n",
       "      <td>435.0</td>\n",
       "    </tr>\n",
       "  </tbody>\n",
       "</table>\n",
       "</div>"
      ],
      "text/plain": [
       "      user_id          action action_type        action_detail  \\\n",
       "0  d1mm9tcy42          lookup         NaN                  NaN   \n",
       "1  d1mm9tcy42  search_results       click  view_search_results   \n",
       "2  d1mm9tcy42          lookup         NaN                  NaN   \n",
       "3  d1mm9tcy42  search_results       click  view_search_results   \n",
       "4  d1mm9tcy42          lookup         NaN                  NaN   \n",
       "\n",
       "       device_type  secs_elapsed  \n",
       "0  Windows Desktop         319.0  \n",
       "1  Windows Desktop       67753.0  \n",
       "2  Windows Desktop         301.0  \n",
       "3  Windows Desktop       22141.0  \n",
       "4  Windows Desktop         435.0  "
      ]
     },
     "execution_count": 5,
     "metadata": {},
     "output_type": "execute_result"
    }
   ],
   "source": [
    "sessions.head()"
   ]
  },
  {
   "cell_type": "markdown",
   "id": "50032533",
   "metadata": {},
   "source": [
    "## 1.2 Data Dimension"
   ]
  },
  {
   "cell_type": "code",
   "execution_count": 6,
   "id": "f243b986",
   "metadata": {
    "ExecuteTime": {
     "end_time": "2022-12-05T13:00:06.906813Z",
     "start_time": "2022-12-05T13:00:06.894796Z"
    }
   },
   "outputs": [
    {
     "name": "stdout",
     "output_type": "stream",
     "text": [
      "Usuários\n",
      "Há: 213451 linhas no total\n",
      "Há: 16 colunas no total\n"
     ]
    }
   ],
   "source": [
    "print('Usuários')\n",
    "print(f'Há: {df1.shape[0]} linhas no total')\n",
    "print(f'Há: {df1.shape[1]} colunas no total')"
   ]
  },
  {
   "cell_type": "code",
   "execution_count": 7,
   "id": "80f31240",
   "metadata": {
    "ExecuteTime": {
     "end_time": "2022-12-05T13:00:06.921875Z",
     "start_time": "2022-12-05T13:00:06.910873Z"
    }
   },
   "outputs": [
    {
     "name": "stdout",
     "output_type": "stream",
     "text": [
      "Navegação\n",
      "Há: 10567737 linhas no total\n",
      "Há: 6 colunas no total\n"
     ]
    }
   ],
   "source": [
    "print('Navegação')\n",
    "print(f'Há: {sessions.shape[0]} linhas no total')\n",
    "print(f'Há: {sessions.shape[1]} colunas no total')"
   ]
  },
  {
   "cell_type": "markdown",
   "id": "19c6d256",
   "metadata": {},
   "source": [
    "## 1.3 Datatypes"
   ]
  },
  {
   "cell_type": "code",
   "execution_count": 8,
   "id": "028eeec9",
   "metadata": {
    "ExecuteTime": {
     "end_time": "2022-12-05T13:00:06.937909Z",
     "start_time": "2022-12-05T13:00:06.925886Z"
    }
   },
   "outputs": [
    {
     "name": "stdout",
     "output_type": "stream",
     "text": [
      "Usuários\n"
     ]
    },
    {
     "data": {
      "text/plain": [
       "id                          object\n",
       "date_account_created        object\n",
       "timestamp_first_active       int64\n",
       "date_first_booking          object\n",
       "gender                      object\n",
       "age                        float64\n",
       "signup_method               object\n",
       "signup_flow                  int64\n",
       "language                    object\n",
       "affiliate_channel           object\n",
       "affiliate_provider          object\n",
       "first_affiliate_tracked     object\n",
       "signup_app                  object\n",
       "first_device_type           object\n",
       "first_browser               object\n",
       "country_destination         object\n",
       "dtype: object"
      ]
     },
     "execution_count": 8,
     "metadata": {},
     "output_type": "execute_result"
    }
   ],
   "source": [
    "print('Usuários')\n",
    "df1.dtypes"
   ]
  },
  {
   "cell_type": "code",
   "execution_count": 9,
   "id": "d8e6578f",
   "metadata": {
    "ExecuteTime": {
     "end_time": "2022-12-05T13:00:06.953805Z",
     "start_time": "2022-12-05T13:00:06.940927Z"
    }
   },
   "outputs": [
    {
     "name": "stdout",
     "output_type": "stream",
     "text": [
      "Navegação\n"
     ]
    },
    {
     "data": {
      "text/plain": [
       "user_id           object\n",
       "action            object\n",
       "action_type       object\n",
       "action_detail     object\n",
       "device_type       object\n",
       "secs_elapsed     float64\n",
       "dtype: object"
      ]
     },
     "execution_count": 9,
     "metadata": {},
     "output_type": "execute_result"
    }
   ],
   "source": [
    "print('Navegação')\n",
    "sessions.dtypes"
   ]
  },
  {
   "cell_type": "markdown",
   "id": "616992a2",
   "metadata": {},
   "source": [
    "## 1.4 Check Na"
   ]
  },
  {
   "cell_type": "code",
   "execution_count": 10,
   "id": "e2e2a119",
   "metadata": {
    "ExecuteTime": {
     "end_time": "2022-12-05T13:00:07.253996Z",
     "start_time": "2022-12-05T13:00:06.960883Z"
    },
    "scrolled": false
   },
   "outputs": [
    {
     "name": "stdout",
     "output_type": "stream",
     "text": [
      "Usuários\n"
     ]
    },
    {
     "data": {
      "text/plain": [
       "id                              0\n",
       "date_account_created            0\n",
       "timestamp_first_active          0\n",
       "date_first_booking         124543\n",
       "gender                          0\n",
       "age                         87990\n",
       "signup_method                   0\n",
       "signup_flow                     0\n",
       "language                        0\n",
       "affiliate_channel               0\n",
       "affiliate_provider              0\n",
       "first_affiliate_tracked      6065\n",
       "signup_app                      0\n",
       "first_device_type               0\n",
       "first_browser                   0\n",
       "country_destination             0\n",
       "dtype: int64"
      ]
     },
     "execution_count": 10,
     "metadata": {},
     "output_type": "execute_result"
    }
   ],
   "source": [
    "print('Usuários')\n",
    "df1.isna().sum() "
   ]
  },
  {
   "cell_type": "code",
   "execution_count": 11,
   "id": "f2318a82",
   "metadata": {
    "ExecuteTime": {
     "end_time": "2022-12-05T13:00:12.251592Z",
     "start_time": "2022-12-05T13:00:07.257996Z"
    }
   },
   "outputs": [
    {
     "name": "stdout",
     "output_type": "stream",
     "text": [
      "Navegação\n"
     ]
    },
    {
     "data": {
      "text/plain": [
       "user_id            34496\n",
       "action             79626\n",
       "action_type      1126204\n",
       "action_detail    1126204\n",
       "device_type            0\n",
       "secs_elapsed      136031\n",
       "dtype: int64"
      ]
     },
     "execution_count": 11,
     "metadata": {},
     "output_type": "execute_result"
    }
   ],
   "source": [
    "print('Navegação')\n",
    "sessions.isna().sum()"
   ]
  },
  {
   "cell_type": "markdown",
   "id": "2d60b158",
   "metadata": {},
   "source": [
    "## 1.5 Filout Na"
   ]
  },
  {
   "cell_type": "code",
   "execution_count": 12,
   "id": "c2c1e16b",
   "metadata": {
    "ExecuteTime": {
     "end_time": "2022-12-05T13:00:12.266636Z",
     "start_time": "2022-12-05T13:00:12.254597Z"
    }
   },
   "outputs": [],
   "source": [
    "# remove missing value completly\n",
    "df_qtd_base = df1.shape[0]\n",
    "sessions_qtd_base = sessions.shape[0]"
   ]
  },
  {
   "cell_type": "markdown",
   "id": "4a1484a3",
   "metadata": {},
   "source": [
    "### date_first_booking"
   ]
  },
  {
   "cell_type": "code",
   "execution_count": 13,
   "id": "67ec370c",
   "metadata": {
    "ExecuteTime": {
     "end_time": "2022-12-05T13:00:12.312842Z",
     "start_time": "2022-12-05T13:00:12.268839Z"
    }
   },
   "outputs": [
    {
     "data": {
      "text/plain": [
       "NDF    124543\n",
       "Name: country_destination, dtype: int64"
      ]
     },
     "execution_count": 13,
     "metadata": {},
     "output_type": "execute_result"
    }
   ],
   "source": [
    "df1[df1['date_first_booking'].isna()]['country_destination'].value_counts()"
   ]
  },
  {
   "cell_type": "code",
   "execution_count": 14,
   "id": "23a59cf6",
   "metadata": {
    "ExecuteTime": {
     "end_time": "2022-12-05T13:00:12.375075Z",
     "start_time": "2022-12-05T13:00:12.314839Z"
    }
   },
   "outputs": [],
   "source": [
    "df1['date_account_created'] = pd.to_datetime(df1['date_account_created'])\n",
    "temp = df1['date_account_created'].max().strftime('%Y-%m-%d')\n",
    "df1['date_first_booking'].fillna(temp, inplace=True)"
   ]
  },
  {
   "cell_type": "markdown",
   "id": "5caf6b22",
   "metadata": {},
   "source": [
    "### 1.4.2 age"
   ]
  },
  {
   "cell_type": "code",
   "execution_count": 15,
   "id": "4176e565",
   "metadata": {
    "ExecuteTime": {
     "end_time": "2022-12-05T13:00:12.657423Z",
     "start_time": "2022-12-05T13:00:12.377951Z"
    }
   },
   "outputs": [
    {
     "data": {
      "image/png": "[encoded data removed]",
      "text/plain": [
       "<Figure size 1800x360 with 1 Axes>"
      ]
     },
     "metadata": {
      "needs_background": "light"
     },
     "output_type": "display_data"
    }
   ],
   "source": [
    "temp = df1.groupby('country_destination').agg({'age': 'mean'}).reset_index()\n",
    "sns.catplot(data=temp, x='country_destination', y='age', kind='bar', aspect=5)\n",
    "plt.title('age by country_destination', fontsize=35)\n",
    "plt.xlabel('country_destination', fontsize=25)\n",
    "plt.ylabel('age', fontsize=25);"
   ]
  },
  {
   "cell_type": "markdown",
   "id": "4b074e6a",
   "metadata": {},
   "source": [
    "A distribuição parece uniforme em todas as categorias de country_destination"
   ]
  },
  {
   "cell_type": "code",
   "execution_count": 16,
   "id": "c14520a2",
   "metadata": {
    "ExecuteTime": {
     "end_time": "2022-12-05T13:00:12.766654Z",
     "start_time": "2022-12-05T13:00:12.659423Z"
    },
    "scrolled": false
   },
   "outputs": [
    {
     "name": "stderr",
     "output_type": "stream",
     "text": [
      "D:\\My Drive\\Pessoal\\environments\\data_science\\lib\\site-packages\\seaborn\\_decorators.py:36: FutureWarning: Pass the following variable as a keyword arg: x. From version 0.12, the only valid positional argument will be `data`, and passing other arguments without an explicit keyword will result in an error or misinterpretation.\n",
      "  warnings.warn(\n"
     ]
    },
    {
     "data": {
      "image/png": "[encoded data removed]",
      "text/plain": [
       "<Figure size 640x480 with 1 Axes>"
      ]
     },
     "metadata": {},
     "output_type": "display_data"
    }
   ],
   "source": [
    "# plt.figure(figsize=(20, 5))\n",
    "sns.boxplot(df1['age']);"
   ]
  },
  {
   "cell_type": "markdown",
   "id": "4602d4ba",
   "metadata": {},
   "source": [
    "Outliers com idade de 2000 anos, erros de input"
   ]
  },
  {
   "cell_type": "code",
   "execution_count": 17,
   "id": "a7252906",
   "metadata": {
    "ExecuteTime": {
     "end_time": "2022-12-05T13:00:12.797298Z",
     "start_time": "2022-12-05T13:00:12.769657Z"
    }
   },
   "outputs": [
    {
     "name": "stdout",
     "output_type": "stream",
     "text": [
      "Média = 49.66833517985669\n",
      "Mediana = 34.0\n"
     ]
    }
   ],
   "source": [
    "print(f'Média = {df1[\"age\"].mean()}')\n",
    "print(f'Mediana = {df1[\"age\"].median()}')"
   ]
  },
  {
   "cell_type": "markdown",
   "id": "f5d6c179",
   "metadata": {},
   "source": [
    "Bastante deslocadas por conta dos outliers"
   ]
  },
  {
   "cell_type": "code",
   "execution_count": 18,
   "id": "fa9a742f",
   "metadata": {
    "ExecuteTime": {
     "end_time": "2022-12-05T13:00:13.115194Z",
     "start_time": "2022-12-05T13:00:12.799300Z"
    },
    "scrolled": false
   },
   "outputs": [
    {
     "data": {
      "image/png": "[encoded data removed]",
      "text/plain": [
       "<Figure size 640x480 with 1 Axes>"
      ]
     },
     "metadata": {},
     "output_type": "display_data"
    }
   ],
   "source": [
    "# plt.figure(figsize=(20, 5))\n",
    "sns.histplot(df1.loc[df1['age']<=85, 'age']);"
   ]
  },
  {
   "cell_type": "markdown",
   "id": "0de5916c",
   "metadata": {},
   "source": [
    "Parecida com uma NORMAL, apesar de possuir um SKEW POSITIVO (cauda direita mais pesada). Uma distribuição NORMAL com média e desvio padrão similares pode ser uma boa forma de substituição dos Nas"
   ]
  },
  {
   "cell_type": "code",
   "execution_count": 19,
   "id": "63f69e5f",
   "metadata": {
    "ExecuteTime": {
     "end_time": "2022-12-05T13:00:13.511682Z",
     "start_time": "2022-12-05T13:00:13.117204Z"
    }
   },
   "outputs": [
    {
     "data": {
      "image/png": "[encoded data removed]",
      "text/plain": [
       "<Figure size 640x480 with 1 Axes>"
      ]
     },
     "metadata": {},
     "output_type": "display_data"
    }
   ],
   "source": [
    "loc = df1.loc[df1['age']<=85, 'age'].mean()\n",
    "scale = df1.loc[df1['age']<=85, 'age'].std()\n",
    "size = temp = df1.loc[df1['age'].isna()]['id'].count()\n",
    "random_norm_age = np.random.normal(loc=loc, scale=scale, size=size)\n",
    "\n",
    "sns.histplot(random_norm_age);"
   ]
  },
  {
   "cell_type": "code",
   "execution_count": 20,
   "id": "fc50db85",
   "metadata": {
    "ExecuteTime": {
     "end_time": "2022-12-05T13:00:13.527685Z",
     "start_time": "2022-12-05T13:00:13.514689Z"
    }
   },
   "outputs": [],
   "source": [
    "df1.loc[df1['age'].isna(), 'age'] = random_norm_age"
   ]
  },
  {
   "cell_type": "code",
   "execution_count": 21,
   "id": "b3bba5e3",
   "metadata": {
    "ExecuteTime": {
     "end_time": "2022-12-05T13:00:13.929098Z",
     "start_time": "2022-12-05T13:00:13.530735Z"
    }
   },
   "outputs": [
    {
     "data": {
      "image/png": "[encoded data removed]",
      "text/plain": [
       "<Figure size 640x480 with 1 Axes>"
      ]
     },
     "metadata": {},
     "output_type": "display_data"
    }
   ],
   "source": [
    "sns.histplot(df1.loc[df1['age']<=85, 'age']);"
   ]
  },
  {
   "cell_type": "markdown",
   "id": "87620580",
   "metadata": {},
   "source": [
    "### 1.4.3 first_affiliate_tracked"
   ]
  },
  {
   "cell_type": "code",
   "execution_count": 22,
   "id": "99f795c1",
   "metadata": {
    "ExecuteTime": {
     "end_time": "2022-12-05T13:00:13.972426Z",
     "start_time": "2022-12-05T13:00:13.933371Z"
    }
   },
   "outputs": [
    {
     "data": {
      "text/plain": [
       "untracked        109232\n",
       "linked            46287\n",
       "omg               43982\n",
       "tracked-other      6156\n",
       "product            1556\n",
       "marketing           139\n",
       "local ops            34\n",
       "Name: first_affiliate_tracked, dtype: int64"
      ]
     },
     "execution_count": 22,
     "metadata": {},
     "output_type": "execute_result"
    }
   ],
   "source": [
    "df1['first_affiliate_tracked'].value_counts()"
   ]
  },
  {
   "cell_type": "code",
   "execution_count": 23,
   "id": "263aa849",
   "metadata": {
    "ExecuteTime": {
     "end_time": "2022-12-05T13:00:14.003561Z",
     "start_time": "2022-12-05T13:00:13.975438Z"
    }
   },
   "outputs": [
    {
     "data": {
      "text/plain": [
       "NDF      4327\n",
       "US       1309\n",
       "FR        124\n",
       "other     113\n",
       "IT         44\n",
       "CA         37\n",
       "ES         36\n",
       "GB         29\n",
       "DE         20\n",
       "AU         12\n",
       "NL         11\n",
       "PT          3\n",
       "Name: country_destination, dtype: int64"
      ]
     },
     "execution_count": 23,
     "metadata": {},
     "output_type": "execute_result"
    }
   ],
   "source": [
    "df1[df1['first_affiliate_tracked'].isna()]['country_destination'].value_counts()"
   ]
  },
  {
   "cell_type": "markdown",
   "id": "d098f156",
   "metadata": {},
   "source": [
    "As amostras Nas estão dispesas em todas as categorias de países destinos. Droparemos os Nas"
   ]
  },
  {
   "cell_type": "code",
   "execution_count": 24,
   "id": "9883ae21",
   "metadata": {
    "ExecuteTime": {
     "end_time": "2022-12-05T13:00:14.066419Z",
     "start_time": "2022-12-05T13:00:14.005570Z"
    }
   },
   "outputs": [],
   "source": [
    "temp = df1[df1['first_affiliate_tracked'].isna()].index\n",
    "\n",
    "df1.drop(temp, axis=0, inplace=True)"
   ]
  },
  {
   "cell_type": "markdown",
   "id": "a04d72af",
   "metadata": {},
   "source": [
    "### 1.4.4 total drop missing values"
   ]
  },
  {
   "cell_type": "code",
   "execution_count": 25,
   "id": "a3c5097a",
   "metadata": {
    "ExecuteTime": {
     "end_time": "2022-12-05T13:00:14.081627Z",
     "start_time": "2022-12-05T13:00:14.068423Z"
    }
   },
   "outputs": [
    {
     "name": "stdout",
     "output_type": "stream",
     "text": [
      "Porcentagem da base removida: 2.84%\n"
     ]
    }
   ],
   "source": [
    "print(f'Porcentagem da base removida: {round((df_qtd_base - df1.shape[0]) * 100/ df_qtd_base, 2)}%')"
   ]
  },
  {
   "cell_type": "markdown",
   "id": "9be5bd15",
   "metadata": {},
   "source": [
    "## 1.5 Changing datatype"
   ]
  },
  {
   "cell_type": "code",
   "execution_count": 26,
   "id": "b5ad1c6a",
   "metadata": {
    "ExecuteTime": {
     "end_time": "2022-12-05T13:00:14.724407Z",
     "start_time": "2022-12-05T13:00:14.085565Z"
    }
   },
   "outputs": [],
   "source": [
    "# date_account_created\n",
    "df1['date_account_created'] = pd.to_datetime(df1['date_account_created'])\n",
    "# timestamp_first_active\n",
    "df1['timestamp_first_active'] = pd.to_datetime(df1['timestamp_first_active'], format='%Y%m%d%H%M%S')\n",
    "# date_first_booking\n",
    "df1['date_first_booking'] = pd.to_datetime(df1['date_first_booking'])\n",
    "# age\n",
    "df1['age'] = df1['age'].astype(int)"
   ]
  },
  {
   "cell_type": "markdown",
   "id": "ec519a6f",
   "metadata": {},
   "source": [
    "## 1.6 Check Balanced Data"
   ]
  },
  {
   "cell_type": "code",
   "execution_count": 27,
   "id": "c2cc1982",
   "metadata": {
    "ExecuteTime": {
     "end_time": "2022-12-05T13:00:14.756219Z",
     "start_time": "2022-12-05T13:00:14.724407Z"
    }
   },
   "outputs": [
    {
     "data": {
      "text/plain": [
       "NDF      0.579673\n",
       "US       0.294461\n",
       "other    0.048128\n",
       "FR       0.023623\n",
       "IT       0.013458\n",
       "GB       0.011066\n",
       "ES       0.010671\n",
       "CA       0.006707\n",
       "DE       0.005020\n",
       "NL       0.003621\n",
       "AU       0.002541\n",
       "PT       0.001032\n",
       "Name: country_destination, dtype: float64"
      ]
     },
     "execution_count": 27,
     "metadata": {},
     "output_type": "execute_result"
    }
   ],
   "source": [
    "df1['country_destination'].value_counts(normalize=True)"
   ]
  },
  {
   "cell_type": "markdown",
   "id": "88e9d7a0",
   "metadata": {},
   "source": [
    "## 1.7 Descriptive Statistic"
   ]
  },
  {
   "cell_type": "code",
   "execution_count": null,
   "id": "ba954ba9",
   "metadata": {},
   "outputs": [],
   "source": []
  },
  {
   "cell_type": "markdown",
   "id": "8c228bb3",
   "metadata": {
    "heading_collapsed": true
   },
   "source": [
    "# 2.0 Feature Engineering"
   ]
  },
  {
   "cell_type": "code",
   "execution_count": 10,
   "id": "273c2a90",
   "metadata": {
    "ExecuteTime": {
     "end_time": "2022-12-04T10:41:21.090369Z",
     "start_time": "2022-12-04T10:41:21.062878Z"
    },
    "hidden": true
   },
   "outputs": [],
   "source": [
    "df2 = df1.copy()"
   ]
  },
  {
   "cell_type": "markdown",
   "id": "4f755e02",
   "metadata": {
    "heading_collapsed": true
   },
   "source": [
    "# 3.0 Exploratory Data Analysis"
   ]
  },
  {
   "cell_type": "code",
   "execution_count": 11,
   "id": "b9b344e4",
   "metadata": {
    "ExecuteTime": {
     "end_time": "2022-12-04T10:41:21.124542Z",
     "start_time": "2022-12-04T10:41:21.090369Z"
    },
    "hidden": true
   },
   "outputs": [],
   "source": [
    "df3 = df2.copy()"
   ]
  },
  {
   "cell_type": "markdown",
   "id": "ccfa6107",
   "metadata": {
    "heading_collapsed": true
   },
   "source": [
    "# 4.0 Data Filtering"
   ]
  },
  {
   "cell_type": "code",
   "execution_count": 12,
   "id": "eff99efe",
   "metadata": {
    "ExecuteTime": {
     "end_time": "2022-12-04T10:41:21.157297Z",
     "start_time": "2022-12-04T10:41:21.124542Z"
    },
    "hidden": true
   },
   "outputs": [],
   "source": [
    "df4 = df3.copy()"
   ]
  },
  {
   "cell_type": "markdown",
   "id": "32d5d80b",
   "metadata": {
    "heading_collapsed": true,
    "hidden": true
   },
   "source": [
    "## 4.1 Filtering Rows"
   ]
  },
  {
   "cell_type": "code",
   "execution_count": null,
   "id": "9c5d2a12",
   "metadata": {
    "hidden": true
   },
   "outputs": [],
   "source": []
  },
  {
   "cell_type": "markdown",
   "id": "250e314b",
   "metadata": {
    "heading_collapsed": true,
    "hidden": true
   },
   "source": [
    "## 4.2 Columns Selection"
   ]
  },
  {
   "cell_type": "code",
   "execution_count": null,
   "id": "26123211",
   "metadata": {
    "hidden": true
   },
   "outputs": [],
   "source": []
  },
  {
   "cell_type": "markdown",
   "id": "d163ca7d",
   "metadata": {},
   "source": [
    "# 5.0 Data Preparation"
   ]
  },
  {
   "cell_type": "code",
   "execution_count": 13,
   "id": "c854b483",
   "metadata": {
    "ExecuteTime": {
     "end_time": "2022-12-04T10:41:21.194877Z",
     "start_time": "2022-12-04T10:41:21.165191Z"
    }
   },
   "outputs": [],
   "source": [
    "df5 = df4.copy()"
   ]
  },
  {
   "cell_type": "markdown",
   "id": "d5c824e3",
   "metadata": {
    "heading_collapsed": true
   },
   "source": [
    "## 5.1 Preprocessing"
   ]
  },
  {
   "cell_type": "code",
   "execution_count": 14,
   "id": "e4794f9b",
   "metadata": {
    "ExecuteTime": {
     "end_time": "2022-12-04T10:41:21.258836Z",
     "start_time": "2022-12-04T10:41:21.194877Z"
    },
    "hidden": true
   },
   "outputs": [],
   "source": [
    "X = df5.drop(['id', 'country_destination'], axis=1)\n",
    "y = df5['country_destination']\n",
    "X_train, X_test, y_train, y_test = ms.train_test_split(X, y, test_size=0.2, random_state=100)"
   ]
  },
  {
   "cell_type": "markdown",
   "id": "b3e25805",
   "metadata": {
    "heading_collapsed": true
   },
   "source": [
    "## 5.2 Target"
   ]
  },
  {
   "cell_type": "code",
   "execution_count": null,
   "id": "532a02de",
   "metadata": {
    "ExecuteTime": {
     "end_time": "2022-11-29T21:37:15.516511Z",
     "start_time": "2022-11-29T21:37:15.484526Z"
    },
    "hidden": true
   },
   "outputs": [],
   "source": []
  },
  {
   "cell_type": "markdown",
   "id": "c0db7156",
   "metadata": {
    "heading_collapsed": true
   },
   "source": [
    "## 5.3 Features"
   ]
  },
  {
   "cell_type": "markdown",
   "id": "daa3e5c3",
   "metadata": {
    "heading_collapsed": true,
    "hidden": true
   },
   "source": [
    "### 5.3.1 Encodings"
   ]
  },
  {
   "cell_type": "code",
   "execution_count": 15,
   "id": "2be275a2",
   "metadata": {
    "ExecuteTime": {
     "end_time": "2022-12-04T10:41:21.498841Z",
     "start_time": "2022-12-04T10:41:21.258836Z"
    },
    "hidden": true
   },
   "outputs": [],
   "source": [
    "cat_attributes = df5.drop(['id', 'country_destination'], axis=1).select_dtypes(exclude=[int, float, 'datetime64[ns]']).columns.to_list()\n",
    "\n",
    "temp = pd.get_dummies(df5[cat_attributes])\n",
    "\n",
    "df5 = pd.concat([df5, temp], axis=1).drop(cat_attributes, axis=1)"
   ]
  },
  {
   "cell_type": "markdown",
   "id": "710a65c0",
   "metadata": {
    "heading_collapsed": true
   },
   "source": [
    "# 6.0 Feature Selection"
   ]
  },
  {
   "cell_type": "code",
   "execution_count": 16,
   "id": "943cbccd",
   "metadata": {
    "ExecuteTime": {
     "end_time": "2022-12-04T10:41:21.527028Z",
     "start_time": "2022-12-04T10:41:21.498841Z"
    },
    "hidden": true
   },
   "outputs": [],
   "source": [
    "df6 = df5.copy()"
   ]
  },
  {
   "cell_type": "code",
   "execution_count": 17,
   "id": "bca0cee8",
   "metadata": {
    "ExecuteTime": {
     "end_time": "2022-12-04T10:41:21.562782Z",
     "start_time": "2022-12-04T10:41:21.527028Z"
    },
    "hidden": true
   },
   "outputs": [],
   "source": [
    "cols_drop = 'date_account_created timestamp_first_active date_first_booking'.split()\n",
    "df6.drop(cols_drop, axis=1, inplace=True)"
   ]
  },
  {
   "cell_type": "markdown",
   "id": "ce135751",
   "metadata": {},
   "source": [
    "# 7.0 Machine Learning Modeling"
   ]
  },
  {
   "cell_type": "code",
   "execution_count": 18,
   "id": "93b5da9d",
   "metadata": {
    "ExecuteTime": {
     "end_time": "2022-12-04T10:41:21.594765Z",
     "start_time": "2022-12-04T10:41:21.562782Z"
    }
   },
   "outputs": [],
   "source": [
    "df7 = df6.copy()"
   ]
  },
  {
   "cell_type": "markdown",
   "id": "1cf8fc75",
   "metadata": {
    "heading_collapsed": true
   },
   "source": [
    "## 7.1 Preprocessing"
   ]
  },
  {
   "cell_type": "code",
   "execution_count": 19,
   "id": "067d3db1",
   "metadata": {
    "ExecuteTime": {
     "end_time": "2022-12-04T10:41:21.637409Z",
     "start_time": "2022-12-04T10:41:21.594765Z"
    },
    "hidden": true
   },
   "outputs": [],
   "source": [
    "X = df7.drop(['id', 'country_destination'], axis=1)\n",
    "y = df7['country_destination']"
   ]
  },
  {
   "cell_type": "markdown",
   "id": "29d3f65c",
   "metadata": {},
   "source": [
    "## 7.2 Models"
   ]
  },
  {
   "cell_type": "markdown",
   "id": "0115eb01",
   "metadata": {
    "heading_collapsed": true
   },
   "source": [
    "### 7.2.1 Baseline Model"
   ]
  },
  {
   "cell_type": "code",
   "execution_count": 20,
   "id": "ce9b1610",
   "metadata": {
    "ExecuteTime": {
     "end_time": "2022-12-04T10:41:23.483366Z",
     "start_time": "2022-12-04T10:41:21.637409Z"
    },
    "hidden": true
   },
   "outputs": [
    {
     "name": "stdout",
     "output_type": "stream",
     "text": [
      "Accuracy: 0.5218921892189219\n",
      "Balanced Accuracy: 0.09208661329805738\n",
      "Kappa Score : 0.006222379511518494\n",
      "\n",
      "              precision    recall  f1-score   support\n",
      "\n",
      "          AU       0.00      0.00      0.00        83\n",
      "          CA       0.02      0.02      0.02       234\n",
      "          DE       0.02      0.02      0.02       158\n",
      "          ES       0.01      0.02      0.01       331\n",
      "          FR       0.06      0.06      0.06       724\n",
      "          GB       0.03      0.02      0.03       385\n",
      "          IT       0.03      0.03      0.03       423\n",
      "          NL       0.02      0.02      0.02       129\n",
      "          PT       0.00      0.00      0.00        28\n",
      "          US       0.71      0.72      0.71      9590\n",
      "       other       0.12      0.12      0.12      1550\n",
      "\n",
      "    accuracy                           0.52     13635\n",
      "   macro avg       0.09      0.09      0.09     13635\n",
      "weighted avg       0.52      0.52      0.52     13635\n",
      "\n"
     ]
    },
    {
     "data": {
      "image/png": "[encoded data removed]",
      "text/plain": [
       "<Figure size 648x648 with 2 Axes>"
      ]
     },
     "metadata": {
      "needs_background": "light"
     },
     "output_type": "display_data"
    }
   ],
   "source": [
    "# train test split\n",
    "X_train, X_test, y_train, y_test = ms.train_test_split(X, y, test_size=0.2, random_state=100)\n",
    "\n",
    "# random y_hat weighted\n",
    "p = y_train.value_counts(normalize=True).sort_index().values\n",
    "a = y_train.drop_duplicates().sort_index().sort_values()\n",
    "y_hat = np.random.choice(a=a, size=len(y_test), p=p)\n",
    "\n",
    "# metrics\n",
    "acc = m.accuracy_score(y_test, y_hat)\n",
    "balanced_acc = m.balanced_accuracy_score(y_test, y_hat)\n",
    "kappa = m.cohen_kappa_score(y_test, y_hat)\n",
    "\n",
    "print(f'Accuracy: {acc}')\n",
    "print(f'Balanced Accuracy: {balanced_acc}')\n",
    "print(f'Kappa Score : {kappa}')\n",
    "print('')\n",
    "print(f'{m.classification_report(y_test, y_hat)}')\n",
    "\n",
    "mt.plot_confusion_matrix(y_test, y_hat, normalize=False, figsize=(9, 9));"
   ]
  },
  {
   "cell_type": "markdown",
   "id": "66349dd2",
   "metadata": {},
   "source": [
    "### 7.2.2 Neural Network MLP"
   ]
  },
  {
   "cell_type": "markdown",
   "id": "eb019216",
   "metadata": {
    "ExecuteTime": {
     "end_time": "2022-12-03T13:31:33.376791Z",
     "start_time": "2022-12-03T13:31:33.365771Z"
    },
    "heading_collapsed": true
   },
   "source": [
    "#### 7.2.2.1 Neural Network Single Validation"
   ]
  },
  {
   "cell_type": "code",
   "execution_count": 21,
   "id": "cd2c4d91",
   "metadata": {
    "ExecuteTime": {
     "end_time": "2022-12-04T10:43:22.901555Z",
     "start_time": "2022-12-04T10:41:23.483366Z"
    },
    "hidden": true,
    "scrolled": false
   },
   "outputs": [
    {
     "name": "stdout",
     "output_type": "stream",
     "text": [
      "427/427 [==============================] - 1s 2ms/step\n",
      "Accuracy: 0.7031903190319032\n",
      "Balanced Accuracy: 0.09145602618761632\n",
      "Kappa Score : 0.0004978777478733543\n",
      "\n"
     ]
    },
    {
     "name": "stderr",
     "output_type": "stream",
     "text": [
      "D:\\My Drive\\Pessoal\\environments\\data_science\\lib\\site-packages\\sklearn\\metrics\\_classification.py:1327: UndefinedMetricWarning: Precision and F-score are ill-defined and being set to 0.0 in labels with no predicted samples. Use `zero_division` parameter to control this behavior.\n",
      "  _warn_prf(average, modifier, msg_start, len(result))\n",
      "D:\\My Drive\\Pessoal\\environments\\data_science\\lib\\site-packages\\sklearn\\metrics\\_classification.py:1327: UndefinedMetricWarning: Precision and F-score are ill-defined and being set to 0.0 in labels with no predicted samples. Use `zero_division` parameter to control this behavior.\n",
      "  _warn_prf(average, modifier, msg_start, len(result))\n",
      "D:\\My Drive\\Pessoal\\environments\\data_science\\lib\\site-packages\\sklearn\\metrics\\_classification.py:1327: UndefinedMetricWarning: Precision and F-score are ill-defined and being set to 0.0 in labels with no predicted samples. Use `zero_division` parameter to control this behavior.\n",
      "  _warn_prf(average, modifier, msg_start, len(result))\n"
     ]
    },
    {
     "name": "stdout",
     "output_type": "stream",
     "text": [
      "              precision    recall  f1-score   support\n",
      "\n",
      "          AU       0.00      0.00      0.00        83\n",
      "          CA       0.00      0.00      0.00       234\n",
      "          DE       1.00      0.01      0.01       158\n",
      "          ES       0.00      0.00      0.00       331\n",
      "          FR       0.00      0.00      0.00       724\n",
      "          GB       0.00      0.00      0.00       385\n",
      "          IT       0.00      0.00      0.00       423\n",
      "          NL       0.00      0.00      0.00       129\n",
      "          PT       0.00      0.00      0.00        28\n",
      "          US       0.70      1.00      0.83      9590\n",
      "       other       0.00      0.00      0.00      1550\n",
      "\n",
      "    accuracy                           0.70     13635\n",
      "   macro avg       0.15      0.09      0.08     13635\n",
      "weighted avg       0.51      0.70      0.58     13635\n",
      "\n"
     ]
    },
    {
     "data": {
      "image/png": "[encoded data removed]",
      "text/plain": [
       "<Figure size 648x648 with 2 Axes>"
      ]
     },
     "metadata": {
      "needs_background": "light"
     },
     "output_type": "display_data"
    }
   ],
   "source": [
    "# train test split\n",
    "X_train, X_test, y_train, y_test = ms.train_test_split(X, y, test_size=0.2, random_state=100)\n",
    "\n",
    "# encoding y\n",
    "ohe = pp.OneHotEncoder()\n",
    "ohe_y = ohe.fit(y.values.reshape(-1, 1))\n",
    "y_train_nn = ohe_y.transform(y_train.values.reshape(-1, 1)).toarray()\n",
    "\n",
    "# model definition\n",
    "nn_model = ml.Sequential()\n",
    "nn_model.add(l.Dense(128, input_dim=X_train.shape[1], activation='relu'))\n",
    "nn_model.add(l.Dense(11, activation='softmax'))\n",
    "\n",
    "# model compile\n",
    "nn_model.compile(loss='categorical_crossentropy', optimizer='adam', metrics='accuracy')\n",
    "\n",
    "# fiting model\n",
    "nn_model.fit(X_train, y_train_nn, epochs=30, verbose=0, batch_size=32)\n",
    "\n",
    "# predicting\n",
    "y_hat = nn_model.predict(X_test)\n",
    "\n",
    "# formating\n",
    "y_hat = ohe.inverse_transform(y_hat)\n",
    "y_hat = y_hat.reshape(1, -1)[0]\n",
    "y_test_nn = y_test.to_numpy()\n",
    "\n",
    "# metrics\n",
    "acc = m.accuracy_score(y_test_nn, y_hat)\n",
    "balanced_acc = m.balanced_accuracy_score(y_test_nn, y_hat)\n",
    "kappa = m.cohen_kappa_score(y_test_nn, y_hat)\n",
    "    \n",
    "# prints\n",
    "print(f'Accuracy: {acc}')\n",
    "print(f'Balanced Accuracy: {balanced_acc}')\n",
    "print(f'Kappa Score : {kappa}')\n",
    "print('')\n",
    "print(f'{m.classification_report(y_test_nn, y_hat)}')\n",
    "mt.plot_confusion_matrix(y_test_nn, y_hat, normalize=False, figsize=(9, 9));"
   ]
  },
  {
   "cell_type": "markdown",
   "id": "5ec7d74e",
   "metadata": {
    "ExecuteTime": {
     "end_time": "2022-12-03T13:31:33.376791Z",
     "start_time": "2022-12-03T13:31:33.365771Z"
    }
   },
   "source": [
    "#### 7.2.2.2 Neural Network Crossvalidation"
   ]
  },
  {
   "cell_type": "code",
   "execution_count": 22,
   "id": "3d53bc69",
   "metadata": {
    "ExecuteTime": {
     "end_time": "2022-12-04T10:53:38.449915Z",
     "start_time": "2022-12-04T10:43:22.905926Z"
    }
   },
   "outputs": [
    {
     "name": "stdout",
     "output_type": "stream",
     "text": [
      "427/427 [==============================] - 1s 2ms/step\n",
      "Fold Number: 1\n",
      "Balanced Accuracy: 0.09149452376279021\n",
      "Kappa Score : 0.0026940329605565916\n",
      "\n",
      "427/427 [==============================] - 1s 2ms/step\n",
      "Fold Number: 2\n",
      "Balanced Accuracy: 0.0919395727562843\n",
      "Kappa Score : 0.001695524107986679\n",
      "\n",
      "427/427 [==============================] - 1s 2ms/step\n",
      "Fold Number: 4\n",
      "Balanced Accuracy: 0.0912947651474735\n",
      "Kappa Score : 0.001440382249631389\n",
      "\n",
      "427/427 [==============================] - 1s 2ms/step\n",
      "Fold Number: 8\n",
      "Balanced Accuracy: 0.09114745733649988\n",
      "Kappa Score : 0.0008867002293695414\n",
      "\n",
      "427/427 [==============================] - 1s 2ms/step\n",
      "Fold Number: 16\n",
      "Balanced Accuracy: 0.09088086995785671\n",
      "Kappa Score : -9.971847486078822e-05\n",
      "\n"
     ]
    }
   ],
   "source": [
    "acc_list, balanced_acc_list, kappa_list = [], [], []\n",
    "\n",
    "num_folds = 5\n",
    "i = 1\n",
    "skf = ms.StratifiedKFold(n_splits= num_folds, random_state=100, shuffle=True)\n",
    "\n",
    "for train_index, test_index in skf.split(X, y):\n",
    "    \n",
    "    # get fold\n",
    "    X_train_fold = X.iloc[train_index]\n",
    "    y_train_fold = y.iloc[train_index]\n",
    "    \n",
    "    X_test_fold = X.iloc[test_index]\n",
    "    y_test_fold = y.iloc[test_index]\n",
    "  \n",
    "\n",
    "    # encoding y\n",
    "    y_train_fold = ohe_y.transform(y_train_fold.values.reshape(-1, 1)).toarray()\n",
    "    \n",
    "    # model definition\n",
    "    nn_model = ml.Sequential()\n",
    "    nn_model.add(l.Dense(128, input_dim=X_train_fold.shape[1], activation='relu'))\n",
    "    nn_model.add(l.Dense(11, activation='softmax'))\n",
    "\n",
    "    # model compile\n",
    "    nn_model.compile(loss='categorical_crossentropy', optimizer='adam', metrics='accuracy')\n",
    "\n",
    "    # fiting model\n",
    "    nn_model.fit(X_train_fold, y_train_fold, epochs=30, verbose=0, batch_size=32)\n",
    "\n",
    "    # predicting\n",
    "    y_hat = nn_model.predict(X_test_fold)\n",
    "\n",
    "    # formating\n",
    "    y_hat = ohe_y.inverse_transform(y_hat)\n",
    "    y_hat = y_hat.reshape(1, -1)[0]\n",
    "    y_test_fold = y_test_fold.to_numpy()\n",
    "    \n",
    "    # metrics\n",
    "    acc = m.accuracy_score(y_test_fold, y_hat)\n",
    "    acc_list.append(acc)\n",
    "    balanced_acc = m.balanced_accuracy_score(y_test_fold, y_hat)\n",
    "    balanced_acc_list.append(balanced_acc)\n",
    "    kappa = m.cohen_kappa_score(y_test_fold, y_hat)\n",
    "    kappa_list.append(kappa)\n",
    "    \n",
    "    # prints\n",
    "    print(f'Fold Number: {i}')\n",
    "    print(f'Balanced Accuracy: {balanced_acc}')\n",
    "    print(f'Kappa Score : {kappa}\\n')\n",
    "    i += i"
   ]
  },
  {
   "cell_type": "markdown",
   "id": "eccfb8a6",
   "metadata": {},
   "source": [
    "### 7.2.1 XGBoost Classifier"
   ]
  },
  {
   "cell_type": "markdown",
   "id": "3f3e5c34",
   "metadata": {
    "ExecuteTime": {
     "end_time": "2022-12-03T13:31:33.376791Z",
     "start_time": "2022-12-03T13:31:33.365771Z"
    },
    "heading_collapsed": true
   },
   "source": [
    "#### 7.2.3.1 XGBoost Classifier Sigle Validation"
   ]
  },
  {
   "cell_type": "code",
   "execution_count": 23,
   "id": "bab570c7",
   "metadata": {
    "ExecuteTime": {
     "end_time": "2022-12-04T10:53:38.475811Z",
     "start_time": "2022-12-04T10:53:38.449915Z"
    },
    "hidden": true,
    "scrolled": false
   },
   "outputs": [],
   "source": [
    "# # encoding y\n",
    "# le_y = pp.LabelEncoder().fit(y)\n",
    "\n",
    "# y_train_le = le_y.transform(y_train)\n",
    "# y_test_le = le_y.transform(y_test)\n",
    "\n",
    "# # model defition\n",
    "# xgb_model = XGBClassifier()\n",
    "\n",
    "# # fiting model\n",
    "# xgb_fit = xgb_model.fit(X_train, y_train_le)\n",
    "\n",
    "# # predicting\n",
    "# y_hat = xgb_fit.predict(X_test)\n",
    "\n",
    "# # formating\n",
    "# y_hat = le_y.inverse_transform(y_hat)\n",
    "\n",
    "# # metrics\n",
    "# acc = m.accuracy_score(y_test, y_hat)\n",
    "# balanced_acc = m.balanced_accuracy_score(y_test, y_hat)\n",
    "# kappa = m.cohen_kappa_score(y_test, y_hat)\n",
    "    \n",
    "# # prints\n",
    "# print(f'Accuracy: {acc}')\n",
    "# print(f'Balanced Accuracy: {balanced_acc}')\n",
    "# print(f'Kappa Score : {kappa}')\n",
    "# print('')\n",
    "# print(f'{m.classification_report(y_test, y_hat)}');\n",
    "\n",
    "# mt.plot_confusion_matrix(y_test, y_hat, normalize=False, figsize=(9, 9));"
   ]
  },
  {
   "cell_type": "markdown",
   "id": "856b3456",
   "metadata": {
    "ExecuteTime": {
     "end_time": "2022-12-03T13:31:33.376791Z",
     "start_time": "2022-12-03T13:31:33.365771Z"
    }
   },
   "source": [
    "#### 7.2.3.2 XGBoost Classifier Crossvalidation"
   ]
  },
  {
   "cell_type": "code",
   "execution_count": 24,
   "id": "3e0fa23d",
   "metadata": {
    "ExecuteTime": {
     "end_time": "2022-12-04T10:53:38.491448Z",
     "start_time": "2022-12-04T10:53:38.475811Z"
    },
    "scrolled": false
   },
   "outputs": [],
   "source": [
    "# acc_list, balanced_acc_list, kappa_list = [], [], []\n",
    "\n",
    "# num_folds = 5\n",
    "# i = 1\n",
    "# skf = ms.StratifiedKFold(n_splits= num_folds, random_state=100, shuffle=True)\n",
    "\n",
    "# for train_index, test_index in skf.split(X, y):\n",
    "    \n",
    "#     # get fold\n",
    "#     X_train_fold = X.iloc[train_index]\n",
    "#     y_train_fold = y.iloc[train_index]\n",
    "    \n",
    "#     X_test_fold = X.iloc[test_index]\n",
    "#     y_test_fold = y.iloc[test_index]\n",
    "    \n",
    "#     # encoding y\n",
    "#     y_train_fold_le = le_y.transform(y_train_fold)\n",
    "    \n",
    "#     # model defition\n",
    "#     xgb_model = XGBClassifier()\n",
    "    \n",
    "#     # fiting model\n",
    "#     xgb_fit = xgb_model.fit(X_train_fold, y_train_fold_le)\n",
    "\n",
    "#     # predicting\n",
    "#     y_hat = xgb_fit.predict(X_test_fold)\n",
    "    \n",
    "#     # formating\n",
    "#     y_hat = le_y.inverse_transform(y_hat)\n",
    "    \n",
    "#     # metrics\n",
    "#     acc = m.accuracy_score(y_test_fold, y_hat)\n",
    "#     acc_list.append(acc)\n",
    "#     balanced_acc = m.balanced_accuracy_score(y_test_fold, y_hat)\n",
    "#     balanced_acc_list.append(balanced_acc)\n",
    "#     kappa = m.cohen_kappa_score(y_test_fold, y_hat)\n",
    "#     kappa_list.append(kappa)\n",
    "    \n",
    "\n",
    "#     # prints\n",
    "#     print(f'Fold Number: {i}')\n",
    "#     print(f'Balanced Accuracy: {balanced_acc}')\n",
    "#     print(f'Kappa Score : {kappa}\\n')\n",
    "#     i += i"
   ]
  },
  {
   "cell_type": "markdown",
   "id": "5bd3f99b",
   "metadata": {},
   "source": [
    "# 8.0 Model Performance"
   ]
  },
  {
   "cell_type": "markdown",
   "id": "5e415d70",
   "metadata": {},
   "source": [
    "## 8.1 Machine Learning Performance"
   ]
  },
  {
   "cell_type": "code",
   "execution_count": null,
   "id": "f16d5a8d",
   "metadata": {},
   "outputs": [],
   "source": []
  }
 ],
 "metadata": {
  "kernelspec": {
   "display_name": "Python 3 (ipykernel)",
   "language": "python",
   "name": "python3"
  },
  "language_info": {
   "codemirror_mode": {
    "name": "ipython",
    "version": 3
   },
   "file_extension": ".py",
   "mimetype": "text/x-python",
   "name": "python",
   "nbconvert_exporter": "python",
   "pygments_lexer": "ipython3",
   "version": "3.9.13"
  }
 },
 "nbformat": 4,
 "nbformat_minor": 5
}
